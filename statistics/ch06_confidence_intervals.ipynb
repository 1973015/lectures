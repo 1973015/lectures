{
 "cells": [
  {
   "cell_type": "markdown",
   "metadata": {
    "slideshow": {
     "slide_type": "slide"
    }
   },
   "source": [
    "## Chapter 06\n",
    "# Confidence Intervals\n",
    "\n",
    "Adopted from [\"Elementary Statistics - Picturing the World\" 6th edition](https://www.amazon.com/Elementary-Statistics-Picturing-World-6th/dp/0321911210/)"
   ]
  },
  {
   "cell_type": "code",
   "execution_count": 1,
   "metadata": {
    "slideshow": {
     "slide_type": "skip"
    }
   },
   "outputs": [
    {
     "data": {
      "text/plain": [
       "{'width': '100%', 'height': '100%', 'scroll': True}"
      ]
     },
     "execution_count": 1,
     "metadata": {},
     "output_type": "execute_result"
    }
   ],
   "source": [
    "from notebook.services.config import ConfigManager\n",
    "cm = ConfigManager()\n",
    "cm.update('livereveal', {\n",
    "        'scroll': True,\n",
    "        'width': \"100%\",\n",
    "        'height': \"100%\",\n",
    "})"
   ]
  },
  {
   "cell_type": "markdown",
   "metadata": {
    "slideshow": {
     "slide_type": "slide"
    }
   },
   "source": [
    "\n",
    "## 6.1 <br/>Confidence Intervals for the Mean ($\\sigma$ Known)"
   ]
  },
  {
   "cell_type": "markdown",
   "metadata": {
    "slideshow": {
     "slide_type": "subslide"
    }
   },
   "source": [
    "### Estimating Population Parameters\n",
    "\n",
    "- In this chapter, we will learn an important technique of statistical inference—to use sample statistics to estimate the value of an unknown population parameter.\n",
    "- In this section and the next, we will learn how to use sample statistics to make an estimate of the population parameter $\\mu$ when the population standard deviation $\\sigma$ is known (this section) or when $\\sigma$ is unknown. \n",
    "- To make such an inference, begin by finding a **point estimate**.\n"
   ]
  },
  {
   "cell_type": "markdown",
   "metadata": {
    "slideshow": {
     "slide_type": "subslide"
    }
   },
   "source": [
    "### Point Estimate\n",
    "\n",
    "- A **point estimate** is a single value estimate for a population parameter. \n",
    "- The most unbiased point estimate of the population mean $\\mu$ is the sample mean $\\bar{x}$.\n",
    "- The validity of an estimation method is increased when you use a sample statistic that is unbiased and has low variability. \n",
    "- A statistic is unbiased if it does not overestimate or underestimate the population parameter."
   ]
  },
  {
   "cell_type": "markdown",
   "metadata": {
    "slideshow": {
     "slide_type": "subslide"
    }
   },
   "source": [
    "### Finding a Point Estimate [example 1]\n",
    "\n",
    "- An economics researcher is collecting data about grocery store employees in a county. \n",
    "- The data listed below represents a random sample of the number of hours worked by $40$ employees from several grocery stores in the county. \n",
    "- Find a point estimate of the population mean $\\mu$.\n",
    "\n",
    "![](./image/6_1_ex_1_point_estimate.png)"
   ]
  },
  {
   "cell_type": "markdown",
   "metadata": {
    "slideshow": {
     "slide_type": "subslide"
    }
   },
   "source": [
    "### Finding a Point Estimate [solution]\n",
    "\n",
    "\n",
    "- The sample mean of the data is:\n",
    "\n",
    "$\\bar{x} = \\frac{\\sum{x}}{n} = \\frac{1184}{40} = 29.6$\n",
    "\n",
    "- The point estimate for the mean number of hours worked by grocery store employees in this county is $29.6$ hours.\n",
    "- The probability that the population mean is exactly $29.6$ is virtually zero. \n",
    "- Instead of estimating $\\mu$ to be exactly $29.6$ using a point estimate, we can estimate that $\\mu$ lies in an interval. \n",
    "- This is called making an **interval estimate**.\n"
   ]
  },
  {
   "cell_type": "markdown",
   "metadata": {
    "slideshow": {
     "slide_type": "subslide"
    }
   },
   "source": [
    "### Interval Estimate\n",
    "\n",
    "- An **interval estimate** is an interval, or range of values, used to estimate a population parameter.\n",
    "- To form an interval estimate, use the point estimate as the center of the interval, and then add and subtract a margin of error. \n",
    "- For instance, if the margin of error is $2.1$, then an interval estimate would be given by \n",
    " - $29.6 \\pm 2.1$ or \n",
    " - $27.5 < \\mu < 31.7$. \n",
    "- The point estimate and interval estimate are shown in the figure.\n",
    "\n",
    "![](./image/6_1_interval_estimate.png)\n",
    "\n",
    "- Before finding a margin of error for an interval estimate, we should first determine how confident we need to be that your interval estimate contains the population mean $\\mu$."
   ]
  },
  {
   "cell_type": "markdown",
   "metadata": {
    "slideshow": {
     "slide_type": "subslide"
    }
   },
   "source": [
    "### Level of Confidence\n",
    "\n",
    "- The **level of confidence** $c$ is the probability that the interval estimate contains the population parameter, assuming that the estimation process is repeated a large number of times.\n",
    "- We know from the Central Limit Theorem that when $n > 30$, the sampling distribution of sample means is a normal distribution. \n",
    "- The level of confidence $c$ is the area under the standard normal curve between the critical values, $-z_{c}$ and $z_{c}$.\n",
    "- **Critical values** are values that separate sample statistics that are probable from sample statistics that are improbable, or unusual.\n",
    "- We can see from the figure shown below that $c$ is the percent of the area under the normal curve between $-z_{c}$ and $z_{c}$. \n",
    "\n",
    "![](./image/6_1_level_of_confidence_graph.png)\n",
    "\n",
    "- The area remaining is $1 - c$, so the area in each tail is $\\frac{1}{2}(1 - c)$. \n",
    "- For instance, if $c = 90\\%$, then $5\\%$ of the area lies to the left of $-z_{c} -1.645$ and $5\\%$ lies to the right of $z_{c} = 1.645$, as shown in the table.\n"
   ]
  },
  {
   "cell_type": "code",
   "execution_count": null,
   "metadata": {},
   "outputs": [],
   "source": []
  }
 ],
 "metadata": {
  "celltoolbar": "Slideshow",
  "kernelspec": {
   "display_name": "Python 3",
   "language": "python",
   "name": "python3"
  },
  "language_info": {
   "codemirror_mode": {
    "name": "ipython",
    "version": 3
   },
   "file_extension": ".py",
   "mimetype": "text/x-python",
   "name": "python",
   "nbconvert_exporter": "python",
   "pygments_lexer": "ipython3",
   "version": "3.7.4"
  }
 },
 "nbformat": 4,
 "nbformat_minor": 2
}
