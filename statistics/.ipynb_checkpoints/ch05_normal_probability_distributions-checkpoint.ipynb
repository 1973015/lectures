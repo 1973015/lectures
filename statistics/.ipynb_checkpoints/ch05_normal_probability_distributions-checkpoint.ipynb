{
 "cells": [
  {
   "cell_type": "markdown",
   "metadata": {
    "slideshow": {
     "slide_type": "slide"
    }
   },
   "source": [
    "## Chapter 05\n",
    "# Normal Probability Distributions\n",
    "\n",
    "Adopted from [\"Elementary Statistics - Picturing the World\" 6th edition](https://www.amazon.com/Elementary-Statistics-Picturing-World-6th/dp/0321911210/)"
   ]
  },
  {
   "cell_type": "markdown",
   "metadata": {
    "slideshow": {
     "slide_type": "slide"
    }
   },
   "source": [
    "## 5.1. <br/>Introduction to Normal Distributions and <br/>the Standard Normal Distribution"
   ]
  },
  {
   "cell_type": "markdown",
   "metadata": {
    "slideshow": {
     "slide_type": "subslide"
    }
   },
   "source": [
    "### Definition of a Normal Distribution\n",
    "\n",
    "- A **normal distribution** is a continuous probability distribution for a random variable $x$. \n",
    "- The graph of a normal distribution is called the **normal curve**."
   ]
  },
  {
   "cell_type": "markdown",
   "metadata": {
    "slideshow": {
     "slide_type": "subslide"
    }
   },
   "source": [
    "### Properties of a Normal Distribution\n",
    "\n",
    "A normal distribution has these properties:\n",
    "\n",
    "1. The mean, median, and mode are equal.\n",
    "2. The normal curve is bell-shaped and is symmetric about the mean.\n",
    "3. The total area under the normal curve is equal to 1.\n",
    "4. The normal curve approaches, but never touches, the $x$-axis as it extends farther and farther away from the mean\n",
    "5. Between $\\mu - \\sigma$ and $\\mu + \\sigma$ (in the center of the curve), the graph curves downward.<br/> The graph curves upward to the left of $\\mu - \\sigma$ and to the right of $\\mu + \\sigma$.<br/> The points at which the curve changes from curving upward to curving downward are called **inflection points**."
   ]
  },
  {
   "cell_type": "markdown",
   "metadata": {
    "slideshow": {
     "slide_type": "subslide"
    }
   },
   "source": [
    "### Properties of a Normal Distribution\n",
    "\n",
    "![](./image/5_1_normal_distribution.png)"
   ]
  },
  {
   "cell_type": "markdown",
   "metadata": {
    "slideshow": {
     "slide_type": "subslide"
    }
   },
   "source": [
    "### Properties of a Normal Distribution\n",
    "- A discrete probability distribution can be graphed with a histogram. \n",
    "- A continuous probability distribution, you can use a probability density function (pdf). \n",
    "- A probability density function has two requirements:\n",
    "    1. the total area under the curve is equal to 1, and \n",
    "    2. the function can never be negative.\n",
    "- Formula for pdf: $y = \\frac{1}{\\sigma \\sqrt{2 \\pi}} e^{-(x-\\mu)^{2}/(2 \\sigma^{2})}$"
   ]
  },
  {
   "cell_type": "markdown",
   "metadata": {
    "slideshow": {
     "slide_type": "subslide"
    }
   },
   "source": [
    "#### Meand and Standard Deviation (recap)\n",
    "\n",
    "![](./image/5_1_mean_and_std.png)"
   ]
  },
  {
   "cell_type": "markdown",
   "metadata": {
    "slideshow": {
     "slide_type": "subslide"
    }
   },
   "source": [
    "### Properties of a Normal Distribution [example]\n",
    "\n",
    "Understanding Mean and Standard Deviation\n",
    "\n",
    "![](./image/5_1_example_understanding_mean_and_std.png)\n",
    "\n",
    "1. Which normal curve has a greater mean?\n",
    "2. Which normal curve has a greater standard deviation?\n"
   ]
  },
  {
   "cell_type": "markdown",
   "metadata": {
    "slideshow": {
     "slide_type": "subslide"
    }
   },
   "source": [
    "### Properties of a Normal Distribution [solution]\n",
    "\n",
    "1. The line of symmetry of curve A occurs at $x = 15$.<br/>The line of symmetry of curve B occurs at $x = 12$.<br/>So, curve A has a greater mean.\n",
    "2. Curve B is more spread out than curve A.<br/>So, curve B has a greater standard deviation."
   ]
  },
  {
   "cell_type": "markdown",
   "metadata": {
    "slideshow": {
     "slide_type": "subslide"
    }
   },
   "source": [
    "### Properties of a Normal Distribution [example]\n",
    "\n",
    "Interpreting Graphs of Normal Distributions\n",
    "\n",
    "- The scaled test scores for the New York State Grade 8 Mathematics Test are normally distributed. \n",
    "- The normal curve shown below represents this distribution. \n",
    "- What is the mean test score? Estimate the standard deviation of this normal distribution.\n",
    "\n",
    "![](./image/5_1_example_interpreting_graph_of_normal_distribution.png)"
   ]
  },
  {
   "cell_type": "markdown",
   "metadata": {
    "slideshow": {
     "slide_type": "subslide"
    }
   },
   "source": [
    "### Properties of a Normal Distribution [solution]\n",
    "\n",
    "![](./image/5_1_solution_interpreting_graph_of_normal_distribution.png)\n",
    "\n",
    "The scaled test scores for the New York State Grade 8 Mathematics Test are normally distributed with a mean of about 675 and a standard deviation of about 35."
   ]
  },
  {
   "cell_type": "markdown",
   "metadata": {
    "slideshow": {
     "slide_type": "subslide"
    }
   },
   "source": [
    "### The Standard Normal Distribution\n",
    "\n",
    "- The normal distribution with a mean of $0$ and a standard deviation of $1$ is called the standard normal distribution. \n",
    "- The horizontal scale of the graph of the standard normal distribution corresponds to $z$-scores.\n",
    "- $z = \\frac{value - mean}{standard deviation} = \\frac{x - \\mu}{\\sigma}$\n",
    "\n",
    "![](./image/5_1_standard_normal_distribution.png)\n",
    "\n",
    "It is important that you know the difference between $x$ and $z$.\n",
    "The random variable x is sometimes called a raw score and represents values in a nonstandard normal distribution, whereas $z$ represents values in the standard normal distribution."
   ]
  },
  {
   "cell_type": "markdown",
   "metadata": {
    "slideshow": {
     "slide_type": "subslide"
    }
   },
   "source": [
    "### Properties of the Standard Normal Distribution\n",
    "\n",
    "1. The cumulative area is close to $0$ for $z$-scores close to $z = -3.49$.\n",
    "2. The cumulative area increases as the $z$-scores increase.\n",
    "3. The cumulative area for $z = 0$ is $0.5000$.\n",
    "4. The cumulative area is close to $1$ for $z$-scores close to $z = 3.49$."
   ]
  },
  {
   "cell_type": "markdown",
   "metadata": {
    "slideshow": {
     "slide_type": "subslide"
    }
   },
   "source": [
    "### Using the Standard Normal Table [example]\n",
    "\n",
    "1. Find the cumulative area that corresponds to a $z$-score of $1.15$.\n",
    "2. Find the cumulative area that corresponds to a $z$-score of $-0.24$."
   ]
  },
  {
   "cell_type": "markdown",
   "metadata": {
    "slideshow": {
     "slide_type": "subslide"
    }
   },
   "source": [
    "### Using the Standard Normal Table [solution]\n",
    "\n",
    "- Cumulative area that corresponds to a $z$-score of $1.15$\n",
    "\n",
    "![](./image/5_1_example_table_z_1_15.png)\n",
    "![](./image/5_1_example_graph_z_1_15.png)"
   ]
  },
  {
   "cell_type": "markdown",
   "metadata": {
    "slideshow": {
     "slide_type": "subslide"
    }
   },
   "source": [
    "### Using $z$-score calculator [solution]\n",
    "\n",
    "- Cumulative area that corresponds to a $z$-score of $1.15$\n",
    "- [$z$-score calculator](https://www.calculator.net/z-score-calculator.html)\n",
    "\n",
    "![](./image/5_1_example_graph_z_1_15.png)"
   ]
  },
  {
   "cell_type": "markdown",
   "metadata": {
    "slideshow": {
     "slide_type": "subslide"
    }
   },
   "source": [
    "### Using scipy [solution]\n",
    "\n",
    "- Cumulative area that corresponds to a $z$-score of $1.15$\n",
    "\n",
    "![](./image/5_1_example_graph_z_1_15.png)"
   ]
  },
  {
   "cell_type": "code",
   "execution_count": 1,
   "metadata": {},
   "outputs": [
    {
     "data": {
      "text/plain": [
       "0.8749280643628496"
      ]
     },
     "execution_count": 1,
     "metadata": {},
     "output_type": "execute_result"
    }
   ],
   "source": [
    "from scipy import stats\n",
    "stats.norm.cdf(1.15)"
   ]
  },
  {
   "cell_type": "markdown",
   "metadata": {
    "slideshow": {
     "slide_type": "subslide"
    }
   },
   "source": [
    "### Using the Standard Normal Table [solution]\n",
    "\n",
    "- Cumulative area that corresponds to a $z$-score of $-0.24$\n",
    "\n",
    "![](./image/5_1_example_table_z_0_24.png)\n",
    "![](./image/5_1_example_graph_z_0_24.png)"
   ]
  },
  {
   "cell_type": "markdown",
   "metadata": {
    "slideshow": {
     "slide_type": "subslide"
    }
   },
   "source": [
    "### Using scipy [solution]\n",
    "\n",
    "- Cumulative area that corresponds to a $z$-score of $-0.24$\n",
    "\n",
    "![](./image/5_1_example_graph_z_0_24.png)"
   ]
  },
  {
   "cell_type": "code",
   "execution_count": 2,
   "metadata": {},
   "outputs": [
    {
     "data": {
      "text/plain": [
       "0.40516512830220414"
      ]
     },
     "execution_count": 2,
     "metadata": {},
     "output_type": "execute_result"
    }
   ],
   "source": [
    "from scipy import stats\n",
    "stats.norm.cdf(-0.24)"
   ]
  },
  {
   "cell_type": "markdown",
   "metadata": {
    "slideshow": {
     "slide_type": "subslide"
    }
   },
   "source": [
    "### Finding Areas Under the Standard Normal Curve [guidelines]\n",
    "\n",
    "To find the area to the left of $z$, find the area that corresponds to $z$ in the Standard Normal Table.\n",
    "\n",
    "![](./image/5_1_graph_left_of_z.png)"
   ]
  },
  {
   "cell_type": "markdown",
   "metadata": {
    "slideshow": {
     "slide_type": "subslide"
    }
   },
   "source": [
    "### Finding Areas Under the Standard Normal Curve [guidelines]\n",
    "\n",
    "To find the area to the right of $z$, use the Standard Normal Table to find the area that corresponds to $z$.<br/>\n",
    "Then subtract the area from $1$.\n",
    "    \n",
    "![](./image/5_1_graph_right_of_z.png)"
   ]
  },
  {
   "cell_type": "markdown",
   "metadata": {
    "slideshow": {
     "slide_type": "subslide"
    }
   },
   "source": [
    "### Finding Areas Under the Standard Normal Curve [guidelines]\n",
    "\n",
    "To find the area between two $z$-scores, find the area corresponding to each $z$-score in the Standard Normal Table. <br/>\n",
    "Then subtract the smaller area from the larger area.\n",
    "\n",
    "![](./image/5_1_graph_between_two_z.png)"
   ]
  },
  {
   "cell_type": "markdown",
   "metadata": {
    "slideshow": {
     "slide_type": "subslide"
    }
   },
   "source": [
    "### Finding Area Under the Standard Normal Curve [example]\n",
    "\n",
    "Find the area under the standard normal curve to the left of $z = -0.99$."
   ]
  },
  {
   "cell_type": "markdown",
   "metadata": {
    "slideshow": {
     "slide_type": "subslide"
    }
   },
   "source": [
    "### Finding Area Under the Standard Normal Curve [solution]\n",
    "\n",
    "The area under the standard normal curve to the left of $z = -0.99$ is shown.\n",
    "\n",
    "![](./image/5_1_area_under_standard_normal_curve.png)\n",
    "\n",
    "From the Standard Normal Table, this area is equal to $0.1611$."
   ]
  },
  {
   "cell_type": "code",
   "execution_count": 3,
   "metadata": {},
   "outputs": [
    {
     "data": {
      "text/plain": [
       "0.1610870595108309"
      ]
     },
     "execution_count": 3,
     "metadata": {},
     "output_type": "execute_result"
    }
   ],
   "source": [
    "from scipy import stats\n",
    "stats.norm.cdf(-0.99)"
   ]
  },
  {
   "cell_type": "markdown",
   "metadata": {
    "slideshow": {
     "slide_type": "subslide"
    }
   },
   "source": [
    "### Finding Area Under the Standard Normal Curve [example]\n",
    "\n",
    "Find the area under the standard normal curve to the left of $z = -0.99$."
   ]
  },
  {
   "cell_type": "markdown",
   "metadata": {
    "slideshow": {
     "slide_type": "subslide"
    }
   },
   "source": [
    "### Finding Area Under the Standard Normal Curve [solution]\n",
    "\n",
    "The area under the standard normal curve to the right of $z = 1.06$ is shown.\n",
    "\n",
    "![](./image/5_1_area_under_standard_normal_curve_right.png)\n",
    "\n",
    "From the Standard Normal Table, the area to the left of $z = 1.06$ is $0.8554$. <br/>\n",
    "$Area = 1 - 0.8554 = 0.1446$"
   ]
  },
  {
   "cell_type": "code",
   "execution_count": 4,
   "metadata": {},
   "outputs": [
    {
     "data": {
      "text/plain": [
       "0.1445722996639096"
      ]
     },
     "execution_count": 4,
     "metadata": {},
     "output_type": "execute_result"
    }
   ],
   "source": [
    "from scipy import stats\n",
    "1 - stats.norm.cdf(1.06)"
   ]
  },
  {
   "cell_type": "markdown",
   "metadata": {
    "slideshow": {
     "slide_type": "subslide"
    }
   },
   "source": [
    "### Finding Area Under the Standard Normal Curve [example]\n",
    "\n",
    "Find the area under the standard normal curve between $z = -1.5$ and $z = 1.25$."
   ]
  },
  {
   "cell_type": "markdown",
   "metadata": {
    "slideshow": {
     "slide_type": "subslide"
    }
   },
   "source": [
    "### Finding Area Under the Standard Normal Curve [solution]\n",
    "\n",
    "The area under the standard normal curve between $z = -1.5$ and $z = 1.25$ is shown.\n",
    "\n",
    "![](./image/5_1_area_under_standard_normal_curve_between.png)\n",
    "\n",
    "From the Standard Normal Table, the area to the left of $z = 1.25$ is $0.8944$ and the area to the left of $z = -1.5$ is $0.0668$. <br/>\n",
    "$Area = 0.8944 - 0.0668 = 0.8276$"
   ]
  },
  {
   "cell_type": "code",
   "execution_count": 5,
   "metadata": {},
   "outputs": [
    {
     "data": {
      "text/plain": [
       "0.8275430250642866"
      ]
     },
     "execution_count": 5,
     "metadata": {},
     "output_type": "execute_result"
    }
   ],
   "source": [
    "from scipy import stats\n",
    "stats.norm.cdf(1.25) - stats.norm.cdf(-1.5)"
   ]
  },
  {
   "cell_type": "markdown",
   "metadata": {
    "slideshow": {
     "slide_type": "slide"
    }
   },
   "source": [
    "## 5.2. <br/>Normal Distributions: Finding Probabilities"
   ]
  },
  {
   "cell_type": "markdown",
   "metadata": {
    "slideshow": {
     "slide_type": "subslide"
    }
   },
   "source": [
    "### Probability and Normal Distributions\n",
    "\n",
    "- When a random variable $x$ is normally distributed, we can find the probability that $x$ will lie in an interval by calculating the area under the normal curve for the interval. \n",
    "- To find the area under any normal curve, first convert the upper and lower bounds of the interval to $z$-scores. \n",
    "- Then use the standard normal distribution to find the area."
   ]
  },
  {
   "cell_type": "markdown",
   "metadata": {
    "slideshow": {
     "slide_type": "subslide"
    }
   },
   "source": [
    "### Finding Probabilities for Normal Distributions [example]\n",
    "\n",
    "- A survey indicates that people keep their cell phone an average of $1.5$ years before buying a new one. \n",
    "- The standard deviation is $0.25$ year. \n",
    "- A cell phone user is selected at random. \n",
    "- Find the probability that the user will keep his or her current phone for less than $1$ year before buying a new one. \n",
    "- Assume that the lengths of time people keep their phone are normally distributed and are represented by the variable $x$."
   ]
  },
  {
   "cell_type": "markdown",
   "metadata": {
    "slideshow": {
     "slide_type": "subslide"
    }
   },
   "source": [
    "### Finding Probabilities for Normal Distributions [solution]\n",
    "\n",
    "![](./image/5_2_example_graph_age_of_cellphone.png)\n",
    "\n",
    "- The figure shows a normal curve with $\\mu = 1.5$, $\\sigma = 0.25$, and the shaded area for $x$ less than $1$.\n",
    "- The $z$-score that corresponds to $1$ year is $z = \\frac{x - \\mu}{\\sigma} = \\frac{1 - 1.5}{0.25} = -2$\n",
    "- The Standard Normal Table shows that $P(z < -2) = 0.0228$. \n",
    "- The probability that the user will keep his or her phone for less than 1 year before buying a new one is 0.0228.\n",
    "\n"
   ]
  },
  {
   "cell_type": "code",
   "execution_count": 6,
   "metadata": {},
   "outputs": [
    {
     "data": {
      "text/plain": [
       "0.022750131948179195"
      ]
     },
     "execution_count": 6,
     "metadata": {},
     "output_type": "execute_result"
    }
   ],
   "source": [
    "from scipy import stats\n",
    "stats.norm.cdf(-2)"
   ]
  },
  {
   "cell_type": "markdown",
   "metadata": {
    "slideshow": {
     "slide_type": "subslide"
    }
   },
   "source": [
    "### Finding Probabilities for Normal Distributions [solution]\n",
    "\n",
    "#### Interpretation  \n",
    "\n",
    "- $2.28\\%$ of cell phone users will keep their phone for less than $1$ year before buying a new one. \n",
    "- Because $2.28\\%$ is less than $5\\%$, this is an **unusual event**."
   ]
  },
  {
   "cell_type": "markdown",
   "metadata": {
    "slideshow": {
     "slide_type": "subslide"
    }
   },
   "source": [
    "### Finding Probabilities for Normal Distributions [example]\n",
    "\n",
    "- A survey indicates that for each trip to a supermarket, a shopper spends an average of $45$ minutes with a standard deviation of $12$ minutes in the store. \n",
    "- The lengths of time spent in the store are normally distributed and are represented by the variable $x$. \n",
    "- A shopper enters the store:\n",
    "    1. Find the probability that the shopper will be in the store for each interval of time listed below. \n",
    "    2. Interpret your answer when 200 shoppers enter the store. How many shoppers would you expect to be in the store for each interval of time listed below?\n",
    "- Interval of interest:\n",
    "    - Between 24 and 54 minutes    \n",
    "    - More than 39 minutes"
   ]
  },
  {
   "cell_type": "markdown",
   "metadata": {
    "slideshow": {
     "slide_type": "subslide"
    }
   },
   "source": [
    "### Finding Probabilities for Normal Distributions [solution]\n",
    "\n",
    "![](./image/5_2_example_supermarket_shopper_a.png)\n",
    "\n",
    "- The figure shows a normal curve with $\\mu = 45$ minutes and $\\sigma = 12$ minutes. \n",
    "- The area for $x$ between $24$ and $54$ minutes is shaded.\n",
    "- The $z$-scores that correspond to $24$ minutes and to $54$ minutes are:\n",
    "    - $z_{1} = \\frac{24 - 45}{12} = -1.75$\n",
    "    - $z_{2} = \\frac{54 - 45}{12} = 0.75$\n",
    "- The probability that a shopper will be in the store between $24$ and $54$ minutes is:\n",
    "\n",
    "$$ \n",
    "\\begin{aligned}\n",
    "P(24 < x < 54)  &= P(-1.75 < z < 0.75) \\\\\n",
    "                &= P(z < 0.75) - P(z < -1.75) \\\\\n",
    "                &= 0.7734 - 0.0401 = 0.7333\n",
    "\\end{aligned}\n",
    "$$"
   ]
  },
  {
   "cell_type": "code",
   "execution_count": 7,
   "metadata": {},
   "outputs": [
    {
     "data": {
      "text/plain": [
       "0.7333134907593146"
      ]
     },
     "execution_count": 7,
     "metadata": {},
     "output_type": "execute_result"
    }
   ],
   "source": [
    "from scipy import stats\n",
    "stats.norm.cdf(0.75) - stats.norm.cdf(-1.75)"
   ]
  },
  {
   "cell_type": "markdown",
   "metadata": {
    "slideshow": {
     "slide_type": "subslide"
    }
   },
   "source": [
    "### Finding Probabilities for Normal Distributions [solution]\n",
    "\n",
    "#### Interpretation\n",
    "\n",
    "When $200$ shoppers enter the store, you would expect $200 \\times 0.7333 = 146.66$, or about $147$, shoppers to be in the store between $24$ and $54$ minutes."
   ]
  },
  {
   "cell_type": "markdown",
   "metadata": {
    "slideshow": {
     "slide_type": "subslide"
    }
   },
   "source": [
    "### Finding Probabilities for Normal Distributions [solution]\n",
    "\n",
    "![](./image/5_2_example_supermarket_shopper_b.png)\n",
    "\n",
    "- The figure at the left shows a normal curve with $\\mu = 45$ minutes and $\\sigma = 12$ minutes. \n",
    "- The area for $x$ greater than $39$ minutes is shaded. \n",
    "- The $z$-score that corresponds to $39$ minutes is: $z = \\frac{39 - 45}{12} = -0.5$\n",
    "- The probability that a shopper will be in the store more than $39$ minutes is:\n",
    "\n",
    "$$ \n",
    "\\begin{aligned}\n",
    "P(x > 39) &= P(z > -0.5) \\\\\n",
    "          &= 1 - P(z < -0.5) \\\\\n",
    "          &= 1 - 0.3085 = 0.6915\n",
    "\\end{aligned}\n",
    "$$"
   ]
  },
  {
   "cell_type": "code",
   "execution_count": 8,
   "metadata": {},
   "outputs": [
    {
     "data": {
      "text/plain": [
       "0.6914624612740131"
      ]
     },
     "execution_count": 8,
     "metadata": {},
     "output_type": "execute_result"
    }
   ],
   "source": [
    "from scipy import stats\n",
    "1 - stats.norm.cdf(-0.5)"
   ]
  },
  {
   "cell_type": "markdown",
   "metadata": {
    "slideshow": {
     "slide_type": "subslide"
    }
   },
   "source": [
    "### Finding Probabilities for Normal Distributions [solution]\n",
    "\n",
    "#### Interpretation\n",
    "\n",
    "When $200$ shoppers enter the store, you would expect $200 \\times 0.6915 = 138.3$, or about $138$, shoppers to be in the store more than $39$ minutes."
   ]
  },
  {
   "cell_type": "markdown",
   "metadata": {
    "slideshow": {
     "slide_type": "slide"
    }
   },
   "source": [
    "## 5.3 <br/>Normal Distributions: Finding Values"
   ]
  },
  {
   "cell_type": "markdown",
   "metadata": {
    "slideshow": {
     "slide_type": "subslide"
    }
   },
   "source": [
    "### Finding $z$-Scores\n",
    "\n",
    "- We were given a normally distributed random variable $x$ and we found the probability that $x$ would lie in an interval by calculating the area under the normal curve for the interval.\n",
    "- But what if you are given a probability and want to find a value?"
   ]
  },
  {
   "cell_type": "markdown",
   "metadata": {
    "slideshow": {
     "slide_type": "subslide"
    }
   },
   "source": [
    "### Finding a $z$-Score Given an Area [example]\n",
    "\n",
    "1. Find the $z$-score that corresponds to a cumulative area of $0.3632$.\n",
    "2. Find the $z$-score that has $10.75\\%$ of the distribution’s area to its right."
   ]
  },
  {
   "cell_type": "markdown",
   "metadata": {
    "slideshow": {
     "slide_type": "subslide"
    }
   },
   "source": [
    "### Finding a $z$-Score Given an Area using the Standard Normal Table [solution]\n",
    "\n",
    "Q1. Find the $z$-score that corresponds to a cumulative area of $0.3632$.\n",
    "\n",
    "\n",
    "![](./image/5_3_example_table_given_an_area_a.png)\n",
    "\n",
    "- Find the $z$-score that corresponds to an area of $0.3632$ by locating $0.3632$ in the Standard Normal Table. \n",
    "- The values at the beginning of the corresponding row and at the top of the corresponding column give the $z$-score. \n",
    "- For this area, the row value is $-0.3$ and the column value is $0.05$. \n",
    "- The $z$-score is $-0.35$, as shown in the figure.\n",
    "\n",
    "![](./image/5_3_example_graph_given_an_area_a.png)"
   ]
  },
  {
   "cell_type": "markdown",
   "metadata": {
    "slideshow": {
     "slide_type": "subslide"
    }
   },
   "source": [
    "### Finding a $z$-Score Given an Area [solution]\n",
    "\n",
    "Q1. Find the $z$-score that corresponds to a cumulative area of $0.3632$.\n",
    "\n",
    "- [$z$-score calculator](https://www.calculator.net/z-score-calculator.html)\n",
    "\n",
    "![](./image/5_3_example_graph_given_an_area_a.png)"
   ]
  },
  {
   "cell_type": "markdown",
   "metadata": {
    "slideshow": {
     "slide_type": "subslide"
    }
   },
   "source": [
    "### Finding a $z$-Score Given an Area using scipy [solution]\n",
    "\n",
    "Q1. Find the $z$-score that corresponds to a cumulative area of $0.3632$.\n",
    "\n",
    "![](./image/5_3_example_graph_given_an_area_a.png)"
   ]
  },
  {
   "cell_type": "code",
   "execution_count": 9,
   "metadata": {},
   "outputs": [
    {
     "data": {
      "text/plain": [
       "-0.34991831705262144"
      ]
     },
     "execution_count": 9,
     "metadata": {},
     "output_type": "execute_result"
    }
   ],
   "source": [
    "from scipy import stats\n",
    "stats.norm.ppf(0.3632)"
   ]
  },
  {
   "cell_type": "markdown",
   "metadata": {
    "slideshow": {
     "slide_type": "subslide"
    }
   },
   "source": [
    "### Finding a $z$-Score Given an Area [solution]\n",
    "\n",
    "Q2. Find the $z$-score that has $10.75\\%$ of the distribution’s area to its right.\n",
    "\n",
    "![](./image/5_3_example_table_given_an_area_b.png)\n",
    "\n",
    "- [$z$-score calculator](https://www.calculator.net/z-score-calculator.html)\n",
    "- Because the area to the right is $10.75\\%$, the cumulative area is $1 - 0.1075 = 0.8925$. \n",
    "- Find the $z$-score that corresponds to an area of $0.8925$ by locating $0.8925$ in the Standard Normal Table. \n",
    "- For this area, the row value is $1.2$ and the column value is $0.04$. \n",
    "- The $z$-score is $1.24$, as shown in the figure.\n",
    "\n",
    "![](./image/5_3_example_graph_given_an_area_b.png)"
   ]
  },
  {
   "cell_type": "markdown",
   "metadata": {
    "slideshow": {
     "slide_type": "subslide"
    }
   },
   "source": [
    "### Finding a $z$-Score Given an Area using scipy [solution]\n",
    "\n",
    "Q2. Find the $z$-score that has $10.75\\%$ of the distribution’s area to its right.\n",
    "\n",
    "![](./image/5_3_example_graph_given_an_area_b.png)"
   ]
  },
  {
   "cell_type": "code",
   "execution_count": 10,
   "metadata": {},
   "outputs": [
    {
     "data": {
      "text/plain": [
       "1.2399334778907378"
      ]
     },
     "execution_count": 10,
     "metadata": {},
     "output_type": "execute_result"
    }
   ],
   "source": [
    "from scipy import stats\n",
    "p = 1 - (10.75/100)\n",
    "stats.norm.ppf(p)"
   ]
  },
  {
   "cell_type": "markdown",
   "metadata": {
    "slideshow": {
     "slide_type": "subslide"
    }
   },
   "source": [
    "### Finding a $z$-Score Given a Percentile [example]\n",
    "\n",
    "Find the $z$-score that corresponds to each percentile:\n",
    "\n",
    "1. $P_{5}$         \n",
    "2. $P_{50}$         \n",
    "3. $P_{90}$"
   ]
  },
  {
   "cell_type": "markdown",
   "metadata": {
    "slideshow": {
     "slide_type": "subslide"
    }
   },
   "source": [
    "### Finding a $z$-Score Given a Percentile [solution]\n",
    "Q1. $P_{5}$         \n",
    "\n",
    "\n",
    "- [$z$-score calculator](https://www.calculator.net/z-score-calculator.html)\n",
    "- To find the $z$-score that corresponds to $P_{5}$ , find the $z$-score that corresponds to an area of $0.05$ (see the figure) by locating $0.05$ in the Standard Normal Table. \n",
    "- The areas closest to $0.05$ in the table are $0.0495$ $(z = -1.65)$ and $0.0505$ $(z = -1.64)$. \n",
    "- Because $0.05$ is halfway between the two areas in the table, use the $z$-score that is halfway between $-1.64$ and $-1.65$. \n",
    "- The $z$-score that corresponds to an area of $0.05$ is $-1.645$.\n",
    "\n",
    "![](./image/5_3_example_graph_z_score_percentile_a.png)"
   ]
  },
  {
   "cell_type": "markdown",
   "metadata": {
    "slideshow": {
     "slide_type": "subslide"
    }
   },
   "source": [
    "### Finding a $z$-Score Given a Percentile using scipy [solution]\n",
    "Q1. $P_{5}$    \n",
    "\n",
    "![](./image/5_3_example_graph_z_score_percentile_a.png)"
   ]
  },
  {
   "cell_type": "code",
   "execution_count": 11,
   "metadata": {},
   "outputs": [
    {
     "data": {
      "text/plain": [
       "-1.6448536269514729"
      ]
     },
     "execution_count": 11,
     "metadata": {},
     "output_type": "execute_result"
    }
   ],
   "source": [
    "from scipy import stats\n",
    "stats.norm.ppf(5/100)"
   ]
  },
  {
   "cell_type": "markdown",
   "metadata": {
    "slideshow": {
     "slide_type": "subslide"
    }
   },
   "source": [
    "### Finding a $z$-Score Given a Percentile [solution]\n",
    "\n",
    "Q2. $P_{50}$         \n",
    "\n",
    "\n",
    "- [$z$-score calculator](https://www.calculator.net/z-score-calculator.html)\n",
    "- To find the $z$-score that corresponds to $P_{50}$ , find the $z$-score that corresponds to an area of $0.5$ (see the figure) by locating $0.5$ in the Standard Normal Table. \n",
    "- The area closest to $0.5$ in the table is $0.5000$, so the $z$-score that corresponds to an area of $0.5$ is $0$.\n",
    "\n",
    "![](./image/5_3_example_graph_z_score_percentile_b.png)"
   ]
  },
  {
   "cell_type": "markdown",
   "metadata": {
    "slideshow": {
     "slide_type": "subslide"
    }
   },
   "source": [
    "### Finding a $z$-Score Given a Percentile using scipy [solution]\n",
    "\n",
    "Q2. $P_{50}$         \n",
    "\n",
    "![](./image/5_3_example_graph_z_score_percentile_b.png)"
   ]
  },
  {
   "cell_type": "code",
   "execution_count": 12,
   "metadata": {},
   "outputs": [
    {
     "data": {
      "text/plain": [
       "0.0"
      ]
     },
     "execution_count": 12,
     "metadata": {},
     "output_type": "execute_result"
    }
   ],
   "source": [
    "from scipy import stats\n",
    "stats.norm.ppf(50/100)"
   ]
  },
  {
   "cell_type": "markdown",
   "metadata": {
    "slideshow": {
     "slide_type": "subslide"
    }
   },
   "source": [
    "### Finding a $z$-Score Given a Percentile [solution]\n",
    "\n",
    "Q3. $P_{90}$\n",
    "\n",
    "- [$z$-score calculator](https://www.calculator.net/z-score-calculator.html)\n",
    "- To find the $z$-score that corresponds to $P_{90}$ , find the $z$-score that corresponds to an area of $0.9$ (see the figure) by locating $0.9$ in the Standard Normal Table. \n",
    "- The area closest to $0.9$ in the table is $0.8997$\n",
    "- The $z$-score that corresponds to an area of $0.9$ is about $1.28$.\n",
    "\n",
    "![](./image/5_3_example_graph_z_score_percentile_c.png)"
   ]
  },
  {
   "cell_type": "markdown",
   "metadata": {
    "slideshow": {
     "slide_type": "subslide"
    }
   },
   "source": [
    "### Finding a $z$-Score Given a Percentile using scipy [solution]\n",
    "\n",
    "Q3. $P_{90}$\n",
    "\n",
    "![](./image/5_3_example_graph_z_score_percentile_c.png)"
   ]
  },
  {
   "cell_type": "code",
   "execution_count": 13,
   "metadata": {},
   "outputs": [
    {
     "data": {
      "text/plain": [
       "1.2815515655446004"
      ]
     },
     "execution_count": 13,
     "metadata": {},
     "output_type": "execute_result"
    }
   ],
   "source": [
    "from scipy import stats\n",
    "stats.norm.ppf(90/100)"
   ]
  },
  {
   "cell_type": "markdown",
   "metadata": {
    "slideshow": {
     "slide_type": "subslide"
    }
   },
   "source": [
    "### Transforming a $z$-Score to an $x$-Value\n",
    "\n",
    "$$ \n",
    "\\begin{aligned}\n",
    "z &= \\frac{x - \\mu}{\\sigma} \\\\\n",
    "z \\sigma &= x - \\mu \\\\\n",
    "\\mu + z \\sigma &= x \\\\\n",
    "x &= \\mu + z \\sigma\n",
    "\\end{aligned}\n",
    "$$"
   ]
  },
  {
   "cell_type": "markdown",
   "metadata": {
    "slideshow": {
     "slide_type": "subslide"
    }
   },
   "source": [
    "### Finding an $x$-Value Corresponding to a $z$-Score [example]\n",
    "\n",
    "- A veterinarian records the weights of cats treated at a clinic. \n",
    "- The weights are normally distributed, with a mean of $9$ pounds and a standard deviation of $2$ pounds. \n",
    "- Find the weights $x$ corresponding to $z$-scores of $1.96$, $-0.44$, and $0$.\n",
    "- Interpret your results."
   ]
  },
  {
   "cell_type": "markdown",
   "metadata": {
    "slideshow": {
     "slide_type": "subslide"
    }
   },
   "source": [
    "### Finding an $x$-Value Corresponding to a $z$-Score [solution]\n",
    "\n",
    "- The $x$-value that corresponds to each standard $z$-score is calculated using the formula $x = \\mu + z \\sigma$. \n",
    "- Note that $\\mu = 9$ and $\\sigma = 2$.\n",
    "\n",
    "$$ \n",
    "\\begin{aligned}\n",
    "z = 1.96 &: x = 9 + 1.96 \\times 2 = 12.92 \\\\\n",
    "z = -0.44 &: x = 9 + (-0.44) \\times 2 = 8.12 \\\\\n",
    "z = 0 &: x = 9 + 0 \\times 2 = 9 \\\\\n",
    "\\end{aligned}\n",
    "$$"
   ]
  },
  {
   "cell_type": "markdown",
   "metadata": {
    "slideshow": {
     "slide_type": "subslide"
    }
   },
   "source": [
    "### Finding an $x$-Value Corresponding to a $z$-Score [solution]\n",
    "\n",
    "#### Interpretation  \n",
    "\n",
    "You can see that $12.92$ pounds is above the mean, $8.12$ pounds is below the mean, and $9$ pounds is equal to the mean."
   ]
  },
  {
   "cell_type": "markdown",
   "metadata": {
    "slideshow": {
     "slide_type": "subslide"
    }
   },
   "source": [
    "### Finding a Specific Data Value for a Given Probability\n",
    "\n",
    "We can also use the normal distribution to find a specific data value ($x$-value) for a given probability"
   ]
  },
  {
   "cell_type": "markdown",
   "metadata": {
    "slideshow": {
     "slide_type": "subslide"
    }
   },
   "source": [
    "### Finding a Specific Data Value [example]\n",
    "\n",
    "- Scores for the California Peace Officer Standards and Training test are normally distributed, with a mean of $50$ and a standard deviation of $10$. \n",
    "- An agency will only hire applicants with scores in the top $10\\%$. \n",
    "- What is the lowest score an applicant can earn and still be eligible to be hired by the agency?"
   ]
  },
  {
   "cell_type": "markdown",
   "metadata": {
    "slideshow": {
     "slide_type": "subslide"
    }
   },
   "source": [
    "### Finding a Specific Data Value [solution]\n",
    "\n",
    "- Exam scores in the top $10\\%$ correspond to the shaded region shown.\n",
    "\n",
    "![](./image/5_3_california_peace_officer_score_graph.png)"
   ]
  },
  {
   "cell_type": "markdown",
   "metadata": {
    "slideshow": {
     "slide_type": "subslide"
    }
   },
   "source": [
    "### Finding a Specific Data Value [solution]\n",
    "\n",
    "- A test score in the top $10\\%$ is any score above the $90^{th}$ percentile. \n",
    "- To find the score that represents the $90^{th}$ percentile, you must first find the $z$-score that corresponds to a cumulative area of $0.9$. \n",
    "- In the Standard Normal Table, the area closest to $0.9$ is $0.8997$.\n",
    "- The $z$-score that corresponds to an area of $0.9$ is $z = 1.28$.\n",
    "- [$z$-score calculator](https://www.calculator.net/z-score-calculator.html)\n",
    "- To find the $x$-value, note that $\\mu = 50$ and $\\sigma = 10$, and use the formula $x = \\mu + z \\sigma = 50 + 1.28 \\times 10 = 62.8$"
   ]
  },
  {
   "cell_type": "code",
   "execution_count": 17,
   "metadata": {},
   "outputs": [
    {
     "name": "stdout",
     "output_type": "stream",
     "text": [
      "z-score: 1.2815515655446004 \t x: 62.815515655446006\n"
     ]
    }
   ],
   "source": [
    "from scipy import stats\n",
    "mu = 50\n",
    "std = 10\n",
    "z = stats.norm.ppf(90/100)\n",
    "x = mu + z * std\n",
    "print(f'z-score: {z} \\t x: {x}')"
   ]
  },
  {
   "cell_type": "markdown",
   "metadata": {
    "slideshow": {
     "slide_type": "subslide"
    }
   },
   "source": [
    "### Finding a Specific Data Value [solution]\n",
    "\n",
    "#### Interpretation  \n",
    "\n",
    "The lowest score an applicant can earn and still be eligible to be hired by the agency is about $63$."
   ]
  },
  {
   "cell_type": "markdown",
   "metadata": {
    "slideshow": {
     "slide_type": "subslide"
    }
   },
   "source": [
    "### Finding a Specific Data Value [example]\n",
    "\n",
    "- In a randomly selected sample of women ages $20 – 34$, the mean total cholesterol level is $181$ milligrams per deciliter with a standard deviation of $37.6$ milligrams per deciliter. \n",
    "- Assume the total cholesterol levels are normally distributed.\n",
    "- Find the highest total cholesterol level a woman in this $20 – 34$ age group can have and still be in the bottom $1\\%$."
   ]
  },
  {
   "cell_type": "markdown",
   "metadata": {
    "slideshow": {
     "slide_type": "subslide"
    }
   },
   "source": [
    "### Finding a Specific Data Value [solution]\n",
    "\n",
    "- Total cholesterol levels in the lowest $1\\%$ correspond to the shaded region shown.\n",
    "\n",
    "![](./image/5_3_cholesterol_levels_in_women_graph.png)"
   ]
  },
  {
   "cell_type": "markdown",
   "metadata": {
    "slideshow": {
     "slide_type": "subslide"
    }
   },
   "source": [
    "### Finding a Specific Data Value [solution]\n",
    "\n",
    "- A total cholesterol level in the lowest $1\\%$ is any level below the $1^{st}$ percentile.\n",
    "- To find the level that represents the $1^{st}$ percentile, we must first find the $z$-score that corresponds to a cumulative area of $0.01$. \n",
    "- In the Standard Normal Table, the area closest to $0.01$ is $0.0099$. \n",
    "- The $z$-score that corresponds to an area of $0.01$ is $z = -2.33$. \n",
    "- To find the $x$-value, note that $\\mu = 181$ and $\\sigma = 37.6$, and use the formula $x = \\mu + z \\times \\sigma = 181 + (-2.33) \\times 37.6 = 93.39$.\n"
   ]
  },
  {
   "cell_type": "code",
   "execution_count": 21,
   "metadata": {},
   "outputs": [
    {
     "name": "stdout",
     "output_type": "stream",
     "text": [
      "z-score: -2.3263478740408408 \t x: 93.52931993606438\n"
     ]
    }
   ],
   "source": [
    "from scipy import stats\n",
    "mu = 181\n",
    "std = 37.6\n",
    "z = stats.norm.ppf(1/100)\n",
    "x = mu + z * std\n",
    "print(f'z-score: {z} \\t x: {x}')"
   ]
  },
  {
   "cell_type": "markdown",
   "metadata": {
    "slideshow": {
     "slide_type": "subslide"
    }
   },
   "source": [
    "### Finding a Specific Data Value [solution]\n",
    "\n",
    "#### Interpretation  \n",
    "\n",
    "The value that separates the lowest $1\\%$ of total cholesterol levels for women in the $20–34$ age group from the highest $99\\%$ is about $93$ milligrams per deciliter."
   ]
  },
  {
   "cell_type": "markdown",
   "metadata": {
    "slideshow": {
     "slide_type": "slide"
    }
   },
   "source": [
    "## 5.4 <br/>Sampling Distributions and the Central Limit Theorem"
   ]
  },
  {
   "cell_type": "markdown",
   "metadata": {
    "slideshow": {
     "slide_type": "subslide"
    }
   },
   "source": [
    "### Sampling Distributions\n",
    "\n",
    "- In this section, you will study the relationship between a population mean and the means of samples taken from the population.\n",
    "- A sampling distribution is the probability distribution of a sample statistic that is formed when samples of size $n$ are repeatedly taken from a population."
   ]
  },
  {
   "cell_type": "code",
   "execution_count": null,
   "metadata": {},
   "outputs": [],
   "source": []
  }
 ],
 "metadata": {
  "celltoolbar": "Slideshow",
  "kernelspec": {
   "display_name": "Python 3",
   "language": "python",
   "name": "python3"
  },
  "language_info": {
   "codemirror_mode": {
    "name": "ipython",
    "version": 3
   },
   "file_extension": ".py",
   "mimetype": "text/x-python",
   "name": "python",
   "nbconvert_exporter": "python",
   "pygments_lexer": "ipython3",
   "version": "3.7.4"
  }
 },
 "nbformat": 4,
 "nbformat_minor": 2
}
