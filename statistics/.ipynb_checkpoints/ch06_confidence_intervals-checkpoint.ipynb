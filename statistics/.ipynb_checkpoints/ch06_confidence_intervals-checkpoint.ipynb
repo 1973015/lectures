{
 "cells": [
  {
   "cell_type": "markdown",
   "metadata": {
    "slideshow": {
     "slide_type": "slide"
    }
   },
   "source": [
    "## Chapter 06\n",
    "# Confidence Intervals\n",
    "\n",
    "Adopted from [\"Elementary Statistics - Picturing the World\" 6th edition](https://www.amazon.com/Elementary-Statistics-Picturing-World-6th/dp/0321911210/)"
   ]
  },
  {
   "cell_type": "code",
   "execution_count": 1,
   "metadata": {
    "slideshow": {
     "slide_type": "skip"
    }
   },
   "outputs": [
    {
     "data": {
      "text/plain": [
       "{'width': '100%', 'height': '100%', 'scroll': True}"
      ]
     },
     "execution_count": 1,
     "metadata": {},
     "output_type": "execute_result"
    }
   ],
   "source": [
    "from notebook.services.config import ConfigManager\n",
    "cm = ConfigManager()\n",
    "cm.update('livereveal', {\n",
    "        'scroll': True,\n",
    "        'width': \"100%\",\n",
    "        'height': \"100%\",\n",
    "})"
   ]
  },
  {
   "cell_type": "markdown",
   "metadata": {
    "slideshow": {
     "slide_type": "slide"
    }
   },
   "source": [
    "\n",
    "## 6.1 <br/>Confidence Intervals for the Mean ($\\sigma$ Known)"
   ]
  },
  {
   "cell_type": "markdown",
   "metadata": {
    "slideshow": {
     "slide_type": "subslide"
    }
   },
   "source": [
    "### Estimating Population Parameters\n",
    "\n",
    "- In this chapter, we will learn an important technique of statistical inference—to use sample statistics to estimate the value of an unknown population parameter.\n",
    "- In this section and the next, we will learn how to use sample statistics to make an estimate of the population parameter $\\mu$ when the population standard deviation $\\sigma$ is known (this section) or when $\\sigma$ is unknown. \n",
    "- To make such an inference, begin by finding a **point estimate**.\n"
   ]
  },
  {
   "cell_type": "markdown",
   "metadata": {
    "slideshow": {
     "slide_type": "subslide"
    }
   },
   "source": [
    "### Point Estimate\n",
    "\n",
    "- A **point estimate** is a single value estimate for a population parameter. \n",
    "- The most unbiased point estimate of the population mean $\\mu$ is the sample mean $\\bar{x}$.\n",
    "- The validity of an estimation method is increased when you use a sample statistic that is unbiased and has low variability. \n",
    "- A statistic is unbiased if it does not overestimate or underestimate the population parameter."
   ]
  },
  {
   "cell_type": "markdown",
   "metadata": {
    "slideshow": {
     "slide_type": "subslide"
    }
   },
   "source": [
    "### Finding a Point Estimate [example 1]\n",
    "\n",
    "- An economics researcher is collecting data about grocery store employees in a county. \n",
    "- The data listed below represents a random sample of the number of hours worked by $40$ employees from several grocery stores in the county. \n",
    "- Find a point estimate of the population mean $\\mu$.\n",
    "\n",
    "![](./image/6_1_ex_1_point_estimate.png)"
   ]
  },
  {
   "cell_type": "markdown",
   "metadata": {
    "slideshow": {
     "slide_type": "subslide"
    }
   },
   "source": [
    "### Finding a Point Estimate [solution]\n",
    "\n",
    "\n",
    "- The sample mean of the data is:\n",
    "\n",
    "$\\bar{x} = \\frac{\\sum{x}}{n} = \\frac{1184}{40} = 29.6$\n",
    "\n",
    "- The point estimate for the mean number of hours worked by grocery store employees in this county is $29.6$ hours.\n",
    "- The probability that the population mean is exactly $29.6$ is virtually zero. \n",
    "- Instead of estimating $\\mu$ to be exactly $29.6$ using a point estimate, we can estimate that $\\mu$ lies in an interval. \n",
    "- This is called making an **interval estimate**.\n"
   ]
  },
  {
   "cell_type": "markdown",
   "metadata": {
    "slideshow": {
     "slide_type": "subslide"
    }
   },
   "source": [
    "### Interval Estimate\n",
    "\n",
    "- An **interval estimate** is an interval, or range of values, used to estimate a population parameter.\n",
    "- To form an interval estimate, use the point estimate as the center of the interval, and then add and subtract a margin of error. \n",
    "- For instance, if the margin of error is $2.1$, then an interval estimate would be given by \n",
    " - $29.6 \\pm 2.1$ or \n",
    " - $27.5 < \\mu < 31.7$. \n",
    "- The point estimate and interval estimate are shown in the figure.\n",
    "\n",
    "![](./image/6_1_interval_estimate.png)\n",
    "\n",
    "- Before finding a margin of error for an interval estimate, we should first determine how confident we need to be that your interval estimate contains the population mean $\\mu$."
   ]
  },
  {
   "cell_type": "markdown",
   "metadata": {
    "slideshow": {
     "slide_type": "subslide"
    }
   },
   "source": [
    "### Level of Confidence\n",
    "\n",
    "- The **level of confidence** $c$ is the probability that the interval estimate contains the population parameter, assuming that the estimation process is repeated a large number of times.\n",
    "- We know from the Central Limit Theorem that when $n > 30$, the sampling distribution of sample means is a normal distribution. \n",
    "- The level of confidence $c$ is the area under the standard normal curve between the critical values, $-z_{c}$ and $z_{c}$.\n",
    "- **Critical values** are values that separate sample statistics that are probable from sample statistics that are improbable, or unusual.\n",
    "- We can see from the figure shown below that $c$ is the percent of the area under the normal curve between $-z_{c}$ and $z_{c}$. \n",
    "\n",
    "![](./image/6_1_level_of_confidence_graph.png)\n",
    "\n",
    "- The area remaining is $1 - c$, so the area in each tail is $\\frac{1}{2}(1 - c)$. \n",
    "- For instance, if $c = 90\\%$, then $5\\%$ of the area lies to the left of $-z_{c} -1.645$ and $5\\%$ lies to the right of $z_{c} = 1.645$, as shown in the table.\n",
    "\n",
    "![](./image/6_1_level_of_confidence_table.png)\n"
   ]
  },
  {
   "cell_type": "markdown",
   "metadata": {
    "slideshow": {
     "slide_type": "subslide"
    }
   },
   "source": [
    "### Sampling Error\n",
    "\n",
    "- The difference between the point estimate and the actual parameter value is called the sampling error. \n",
    "- When $\\mu$ is estimated, the sampling error is the difference $\\bar{x} - \\mu$. \n",
    "- In most cases, of course, $\\mu$ is unknown, and $\\bar{x}$ varies from sample to sample. \n",
    "- However, you can calculate a maximum value for the error when you know the level of confidence and the sampling distribution."
   ]
  },
  {
   "cell_type": "markdown",
   "metadata": {
    "slideshow": {
     "slide_type": "subslide"
    }
   },
   "source": [
    "### Margin of Error\n",
    "\n",
    "- Given a level of confidence $c$, the margin of error $E$ (sometimes also called the maximum error of estimate or error tolerance) is the greatest possible distance between the point estimate and the value of the parameter it is estimating. \n",
    "- For a population mean $\\mu$ where $\\sigma$ is known, the margin of error is:\n",
    "\n",
    "  - $E = z_{c} \\sigma_{\\bar{x}} = z_{c} \\frac{\\sigma}{\\sqrt{n}}$\n",
    "\n",
    "- when these conditions are met:\n",
    " - The sample is random.\n",
    " - At least one of the following is true: The population is normally distributed or $n > 30$."
   ]
  },
  {
   "cell_type": "markdown",
   "metadata": {
    "slideshow": {
     "slide_type": "subslide"
    }
   },
   "source": [
    "### Finding the Margin of Error [example 2]\n",
    "\n",
    "- Use the data in Example 1 and a $95\\%$ confidence level to find the margin of error for the mean number of hours worked by grocery store employees.\n",
    "- Assume the population standard deviation is $7.9$ hours.\n",
    "\n",
    "![](./image/6_1_ex_1_point_estimate.png)"
   ]
  },
  {
   "cell_type": "markdown",
   "metadata": {
    "slideshow": {
     "slide_type": "subslide"
    }
   },
   "source": [
    "### Finding the Margin of Error [solution]\n",
    "\n",
    "- Because $\\sigma$ is known $(\\sigma = 7.9)$, the sample is random, and $n > 30$, we can use the formula for $E$. \n",
    "- The $z$-score that corresponds to a $95\\%$ confidence level is $1.96$. \n",
    "- This implies that $95\\%$ of the area under the standard normal curve falls within $1.96$ standard deviations of the mean. \n",
    "- We can approximate the distribution of the sample means with a normal curve by the Central Limit Theorem because $n > 30$.\n",
    "\n",
    "![](./image/6_1_ex2_graph.png)\n",
    "\n",
    "$E = z_{c} \\frac{\\sigma}{\\sqrt{n}} = 1.96 \\times \\frac{7.9}{\\sqrt{40}} \\approx 2.4$\n",
    "\n",
    "##### Interpretation  \n",
    "You are $95\\%$ confident that the margin of error for the population mean is about $2.4$ hours."
   ]
  },
  {
   "cell_type": "markdown",
   "metadata": {
    "slideshow": {
     "slide_type": "subslide"
    }
   },
   "source": [
    "### Confidence Intervals for a Population Mean\n",
    "\n",
    "- Using a point estimate and a margin of error, you can construct an interval estimate of a population parameter such as $\\mu$. \n",
    "- This interval estimate is called a **confidence interval**.\n",
    "- A $c$-confidence interval for a population mean $\\mu$ is\n",
    " - $\\bar{x} - E < \\mu < \\bar{x} + E$\n",
    "- The probability that the confidence interval contains $\\mu$ is $c$, assuming that the estimation process is repeated a large number of times."
   ]
  },
  {
   "cell_type": "markdown",
   "metadata": {
    "slideshow": {
     "slide_type": "subslide"
    }
   },
   "source": [
    "### Guidelines fo Constructing a Confidence Interval for a Population Mean ($\\sigma$ Known)\n",
    "\n",
    "1. Verify that $\\sigma$ is known, the sample is random, and either the population is normally distributed or $n > 30$.\n",
    "\n",
    "2. Find the sample statistics $n$ and $\\bar{x}$.\n",
    " - $\\bar{x} = \\frac{\\sum{x}}{n}$\n",
    "\n",
    "3. Find the critical value $z_{c}$ that corresponds to the given level of confidence.\n",
    "4. Find the margin of error $E$.\n",
    " - $E = z_{c} \\frac{\\sigma}{\\sqrt{n}}$\n",
    " \n",
    "5. Find the left and right endpoints and form the confidence interval.\n",
    " - Left endpoint: $\\bar{x} - E$\n",
    " - Right endpoint: $\\bar{x} + E$\n",
    " - Interval: $\\bar{x} - E < \\mu < \\bar{x} + E$"
   ]
  },
  {
   "cell_type": "markdown",
   "metadata": {
    "slideshow": {
     "slide_type": "subslide"
    }
   },
   "source": [
    "### Constructing a Confidence Interval [example 3]\n",
    "\n",
    "Use the data in Example $1$ to construct a $95\\%$ confidence interval for the mean number of hours worked by grocery store employees.\n",
    "\n",
    "![](./image/6_1_ex_1_point_estimate.png)"
   ]
  },
  {
   "cell_type": "markdown",
   "metadata": {
    "slideshow": {
     "slide_type": "subslide"
    }
   },
   "source": [
    "### Constructing a Confidence Interval [solution]\n",
    "\n",
    "\n",
    "- In Examples $1$ and $2$, we found that $\\bar{x} = 29.6$ and $E \\approx 2.4$. \n",
    "- The confidence interval is constructed as shown.\n",
    "\n",
    "![](./image/6_1_ex_3_confidence_interval.png)\n",
    "\n",
    "##### Interpretation  \n",
    "With $95\\%$ confidence, you can say that the population mean number of hours worked is between $27.2$ and $32.0$ hours."
   ]
  },
  {
   "cell_type": "code",
   "execution_count": 2,
   "metadata": {},
   "outputs": [
    {
     "data": {
      "text/plain": [
       "(27.151809622396982, 32.04819037760302)"
      ]
     },
     "execution_count": 2,
     "metadata": {},
     "output_type": "execute_result"
    }
   ],
   "source": [
    "# also cover example 4\n",
    "from scipy import stats\n",
    "from math import sqrt\n",
    "\n",
    "n = 40\n",
    "sigma = 7.9\n",
    "mu = 29.6\n",
    "\n",
    "stats.norm.interval(0.95, loc=mu, scale=sigma/sqrt(n))"
   ]
  },
  {
   "cell_type": "markdown",
   "metadata": {
    "slideshow": {
     "slide_type": "subslide"
    }
   },
   "source": [
    "### Constructing a Confidence Interval [example 5]\n",
    "\n",
    "- A college admissions director wishes to estimate the mean age of all students currently enrolled. \n",
    "- In a random sample of 20 students, the mean age is found to be $22.9$ years. \n",
    "- From past studies, the standard deviation is known to be $1.5$ years, and the population is normally distributed. \n",
    "- Construct a $90\\%$ confidence interval of the population mean age.\n",
    "\n"
   ]
  },
  {
   "cell_type": "markdown",
   "metadata": {
    "slideshow": {
     "slide_type": "subslide"
    }
   },
   "source": [
    "### Constructing a Confidence Interval [solution]\n",
    "\n",
    "\n",
    "- Because $\\sigma$ is known, the sample is random, and the population is normally distributed, use the formula for $E$ given in this section. \n",
    "- Using $n = 20$, $\\bar{x} = 22.9$, $\\sigma = 1.5$, and $z_{c} = 1.645$, the margin of error at the $90\\%$ confidence level is:\n",
    " - $E = z_{c} \\frac{\\sigma}{\\sqrt{n}} = 1.645 \\times \\frac{1.5}{\\sqrt{20}} \\approx 0.6$\n",
    "\n",
    "- The $90\\%$ confidence interval can be written as $x \\pm E \\approx 22.9 \\pm 0.6$ or as shown below.\n",
    "\n",
    "![](./image/6_1_ex_5_confidence_interval.png)\n",
    "\n",
    "##### Interpretation  \n",
    "- With $90\\%$ confidence, you can say that the mean age of all the students is between $22.3$ and $23.5$ years.\n",
    "- “With  $90\\%$ confidence, the mean is in the interval ($22.3$, $23.5$).” \n",
    "- This means that when a large number of samples is collected and a confidence interval is created for each sample, approximately $90\\%$ of these intervals will contain $\\mu$."
   ]
  },
  {
   "cell_type": "code",
   "execution_count": 3,
   "metadata": {},
   "outputs": [
    {
     "data": {
      "text/plain": [
       "(22.348299321564912, 23.451700678435085)"
      ]
     },
     "execution_count": 3,
     "metadata": {},
     "output_type": "execute_result"
    }
   ],
   "source": [
    "from scipy import stats\n",
    "from math import sqrt\n",
    "\n",
    "n = 20\n",
    "mu = 22.9 \n",
    "sigma = 1.5\n",
    "\n",
    "stats.norm.interval(0.90, loc=mu, scale=sigma/sqrt(n))"
   ]
  },
  {
   "cell_type": "markdown",
   "metadata": {
    "slideshow": {
     "slide_type": "subslide"
    }
   },
   "source": [
    "### Sample Size\n",
    "\n",
    "- For the same sample statistics, as the level of confidence increases, the confidence interval widens. \n",
    "- As the confidence interval widens, the precision of the estimate decreases. \n",
    "- One way to improve the precision of an estimate without decreasing the level of confidence is to increase the sample size. \n",
    "- But how large a sample size is needed to guarantee a certain level of confidence for a given margin of error?\n",
    "- By using the formula for the margin of error to find the minimum sample size $n$.\n",
    "- Given a $c$-confidence level and a margin of error $E$, the minimum sample size $n$ needed to estimate the population mean $\\mu$ is\n",
    "\n",
    "$$\n",
    "\\begin{aligned}\n",
    "E &= z_{c} \\frac{\\sigma}{\\sqrt{n}} \\\\\n",
    "n &= (\\frac{z_{c} \\sigma}{E})^{2}\n",
    "\\end{aligned}\n",
    "$$\n",
    "\n",
    "- When $\\sigma$ is unknown, we can estimate it using $s$, provided you have a preliminary sample with at least $30$ members."
   ]
  },
  {
   "cell_type": "markdown",
   "metadata": {
    "slideshow": {
     "slide_type": "subslide"
    }
   },
   "source": [
    "### Determining a Minimum Sample Size [example 6]\n",
    "\n",
    "- The economics researcher in Example 1 wants to estimate the mean number of hours worked by all grocery store employees in the county. \n",
    "- How many employees must be included in the sample to be $95\\%$ confident that the sample mean is within $1.5$ hours of the population mean?\n",
    "\n",
    "![](./image/6_1_ex_1_point_estimate.png)"
   ]
  },
  {
   "cell_type": "markdown",
   "metadata": {
    "slideshow": {
     "slide_type": "subslide"
    }
   },
   "source": [
    "### Determining a Minimum Sample Size [solution]\n",
    "\n",
    "- Using $c = 0.95$, $z_{c} = 1.96$, $\\sigma = 7.9$ (from Example 2), and $E = 1.5$, we can solve for the minimum sample size $n$.\n",
    " - $n = (\\frac{z_{c} \\sigma}{E})^{2} = (\\frac{1.96 \\times 7.9}{1.5})^{2} \\approx 106.56$\n",
    "- When necessary, round up to obtain a whole number. So, the researcher needs at least $107$ grocery store employees in the sample.\n",
    "\n",
    "##### Interpretation  \n",
    "- The researcher already has $40$ employees, so the sample needs 67 more members. \n",
    "- Note that $107$ is the minimum number of employees to include in the sample. \n",
    "- The researcher could include more, if desired."
   ]
  },
  {
   "cell_type": "markdown",
   "metadata": {
    "slideshow": {
     "slide_type": "slide"
    }
   },
   "source": [
    "## 6.2 <br/>Confidence Intervals for the Mean ($\\sigma$ Unknown) "
   ]
  },
  {
   "cell_type": "markdown",
   "metadata": {
    "slideshow": {
     "slide_type": "subslide"
    }
   },
   "source": [
    "### The $t$-Distribution\n",
    "\n",
    "- In many real-life situations, the population standard deviation ($\\sigma$) is unknown.\n",
    "- So, how can you construct a confidence interval for a population mean when $\\sigma$ is not known? \n",
    "- For a random variable that is normally distributed (or approximately normally distributed), you can use a $t$-distribution."
   ]
  },
  {
   "cell_type": "markdown",
   "metadata": {
    "slideshow": {
     "slide_type": "subslide"
    }
   },
   "source": [
    "### The $t$-Distribution\n",
    "\n",
    "If the distribution of a random variable $x$ is approximately normal, then\n",
    "\n",
    "$t = \\frac{\\bar{x} - \\mu}{s / \\sqrt(n)}$\n",
    "\n",
    "Critical values of $t$ are denoted by $t_{c}$ . Here are several properties of the $t$-distribution.\n",
    "\n",
    "1. The mean, median, and mode of the t@distribution are equal to $0$.\n",
    "2. The $t$-distribution is bell-shaped and symmetric about the mean.\n",
    "3. The total area under the $t$-distribution curve is equal to $1$.\n",
    "4. The tails in the $t$-distribution are “thicker” than those in the standard normal distribution.\n",
    "5. The standard deviation of the $t$-distribution varies with the sample size, but it is greater than $1$.\n",
    "6. The $t$-distribution is a family of curves, each determined by a parameter called the degrees of freedom. The degrees of freedom (sometimes abbreviated as $d.f.$) are the number of free choices left after a sample statistic such as $\\bar{x}$ is calculated. When you use a $t$-distribution to estimate a population mean, the degrees of freedom are equal to one less than the sample size.\n",
    "$d.f. = n - 1$\n",
    "7. As the degrees of freedom increase, the $t$-distribution approaches the standard normal distribution, as shown in the figure. After $30 d.f.$, the $t$-distribution is close to the standard normal distribution.\n",
    "\n",
    "![](./image/6_2_t_distrtibution.png)"
   ]
  },
  {
   "cell_type": "markdown",
   "metadata": {
    "slideshow": {
     "slide_type": "subslide"
    }
   },
   "source": [
    "### Finding Critical Values of $t$ [example 1]\n",
    "\n",
    "Find the critical value $t_{c}$ for a $95\\%$ confidence level when the sample size is $15$."
   ]
  },
  {
   "cell_type": "markdown",
   "metadata": {
    "slideshow": {
     "slide_type": "subslide"
    }
   },
   "source": [
    "### Finding Critical Values of $t$ [solution]\n",
    "\n",
    "- Because $n = 15$, the degrees of freedom are $d.f. = n - 1 = 15 - 1 = 14$.\n",
    "- Using $d.f. = 14$ and $c = 0.95$, you can find the critical value $t_{c}$ , as shown by the highlighted areas in the table.\n",
    "\n",
    "![](./image/6_2_critical_values_table.png)\n",
    "\n",
    "- From the table, you can see that $t_{c} = 2.145$. \n",
    "- The figure below shows the $t$-distribution for $14$ degrees of freedom, $c = 0.95$, and $t_{c} = 2.145$.\n",
    "\n",
    "![](./image/6_2_critical_values_graph.png)\n",
    "\n",
    "##### Interpretation  \n",
    "For a $t$-distribution curve with $14$ degrees of freedom, $95\\%$ of the area under the curve lies between $t \\pm 2.145$."
   ]
  },
  {
   "cell_type": "code",
   "execution_count": 4,
   "metadata": {},
   "outputs": [
    {
     "data": {
      "text/plain": [
       "2.1447866879169273"
      ]
     },
     "execution_count": 4,
     "metadata": {},
     "output_type": "execute_result"
    }
   ],
   "source": [
    "from scipy.stats import t\n",
    "df = 14\n",
    "c = 0.95\n",
    "t.ppf(1 - ((1-c)/2), df)"
   ]
  },
  {
   "cell_type": "markdown",
   "metadata": {
    "slideshow": {
     "slide_type": "subslide"
    }
   },
   "source": [
    "### Confidence Intervals and $t$-Distributions\n",
    "\n",
    "- Constructing a confidence interval for $\\mu$ when $\\sigma$ is not known using the $t$-distribution is similar to constructing a confidence interval for $\\mu$ when $\\sigma$ is known using the standard normal distribution—both use a point estimate $\\bar{x}$ and a margin of error $E$. \n",
    "- When $\\sigma$ is not known, the margin of error $E$ is calculated using the sample standard deviation $s$ and the critical value $t_{c}$ . \n",
    "- The formula for $E$ is:\n",
    " - $E = t_{c} \\frac{s}{\\sqrt{n}}$\n",
    "- Before using this formula, verify that the sample is random, and either the population is normally distributed or $n \\ge 30$."
   ]
  },
  {
   "cell_type": "markdown",
   "metadata": {
    "slideshow": {
     "slide_type": "subslide"
    }
   },
   "source": [
    "### Guidelines for Constructing a Confidence Interval for a Population Mean ($\\sigma$ Unknown)\n",
    "\n",
    "1. Verify that s is not known, the sample is random, and either the population is normally distributed or $n \\ge 30$.\n",
    "2. Find the sample statistics $n$, $\\bar{x}$, and $s$.\n",
    " - $\\bar{x} = \\frac{\\sum{x}}{n}$\n",
    " - $s = \\sqrt{\\frac{\\sum{(x-\\bar{x})^{2}}}{n-1}}$\n",
    "3. Identify the degrees of freedom, the level of confidence $c$, and the critical value $t_{c}$ \n",
    " - $df = n-1$\n",
    "4. Find the margin of error $E$.\n",
    " - $E = t_{c} \\frac{s}{\\sqrt{n}}$\n",
    "5. Find the left and right endpoints and form the confidence interval.\n",
    " - Left endpoint: $\\bar{x} - E$\n",
    " - Right endpoint: $\\bar{x} + E$\n",
    " - Interval: $\\bar{x}-E < \\mu <\\bar{x}+E$"
   ]
  },
  {
   "cell_type": "markdown",
   "metadata": {
    "slideshow": {
     "slide_type": "subslide"
    }
   },
   "source": [
    "### Constructing a Confidence Interval [example 2]\n",
    "\n",
    "- You randomly select $16$ coffee shops and measure the temperature of the coffee sold at each. \n",
    "- The sample mean temperature is $162.0^\\circ F$ with a sample standard deviation of $10.0^\\circ F$. \n",
    "- Construct a $95\\%$ confidence interval for the population mean temperature of coffee sold. \n",
    "- Assume the temperatures are approximately normally distributed."
   ]
  },
  {
   "cell_type": "markdown",
   "metadata": {
    "slideshow": {
     "slide_type": "subslide"
    }
   },
   "source": [
    "### Constructing a Confidence Interval [solution]\n",
    "\n",
    "- Because $\\sigma$ is unknown, the sample is random, and the temperatures are approximately normally distributed, use the $t$-distribution. \n",
    "- Using $n = 16$, $\\bar{x} = 162.0$, $s = 10.0$, $c = 0.95$, and $d.f. = 15$, you can use *Table* to find that $t_{c} = 2.131$. \n",
    "\n",
    "- The margin of error at the 95% confidence level is:\n",
    " - $E = t_{c} \\frac{s}{\\sqrt{n}} = 2.131 \\times \\frac{10.0}{\\sqrt{16}} \\approx 5.3$\n",
    "- The confidence interval is shown below.\n",
    "\n",
    "![](./image/6_2_ex_2_confidence_interval_1.png)\n",
    "\n",
    "![](./image/6_2_ex_2_confidence_interval_2.png)\n",
    "\n",
    "##### Interpretation  \n",
    "With $95\\%$ confidence, you can say that the population mean temperature of coffee sold is between $156.7^\\circ F$ and $167.3^\\circ F$."
   ]
  },
  {
   "cell_type": "code",
   "execution_count": 5,
   "metadata": {},
   "outputs": [
    {
     "name": "stdout",
     "output_type": "stream",
     "text": [
      "tc: 2.131449545559323\n",
      "E: 5.328623863898308\n",
      "Left End Point: 156.67137613610169\n",
      "Right End Point: 167.32862386389831\n"
     ]
    }
   ],
   "source": [
    "from scipy.stats import t\n",
    "from math import sqrt\n",
    "\n",
    "n = 16\n",
    "df = n - 1\n",
    "c = 0.95\n",
    "s = 10\n",
    "sample_mean = 162\n",
    "\n",
    "tc = t.ppf(1 - ((1-c)/2), df)\n",
    "print(f'tc: {tc}')\n",
    "\n",
    "E = tc * s / sqrt(n)\n",
    "print(f'E: {E}')\n",
    "\n",
    "print(f'Left End Point: {sample_mean - E}')\n",
    "print(f'Right End Point: {sample_mean + E}')"
   ]
  },
  {
   "cell_type": "markdown",
   "metadata": {
    "slideshow": {
     "slide_type": "subslide"
    }
   },
   "source": [
    "### Constructing a Confidence Interval [example 3]\n",
    "\n",
    "- You randomly select $36$ cars of the same model that were sold at a car dealership and determine the number of days each car sat on the dealership’s lot before it was sold. \n",
    "- The sample mean is $9.75$ days, with a sample standard deviation of $2.39$ days. \n",
    "- Construct a $99\\%$ confidence interval for the population mean number of days the car model sits on the dealership’s lot."
   ]
  },
  {
   "cell_type": "markdown",
   "metadata": {
    "slideshow": {
     "slide_type": "subslide"
    }
   },
   "source": [
    "### Constructing a Confidence Interval [solution]\n",
    "\n",
    "- Because $\\sigma$ is unknown, the sample is random, and $n \\ge 30$, use the $t$-distribution. \n",
    "- Using $n = 36$, $\\bar{x} = 9.75$, $s = 2.39$, $c = 0.99$, and $d.f. = 35$, we can use Table to find that $t_{c} = 2.724$. \n",
    "- The margin of error at the $99\\%$ confidence level is:\n",
    " - $E = t_{c} \\frac{s}{\\sqrt{n}} = 2.724 \\times \\frac{2.39}{\\sqrt{36}} \\approx 1.09$\n",
    "- The confidence interval is constructed as shown.\n",
    "\n",
    "![](./image/6_2_ex_3_confidence_interval.png)\n",
    "\n",
    "##### Interpretation  \n",
    "With $99\\%$ confidence, you can say that the population mean number of days the car model sits on the dealership’s lot is between $8.66$ and $10.84$."
   ]
  },
  {
   "cell_type": "code",
   "execution_count": 6,
   "metadata": {},
   "outputs": [
    {
     "name": "stdout",
     "output_type": "stream",
     "text": [
      "tc: 2.723805589208047\n",
      "E: 1.0849825597012053\n",
      "Left End Point: 8.665017440298795\n",
      "Right End Point: 10.834982559701205\n"
     ]
    }
   ],
   "source": [
    "from scipy.stats import t\n",
    "from math import sqrt\n",
    "\n",
    "n = 36\n",
    "df = n - 1\n",
    "c = 0.99\n",
    "s = 2.39\n",
    "sample_mean = 9.75\n",
    "\n",
    "tc = t.ppf(1 - ((1-c)/2), df)\n",
    "print(f'tc: {tc}')\n",
    "\n",
    "E = tc * s / sqrt(n)\n",
    "print(f'E: {E}')\n",
    "\n",
    "print(f'Left End Point: {sample_mean - E}')\n",
    "print(f'Right End Point: {sample_mean + E}')"
   ]
  },
  {
   "cell_type": "markdown",
   "metadata": {
    "slideshow": {
     "slide_type": "subslide"
    }
   },
   "source": [
    "### Construct a Confidence Interval for a Population Mean\n",
    "\n",
    "- The flowchart describes when to use the standard normal distribution and when to use the $t$-distribution to construct a confidence interval for a population mean.\n",
    "\n",
    "![](./image/6_2_confidence_interval_for_a_population.png)\n",
    "\n",
    "- Notice in the flowchart that when both $n < 30$ and the population is not normally distributed, you cannot use the standard normal distribution or the $t$-distribution."
   ]
  },
  {
   "cell_type": "markdown",
   "metadata": {
    "slideshow": {
     "slide_type": "subslide"
    }
   },
   "source": [
    "### Choosing the Standard Normal Distribution or the $t$-Distribution [example 4]\n",
    "\n",
    "- You randomly select $25$ newly constructed houses. The sample mean construction cost is $\\$181,000$ and the population standard deviation is $\\$28,000$. \n",
    "- Assuming construction costs are normally distributed, should you to construct a $95\\%$ confidence interval for the population mean construction cost? \n",
    "- Explain your reasoning."
   ]
  },
  {
   "cell_type": "markdown",
   "metadata": {
    "slideshow": {
     "slide_type": "subslide"
    }
   },
   "source": [
    "### Choosing the Standard Normal Distribution or the $t$-Distribution [solution]\n",
    "\n",
    "- Is $\\sigma$ known? Yes.\n",
    "- Is either the population normally distributed or $n \\ge 30$? Yes, the population is normally distributed.\n",
    "- Decision:Use the standard normal distribution."
   ]
  },
  {
   "cell_type": "markdown",
   "metadata": {
    "slideshow": {
     "slide_type": "slide"
    }
   },
   "source": [
    "\n",
    "## 6.3 <br/>Confidence Intervals for Population Proportions"
   ]
  },
  {
   "cell_type": "markdown",
   "metadata": {
    "slideshow": {
     "slide_type": "subslide"
    }
   },
   "source": [
    "### Point Estimate for a Population Proportion\n",
    "\n",
    "- The probability of success in a single trial of a binomial experiment is $p$. \n",
    "- This probability is a population proportion. \n",
    "- In this section, we will learn how to estimate a **population proportion** $p$ using a confidence interval.\n",
    "- As with confidence intervals for $\\mu$, we will start with a point estimate."
   ]
  },
  {
   "cell_type": "markdown",
   "metadata": {
    "slideshow": {
     "slide_type": "subslide"
    }
   },
   "source": [
    "### Point Estimate for $p$\n",
    "\n",
    "- The point estimate for $p$, the population proportion of successes, is given by the proportion of successes in a sample and is denoted by\n",
    " - $\\hat{p} = \\frac{x}{n}$\n",
    "- where $x$ is the number of successes in the sample and $n$ is the sample size.\n",
    "- The point estimate for the population proportion of failures is $\\hat{q} = 1 - \\hat{p}$.\n",
    "- The symbols $\\hat{p}$ and $\\hat{q}$ are read as “$p$ hat” and “$q$ hat.”\n"
   ]
  },
  {
   "cell_type": "markdown",
   "metadata": {
    "slideshow": {
     "slide_type": "subslide"
    }
   },
   "source": [
    "### Finding a Point Estimate for $p$ [example 1]\n",
    "\n",
    "- In a survey of $1000$ U.S. teens, $372$ said that they own smartphones. \n",
    "- Find a point estimate for the population proportion of U.S. teens who own smartphones."
   ]
  },
  {
   "cell_type": "markdown",
   "metadata": {
    "slideshow": {
     "slide_type": "subslide"
    }
   },
   "source": [
    "### Finding a Point Estimate for $p$ [solution]\n",
    "\n",
    "\n",
    "- Using $n = 1000$ and $x = 372$,\n",
    "\n",
    " - $\\hat{p} = \\frac{x}{n} = \\frac{372}{1000} = 0.372 = 37.2\\% $\n",
    "\n",
    "- The point estimate for the population proportion of U.S. teens who own smartphones is $37.2\\%$."
   ]
  },
  {
   "cell_type": "markdown",
   "metadata": {
    "slideshow": {
     "slide_type": "subslide"
    }
   },
   "source": [
    "### Confidence Intervals for a Population Proportion\n",
    "\n",
    "- Constructing a confidence interval for a population proportion $p$ is similar to constructing a confidence interval for a population mean. \n",
    "- We start with a point estimate and calculate a margin of error.\n",
    "\n",
    "- A $c$-confidence interval for a population proportion $p$ is:\n",
    " - $\\hat{p} - E < p < \\hat{p} + E$\n",
    " \n",
    "- where margin of error for $p$ is:\n",
    " - $E = z_{c} \\sqrt{\\frac{\\hat{p}\\hat{q}}{n}}$\n",
    "\n",
    "- The probability that the confidence interval contains $p$ is $c$, assuming that the estimation process is repeated a large number of times.\n"
   ]
  },
  {
   "cell_type": "markdown",
   "metadata": {
    "slideshow": {
     "slide_type": "subslide"
    }
   },
   "source": [
    "### Guidelines for Constructing a Confidence Interval for a Population Proportion\n",
    "\n",
    "1. Identify the sample statistics $n$ and $x$.\n",
    "2. Find the point estimate $\\hat{p}$.\n",
    " - $\\hat{p} = \\frac{x}{n}$\n",
    " \n",
    "3. Verify that the sampling distribution of $\\hat{p}$ can be approximated by a normal distribution.\n",
    " - $n\\hat{p} \\ge 5, n \\hat{q} \\ge 5$\n",
    " \n",
    "4. Find the critical value $z_{c}$ thatcorresponds to the given level of confidence $c$.\n",
    " - We can use ```SciPy```\n",
    " \n",
    "5. Find the margin of error $E$.\n",
    " - $E = z_{c} \\sqrt{\\frac{\\hat{p}\\hat{q}}{n}}$\n",
    " \n",
    "6. Find the left and right endpoints and form the confidence interval.\n",
    " - Left endpoint: $\\hat{p} - E$\n",
    " - Right endpoint: $\\hat{p} + E$\n",
    " - Interval: $\\hat{p} - E < p < \\hat{p} + E$"
   ]
  },
  {
   "cell_type": "markdown",
   "metadata": {
    "slideshow": {
     "slide_type": "subslide"
    }
   },
   "source": [
    "### Constructing a Confidence Interval for p [example 2]\n",
    "\n",
    "Use the data in Example $1$ to construct a $95\\%$ confidence interval for the population proportion of U.S. teens who own smartphones."
   ]
  },
  {
   "cell_type": "markdown",
   "metadata": {
    "slideshow": {
     "slide_type": "subslide"
    }
   },
   "source": [
    "### Constructing a Confidence Interval for p [solution]\n",
    "\n",
    "- From Example 1, $\\hat{p} = 0.372$. \n",
    "- The point estimate for the population proportion of failures is:\n",
    " - $\\hat{q} = 1 - \\hat{p} = 1 - 0.372 = 0.628$\n",
    " \n",
    "- Using $n = 1000$, we can verify that the sampling distribution of $\\hat{p}$ can be approximated by a normal distribution.\n",
    " - $n \\hat{p} = 1000 \\times 0.372 = 372 > 5$\n",
    " - $n \\hat{q} = 1000 \\times 0.628 = 628 > 5$\n",
    "\n",
    "- Using $z_{c} = 1.96$, the margin of error is:\n",
    " - $E = z_{c} \\sqrt{\\frac{\\hat{p} \\hat{q}}{n}} = 1.96 \\times \\sqrt{\\frac{0.372 \\times 0.628}{1000}} \\approx 0.03$\n",
    "\n",
    "- Next, find the left and right endpoints and form the $95\\%$ confidence interval.\n",
    "![](./image/6_3_ex_2_confidence_interval.png)\n",
    "\n",
    "##### Interpretation  \n",
    "With $95\\%$ confidence, you can say that the population proportion of U.S. teens who own smartphones is between $34.2\\%$ and $40.2\\%$."
   ]
  },
  {
   "cell_type": "code",
   "execution_count": 8,
   "metadata": {},
   "outputs": [
    {
     "name": "stdout",
     "output_type": "stream",
     "text": [
      "zc: 1.9623414611334487\n",
      "E: 0.029993411898275826\n",
      "Left End Point: 0.3420065881017242\n",
      "Right End Point: 0.4019934118982758\n"
     ]
    }
   ],
   "source": [
    "from scipy.stats import t\n",
    "from math import sqrt \n",
    "\n",
    "n = 1000\n",
    "df = n-1\n",
    "c = 0.95\n",
    "\n",
    "p_hat = 0.372\n",
    "q_hat = 1 - p_hat\n",
    "\n",
    "zc = t.ppf(1 - ((1-c)/2), df)\n",
    "print(f'zc: {zc}')\n",
    "\n",
    "E = zc * sqrt(p_hat * q_hat / n)\n",
    "print(f'E: {E}')\n",
    "print(f'Left End Point: {p_hat - E}')\n",
    "print(f'Right End Point: {p_hat + E}')"
   ]
  },
  {
   "cell_type": "markdown",
   "metadata": {
    "slideshow": {
     "slide_type": "subslide"
    }
   },
   "source": [
    "### Constructing a Confidence Interval for $p$ [example 3]\n",
    "\n",
    "- The figure shows a survey of $498$ U.S. adults.\n",
    "- Construct a $99\\%$ confidence interval for the population proportion of U.S. adults who think that teenagers are the more dangerous drivers.\n",
    "\n",
    "![](./image/6_3_dangerous_drivers.png)"
   ]
  },
  {
   "cell_type": "markdown",
   "metadata": {
    "slideshow": {
     "slide_type": "subslide"
    }
   },
   "source": [
    "### Constructing a Confidence Interval for $p$ [solution]\n",
    "\n",
    "\n",
    "- From the figure, $\\hat{p} = 0.71$. \n",
    " - $\\hat{q} = 1 - \\hat{p} = 1 - 0.71 = 0.29$.\n",
    " \n",
    "- Using these values and the values $n = 498$ and $z_{c} = 2.575$, the margin of error is:\n",
    " - $E = z_{c} \\sqrt{\\frac{\\hat{p} \\hat{q}}{n}} = 2.575 \\times \\sqrt{\\frac{0.71 \\times 0.29}{498}} \\approx 0.052$\n",
    "\n",
    "- Next, find the left and right endpoints and form the $99\\%$ confidence interval.\n",
    "\n",
    "![](./image/6_3_ex_3_confidence_interval.png)\n",
    "\n",
    "##### Interpretation  \n",
    "With $99\\%$ confidence, you can say that the population proportion of U.S. adults who think that teenagers are the more dangerous drivers is between $65.8\\%$ and $76.2\\%$."
   ]
  },
  {
   "cell_type": "code",
   "execution_count": 9,
   "metadata": {},
   "outputs": [
    {
     "name": "stdout",
     "output_type": "stream",
     "text": [
      "zc: 2.585757619531686\n",
      "E: 0.052577667429680196\n",
      "Left End Point: 0.6574223325703198\n",
      "Right End Point: 0.7625776674296801\n"
     ]
    }
   ],
   "source": [
    "from scipy.stats import t\n",
    "from math import sqrt \n",
    "\n",
    "n = 498\n",
    "df = n-1\n",
    "c = 0.99\n",
    "\n",
    "p_hat = 0.71\n",
    "q_hat = 1 - p_hat\n",
    "\n",
    "zc = t.ppf(1 - ((1-c)/2), df)\n",
    "print(f'zc: {zc}')\n",
    "\n",
    "E = zc * sqrt(p_hat * q_hat / n)\n",
    "print(f'E: {E}')\n",
    "print(f'Left End Point: {p_hat - E}')\n",
    "print(f'Right End Point: {p_hat + E}')"
   ]
  },
  {
   "cell_type": "markdown",
   "metadata": {
    "slideshow": {
     "slide_type": "subslide"
    }
   },
   "source": [
    "### FInding a Minimum Sample Size \n",
    "\n",
    "- One way to increase the precision of a confidence interval without decreasing the level of confidence is to increase the sample size.\n",
    "- Given a $c$-confidence level and a margin of error $E$, the minimum sample size $n$ needed to estimate the population proportion $p$ is:\n",
    "\n",
    " - $n = \\hat{p} \\hat{q}(\\frac{z_{c}}{E})^{2}$\n",
    " \n",
    "- This formula assumes that we have preliminary estimates of $\\hat{p}$ and $\\hat{q}$. \n",
    "- If not, use $\\hat{p} = 0.5$ and $\\hat{q} = 0.5$."
   ]
  },
  {
   "cell_type": "markdown",
   "metadata": {
    "slideshow": {
     "slide_type": "subslide"
    }
   },
   "source": [
    "### Determining a Minimum Sample Size [example 4]\n",
    "\n",
    "- You are running a political campaign and wish to estimate, with $95\\%$ confidence, the population proportion of registered voters who will vote for your candidate.\n",
    "- Your estimate must be accurate within $3\\%$ of the population proportion. \n",
    "- Find the minimum sample size needed when:\n",
    " - Q1: no preliminary estimate is available\n",
    " - Q2: a preliminary estimate gives $\\hat{p} = 0.31$\n",
    "- Compare your results."
   ]
  },
  {
   "cell_type": "markdown",
   "metadata": {
    "slideshow": {
     "slide_type": "subslide"
    }
   },
   "source": [
    "### Determining a Minimum Sample Size [solution]\n",
    "\n",
    "##### Q1:\n",
    "- Because we do not have a preliminary estimate of $\\hat{p}$, use $\\hat{p} = 0.5$ and $\\hat{q} = 0.5$. \n",
    "- Using $z_{c} = 1.96$ and $E = 0.03$, we can solve for $n$.\n",
    " - $n = \\hat{p} \\hat{q}(\\frac{z_{c}}{E})^{2} = 0.5 \\times 0.5 \\times (\\frac{1.96}{0.03})^{2} \\approx 1067.11$\n",
    "- Because $n$ is a decimal, round up to the nearest whole number, $1068$.\n",
    "\n",
    "##### Q2:\n",
    "- We have a preliminary estimate of $\\hat{p} = 0.31$. \n",
    " - $\\hat{q} = 1-\\hat{p} = 1 - 0.31 = 0.69$. \n",
    "- Using $z_{c} = 1.96$ and $E = 0.03$, we can solve for $n$.\n",
    " - $n = \\hat{p} \\hat{q}(\\frac{z_{c}}{E})^{2} = 0.31 \\times 0.69 \\times (\\frac{1.96}{0.03})^{2} \\approx 913.02$\n",
    "- Because $n$ is a decimal, round up to the nearest whole number, $914$.\n",
    "\n",
    "##### Interpretation  \n",
    "- With no preliminary estimate, the minimum sample size should be at least $1068$ registered voters. \n",
    "- With a preliminary estimate of $\\hat{p} = 0.31$, the sample size should be at least $914$ registered voters. \n",
    "- So, we will need a larger sample size when no preliminary estimate is available."
   ]
  },
  {
   "cell_type": "markdown",
   "metadata": {
    "slideshow": {
     "slide_type": "slide"
    }
   },
   "source": [
    "## 6.4 <br/>Confidence Intervals for Variance and Standard Deviation"
   ]
  },
  {
   "cell_type": "markdown",
   "metadata": {
    "slideshow": {
     "slide_type": "subslide"
    }
   },
   "source": [
    "### Point Estimate for Variance and Standard Deviation\n",
    "\n",
    "- In manufacturing, it is necessary to control the amount that a process varies. \n",
    "- For instance, an automobile part manufacturer must produce thousands of parts to be used in the manufacturing process. \n",
    "- It is important that the parts vary little or not at all. \n",
    "- How can you measure, and consequently control, the amount of variation in the parts? \n",
    "- We can start with a **point estimate*.\n",
    "- The point estimate for $\\sigma^{2}$ is $s^{2}$ and the point estimate for $\\sigma$ is $s$. "
   ]
  },
  {
   "cell_type": "markdown",
   "metadata": {
    "slideshow": {
     "slide_type": "subslide"
    }
   },
   "source": [
    "### The Chi-Square Distribution\n",
    "\n",
    "- We can use a chi-square distribution to construct a confidence interval for the variance and standard deviation.\n",
    "- If a random variable $x$ has a normal distribution, then the distribution of $x^{@}$ forms a chi-square distribution for samples of any size $n > 1$.\n",
    " - $x^{2} = \\frac{(n-1)s^{2}}{\\sigma^{2}}$\n",
    " \n",
    "Here are several properties of the chi-square distribution:\n",
    "\n",
    "1. All values of $x^{2}$ are greater than or equal to $0$.\n",
    "2. The chi-square distribution is a family of curves, each determined bythe degrees of freedom. To form a confidence interval for $\\sigma^{2}$ , use the chi-square distribution with degrees of freedom equal to one less than the sample size.\n",
    " - $df = n-1$\n",
    " \n",
    "3. The total area under each chi-square distribution curve is equal to $1$.\n",
    "4. The chi-square distribution is positively skewed and therefore the distribution is not symmetric.\n",
    "5. The chi-square distribution is different for each number of degrees of freedom, as shown in the figure. As the degrees of freedom increase, thechi-square distribution approaches a normal distribution.\n",
    "\n",
    "![](./image/6_4_chi_square_distribution.png)"
   ]
  },
  {
   "cell_type": "markdown",
   "metadata": {
    "slideshow": {
     "slide_type": "subslide"
    }
   },
   "source": [
    "### Critical Values\n",
    "\n",
    "- There are two critical values for each level of confidence. \n",
    " - $x_{R}^{2}$ represents the right-tail critical value.\n",
    " - $x_{L}^{2}$ represents the left-tail critical value."
   ]
  },
  {
   "cell_type": "markdown",
   "metadata": {
    "slideshow": {
     "slide_type": "subslide"
    }
   },
   "source": [
    "### Finding Critical Values for $X^{2}$ [example 1]\n",
    "\n",
    "Find the critical values $x_{R}^{2}$ and $x_{L}^{2}$ for a $95\\%$ confidence interval when the sample size is $18$.\n",
    "\n"
   ]
  },
  {
   "cell_type": "markdown",
   "metadata": {
    "slideshow": {
     "slide_type": "subslide"
    }
   },
   "source": [
    "- Degree of freedom:\n",
    " - $df = n - 1 = 18 - 1 = 17$\n",
    "\n",
    "- The areas to the right of $x_{R}^{2}$ and $x_{L}^{2}$ are:\n",
    " - $x_{R}^{2} = \\frac{1-c}{2} = \\frac{1-0.95}{2} = 0.025$\n",
    " - $x_{L}^{2} = \\frac{1+c}{2} = \\frac{1+0.95}{2} = 0.975$\n",
    " \n",
    "- Using $df = 17$ and the areas $0.975$ and $0.025$, we can find the critical values, as shown by the highlighted areas in the table.\n"
   ]
  },
  {
   "cell_type": "code",
   "execution_count": null,
   "metadata": {},
   "outputs": [],
   "source": []
  }
 ],
 "metadata": {
  "celltoolbar": "Slideshow",
  "kernelspec": {
   "display_name": "Python 3",
   "language": "python",
   "name": "python3"
  },
  "language_info": {
   "codemirror_mode": {
    "name": "ipython",
    "version": 3
   },
   "file_extension": ".py",
   "mimetype": "text/x-python",
   "name": "python",
   "nbconvert_exporter": "python",
   "pygments_lexer": "ipython3",
   "version": "3.7.6"
  }
 },
 "nbformat": 4,
 "nbformat_minor": 2
}
