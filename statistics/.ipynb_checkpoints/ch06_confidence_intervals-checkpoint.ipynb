{
 "cells": [
  {
   "cell_type": "markdown",
   "metadata": {
    "slideshow": {
     "slide_type": "slide"
    }
   },
   "source": [
    "## Chapter 06\n",
    "# Confidence Intervals\n",
    "\n",
    "Adopted from [\"Elementary Statistics - Picturing the World\" 6th edition](https://www.amazon.com/Elementary-Statistics-Picturing-World-6th/dp/0321911210/)"
   ]
  },
  {
   "cell_type": "code",
   "execution_count": 1,
   "metadata": {
    "slideshow": {
     "slide_type": "skip"
    }
   },
   "outputs": [
    {
     "data": {
      "text/plain": [
       "{'width': '100%', 'height': '100%', 'scroll': True}"
      ]
     },
     "execution_count": 1,
     "metadata": {},
     "output_type": "execute_result"
    }
   ],
   "source": [
    "from notebook.services.config import ConfigManager\n",
    "cm = ConfigManager()\n",
    "cm.update('livereveal', {\n",
    "        'scroll': True,\n",
    "        'width': \"100%\",\n",
    "        'height': \"100%\",\n",
    "})"
   ]
  },
  {
   "cell_type": "markdown",
   "metadata": {
    "slideshow": {
     "slide_type": "slide"
    }
   },
   "source": [
    "\n",
    "## 6.1 <br/>Confidence Intervals for the Mean ($\\sigma$ Known)"
   ]
  },
  {
   "cell_type": "markdown",
   "metadata": {
    "slideshow": {
     "slide_type": "subslide"
    }
   },
   "source": [
    "### Estimating Population Parameters\n",
    "\n",
    "- In this chapter, we will learn an important technique of statistical inference—to use sample statistics to estimate the value of an unknown population parameter.\n",
    "- In this section and the next, we will learn how to use sample statistics to make an estimate of the population parameter $\\mu$ when the population standard deviation $\\sigma$ is known (this section) or when $\\sigma$ is unknown. \n",
    "- To make such an inference, begin by finding a **point estimate**.\n"
   ]
  },
  {
   "cell_type": "markdown",
   "metadata": {
    "slideshow": {
     "slide_type": "subslide"
    }
   },
   "source": [
    "### Point Estimate\n",
    "\n",
    "- A **point estimate** is a single value estimate for a population parameter. \n",
    "- The most unbiased point estimate of the population mean m is the sample mean $\\bar{x}$.\n",
    "- The validity of an estimation method is increased when you use a sample statistic that is unbiased and has low variability. \n",
    "- A statistic is unbiased if it does not overestimate or underestimate the population parameter."
   ]
  },
  {
   "cell_type": "code",
   "execution_count": null,
   "metadata": {},
   "outputs": [],
   "source": []
  }
 ],
 "metadata": {
  "celltoolbar": "Slideshow",
  "kernelspec": {
   "display_name": "Python 3",
   "language": "python",
   "name": "python3"
  },
  "language_info": {
   "codemirror_mode": {
    "name": "ipython",
    "version": 3
   },
   "file_extension": ".py",
   "mimetype": "text/x-python",
   "name": "python",
   "nbconvert_exporter": "python",
   "pygments_lexer": "ipython3",
   "version": "3.7.4"
  }
 },
 "nbformat": 4,
 "nbformat_minor": 2
}
