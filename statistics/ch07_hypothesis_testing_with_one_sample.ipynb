{
 "cells": [
  {
   "cell_type": "markdown",
   "metadata": {
    "slideshow": {
     "slide_type": "slide"
    }
   },
   "source": [
    "## Chapter 07\n",
    "# Hypothesis Testing with One Sample\n",
    "\n",
    "Adopted from [\"Elementary Statistics - Picturing the World\" 6th edition](https://www.amazon.com/Elementary-Statistics-Picturing-World-6th/dp/0321911210/)"
   ]
  },
  {
   "cell_type": "code",
   "execution_count": 1,
   "metadata": {
    "slideshow": {
     "slide_type": "skip"
    }
   },
   "outputs": [
    {
     "data": {
      "text/plain": [
       "{'scroll': True, 'width': '100%', 'height': '100%'}"
      ]
     },
     "execution_count": 1,
     "metadata": {},
     "output_type": "execute_result"
    }
   ],
   "source": [
    "from notebook.services.config import ConfigManager\n",
    "cm = ConfigManager()\n",
    "cm.update('livereveal', {\n",
    "        'scroll': True,\n",
    "        'width': \"100%\",\n",
    "        'height': \"100%\",\n",
    "})"
   ]
  },
  {
   "cell_type": "markdown",
   "metadata": {
    "slideshow": {
     "slide_type": "slide"
    }
   },
   "source": [
    "\n",
    "## 7.1 <br/>Introduction to Hypothesis Testing"
   ]
  },
  {
   "cell_type": "markdown",
   "metadata": {
    "slideshow": {
     "slide_type": "subslide"
    }
   },
   "source": [
    "### Hypothesis Tests\n",
    "\n",
    "- A **hypothesis test** is a process that uses sample statistics to test a claim about the value of a population parameter.\n",
    "- Researchers in fields such as medicine, psychology, and business rely on hypothesis testing to make informed decisions about new medicines, treatments, and marketing strategies."
   ]
  },
  {
   "cell_type": "markdown",
   "metadata": {
    "slideshow": {
     "slide_type": "subslide"
    }
   },
   "source": [
    "### Stating a Hypothesis\n",
    "\n",
    "- A statement about a population parameter is called a **statistical hypothesis**.\n",
    "- To test a population parameter, you should carefully state a pair of hypotheses—one that represents the claim and the other, its complement.\n",
    "- When one of these hypotheses is false, the other must be true. Either hypothesis—the **null hypothesis** or the **alternative hypothesis** —may represent the original claim.\n",
    "- The term **null hypothesis** was introduced by Ronald Fisher.\n",
    "- If the statement in the **null hypothesis** is not true, then the **alternative hypothesis** must be true."
   ]
  },
  {
   "cell_type": "markdown",
   "metadata": {
    "slideshow": {
     "slide_type": "subslide"
    }
   },
   "source": [
    "### Stating a Hypothesis: Definition\n",
    "\n",
    "- A **null hypothesis $H_{0}$** is a statistical hypothesis that contains a statement of equality, such as $\\le$, $=$, or $\\ge$.\n",
    "- The **alternative hypothesis $H_{a}$** is the complement of the null hypothesis. It is a statement that must be true if $H_{0}$ is false and it contains a statement of strict inequality, such as $\\gt$, $\\ne$, or $\\lt$."
   ]
  },
  {
   "cell_type": "markdown",
   "metadata": {
    "slideshow": {
     "slide_type": "subslide"
    }
   },
   "source": [
    "### Stating a Hypothesis\n",
    "\n",
    "- To write the null and alternative hypotheses, translate the claim made about the population parameter from a verbal statement to a mathematical statement. Then, write its complement. \n",
    "- For instance, if the claim value is $k$ and the population parameter is $\\mu$, then some possible pairs of null and alternative hypotheses are:\n",
    " - $\\left\\{ \\begin{array}{}\n",
    "       H_{0}:\\mu \\le k \\\\\n",
    "       H_{a}:\\mu \\gt k \n",
    "     \\end{array}\\right.$\n",
    "     \n",
    " - $\\left\\{ \\begin{array}{}\n",
    "       H_{0}:\\mu \\ge k \\\\\n",
    "       H_{a}:\\mu \\lt k \n",
    "     \\end{array}\\right.$\n",
    "\n",
    " - $\\left\\{ \\begin{array}{}\n",
    "       H_{0}:\\mu = k \\\\\n",
    "       H_{a}:\\mu \\ne k \n",
    "     \\end{array}\\right.$\n",
    "\n",
    "- Regardless of which of the three pairs of hypotheses we use, we always assume $\\mu = k$ and examine the sampling distribution on the basis of this assumption. \n",
    "- Within this sampling distribution, we will determine whether or not a sample statistic is unusual."
   ]
  },
  {
   "cell_type": "markdown",
   "metadata": {
    "slideshow": {
     "slide_type": "subslide"
    }
   },
   "source": [
    "### Stating a Hypothesis\n",
    "\n",
    "- The table shows the relationship between possible verbal statements about the parameter $\\mu$ and the corresponding null and alternative hypotheses.\n",
    "- Similar statements can be made to test other population parameters, such as $p$, $\\sigma$, or $\\sigma^{2}$.\n",
    "\n",
    "![](./image/7_1_hypothesis_table.png)"
   ]
  },
  {
   "cell_type": "markdown",
   "metadata": {
    "slideshow": {
     "slide_type": "subslide"
    }
   },
   "source": [
    "### Stating the Null and Alternative Hypotheses [example 1]\n",
    "\n",
    "Write the claim as a mathematical statement. State the null and alternative hypotheses, and identify which represents the claim.\n",
    "\n",
    "- Q1: A school publicizes that the proportion of its students who are involved in at least one extracurricular activity is $61\\%$.\n",
    "- Q2: A car dealership announces that the mean time for an oil change is less than $15$ minutes.\n",
    "- Q3: A company advertises that the mean life of its furnaces is more than $18$ years."
   ]
  },
  {
   "cell_type": "markdown",
   "metadata": {
    "slideshow": {
     "slide_type": "subslide"
    }
   },
   "source": [
    "### Stating the Null and Alternative Hypotheses [solution]\n",
    "\n",
    "#### Q1: A school publicizes that the proportion of its students who are involved in at least one extracurricular activity is $61\\%$.\n",
    "- The claim can be written as $p = 0.61$. \n",
    "- Its complement is $p \\ne 0.61$. \n",
    "- Because $p = 0.61$ contains the statement of equality, it becomes the **null hypothesis**. \n",
    "- In this case, the **null hypothesis** represents the **claim**.\n",
    "- $\\left\\{ \\begin{array}{}\n",
    "       H_{0}:p = 0.61\\\\\n",
    "       H_{a}:p \\ne 0.61 \n",
    "     \\end{array}\\right.$\n",
    "![](./image/7_1_ex_1_q_1_hypothesis.png)\n",
    "\n",
    "#### Q2: A car dealership announces that the mean time for an oil change is less than $15$ minutes.\n",
    "- The claim can be written as $\\mu \\lt 15$.\n",
    "- Its complement is $\\mu \\ge 15$. \n",
    "- Because $\\mu \\ge 15$ contains the statement of equality, it becomes the **null hypothesis**. \n",
    "- In this case, the **alternative hypothesis** represents the **claim**.\n",
    "- $\\left\\{ \\begin{array}{}\n",
    "       H_{0}:\\mu \\ge 15\\\\\n",
    "       H_{a}:\\mu \\lt 15 \n",
    "     \\end{array}\\right.$\n",
    "![](./image/7_1_ex_1_q_2_hypothesis.png)\n",
    " \n",
    "#### Q3: A company advertises that the mean life of its furnaces is more than $18$ years.\n",
    "- The claim can be written as $\\mu \\gt 18$.\n",
    "- Its complement is $m \\le 18$. \n",
    "- Because $m \\le 18$ contains the statement of equality, it becomes the null hypothesis. \n",
    "- In this case, the **alternative hypothesis** represents the **claim**.\n",
    "- $\\left\\{ \\begin{array}{}\n",
    "       H_{0}:\\mu \\le 18\\\\\n",
    "       H_{a}:\\mu \\gt 18 \n",
    "     \\end{array}\\right.$\n",
    "![](./image/7_1_ex_1_q_3_hypothesis.png)"
   ]
  },
  {
   "cell_type": "markdown",
   "metadata": {
    "slideshow": {
     "slide_type": "subslide"
    }
   },
   "source": [
    "### Types of Errors and Level of Significance\n",
    "\n",
    "- No matter which hypothesis represents the claim, we always begin a hypothesis test by assuming that the equality condition in the null hypothesis is true. \n",
    "- When we perform a hypothesis test, we make one of two decisions:\n",
    "  1. reject the null hypothesis or\n",
    "  2. fail to reject the null hypothesis.\n",
    "- Because your decision is based on a sample rather than the entire population, there is always the possibility you will make the wrong decision.\n",
    "- The only way to be absolutely certain of whether $H_{0}$ is true or false is to test the entire population. \n",
    "- Because your decision — to reject $H_{0}$ or to fail to reject $H_{0}$ — is based on a sample, you must accept the fact that your decision might be incorrect."
   ]
  },
  {
   "cell_type": "markdown",
   "metadata": {
    "slideshow": {
     "slide_type": "subslide"
    }
   },
   "source": [
    "### Types of Errors: Definition\n",
    "\n",
    "\n",
    "- A **type I error** occurs if the null hypothesis is rejected when it is true. **Failed to accept**.\n",
    "- A **type II error** occurs if the null hypothesis is not rejected when it is false. **Failed to reject**.\n",
    "\n",
    "![](./image/7_1_type_of_errors_table.png)"
   ]
  },
  {
   "cell_type": "markdown",
   "metadata": {
    "slideshow": {
     "slide_type": "subslide"
    }
   },
   "source": [
    "### Types of Errors \n",
    "\n",
    "Hypothesis testing is sometimes compared to the legal system used in the United States. Under this system, these steps are used:\n",
    "\n",
    "1. A carefully worded accusation is written.\n",
    "2. The defendant is assumed innocent ($H_{0}$) until proven guilty. The burden of proof lies with the prosecution. If the evidence is not strong enough, then there is no conviction. A “not guilty” verdict does not prove that a defendant is innocent.\n",
    "3. The evidence needs to be conclusive beyond a reasonable doubt. The system assumes that more harm is done by convicting the innocent (**type I error**) than by not convicting the guilty (**type II error**).\n",
    "\n",
    "![](./image/7_1_types_of_errors_legal.png)"
   ]
  },
  {
   "cell_type": "markdown",
   "metadata": {
    "slideshow": {
     "slide_type": "subslide"
    }
   },
   "source": [
    "### Identifying Type I and Type II Errors [example 2]\n",
    "\n",
    "- The USDA limit for salmonella contamination for chicken is $20\\%$. \n",
    "- A meat inspector reports that the chicken produced by a company exceeds the USDA limit. \n",
    "- You perform a hypothesis test to determine whether the meat inspector’s claim is true. \n",
    "- When will a type I or type II error occur? \n",
    "- Which error is more serious?"
   ]
  },
  {
   "cell_type": "markdown",
   "metadata": {
    "slideshow": {
     "slide_type": "subslide"
    }
   },
   "source": [
    "### Identifying Type I and Type II Errors [solution]\n",
    "\n",
    "- Let $p$ represent the proportion of the chicken that is contaminated. \n",
    "- The meat inspector’s claim is “more than $20\\%$ is contaminated.” \n",
    "- We can write the null and alternative hypotheses as:\n",
    "\n",
    "$\\left\\{ \\begin{array}{}\n",
    "       H_{0}:p \\le 0.2\\\\\n",
    "       H_{a}:p \\gt 0.2 \n",
    "     \\end{array}\\right.$\n",
    "\n",
    "- In this case, the **alternative hypothesis** represents the **claim**.\n",
    "\n",
    "![](./image/7_1_ex_2_contaminated_chicken.png)\n",
    "\n",
    "- A **type I error** will occur when the actual proportion of contaminated chicken is less than or equal to $0.2$, but you reject $H_{0}$ . \n",
    "- A **type II error** will occur when the actual proportion of contaminated chicken is greater than $0.2$, but you do not reject $H_{0}$.\n",
    "- With a type I error, you might create a health scare and hurt the sales of chicken producers who were actually meeting the USDA limits.\n",
    "- With a type II error, you could be allowing chicken that exceeded the USDA contamination limit to be sold to consumers. \n",
    "- A type II error is more serious because it could result in sickness or even death."
   ]
  },
  {
   "cell_type": "markdown",
   "metadata": {
    "slideshow": {
     "slide_type": "subslide"
    }
   },
   "source": [
    "### Level of Significance\n",
    "\n",
    "- We will reject the null hypothesis when the sample statistic from the sampling distribution is unusual. \n",
    "- We have already identified unusual events to be those that occur with a probability of $0.05$ or less. \n",
    "- When statistical tests are used, an unusual event is sometimes required to have a probability of $0.10$ or less, $0.05$ or less, or $0.01$ or less. \n",
    "- Because there is variation from sample to sample, there is always a possibility that you will reject a null hypothesis when it is actually true. \n",
    "- In other words, although the null hypothesis is true, your sample statistic is determined to be an unusual event in the sampling distribution. \n",
    "- We can decrease the probability of this happening by lowering the **level of significance**."
   ]
  },
  {
   "cell_type": "markdown",
   "metadata": {
    "slideshow": {
     "slide_type": "subslide"
    }
   },
   "source": [
    "### Level of Significance: Definition\n",
    "\n",
    "- In a hypothesis test, the level of significance is your maximum allowable probability of making a **type I error**. It is denoted by $\\alpha$, the lowercase Greek letter **alpha**.\n",
    "- The probability of a **type II error** is denoted by $\\beta$, the lowercase Greek letter **beta**.\n",
    "\n",
    "- By setting the level of significance at a small value, we are saying that you want the probability of rejecting a true null hypothesis to be small. \n",
    "- Three commonly used levels of significance are $\\alpha = 0.10$, $\\alpha = 0.05$, and $\\alpha = 0.01$.\n",
    "- When we decrease $\\alpha$, we are likely to be increasing $\\beta$."
   ]
  },
  {
   "cell_type": "markdown",
   "metadata": {
    "slideshow": {
     "slide_type": "subslide"
    }
   },
   "source": [
    "### Statistical Tests and P-Values"
   ]
  }
 ],
 "metadata": {
  "celltoolbar": "Slideshow",
  "kernelspec": {
   "display_name": "Python 3",
   "language": "python",
   "name": "python3"
  },
  "language_info": {
   "codemirror_mode": {
    "name": "ipython",
    "version": 3
   },
   "file_extension": ".py",
   "mimetype": "text/x-python",
   "name": "python",
   "nbconvert_exporter": "python",
   "pygments_lexer": "ipython3",
   "version": "3.7.6"
  }
 },
 "nbformat": 4,
 "nbformat_minor": 4
}
