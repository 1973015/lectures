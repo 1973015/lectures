{
 "cells": [
  {
   "cell_type": "markdown",
   "metadata": {
    "slideshow": {
     "slide_type": "slide"
    }
   },
   "source": [
    "## Chapter 05\n",
    "# Normal Probability Distributions\n",
    "\n",
    "Adopted from [\"Elementary Statistics - Picturing the World\" 6th edition](https://www.amazon.com/Elementary-Statistics-Picturing-World-6th/dp/0321911210/)"
   ]
  },
  {
   "cell_type": "markdown",
   "metadata": {
    "slideshow": {
     "slide_type": "slide"
    }
   },
   "source": [
    "## 5.1. <br/>Introduction to Normal Distributions and <br/>the Standard Normal Distribution"
   ]
  },
  {
   "cell_type": "markdown",
   "metadata": {
    "slideshow": {
     "slide_type": "subslide"
    }
   },
   "source": [
    "### Definition of a Normal Distribution\n",
    "\n",
    "- A **normal distribution** is a continuous probability distribution for a random variable $x$. \n",
    "- The graph of a normal distribution is called the **normal curve**."
   ]
  },
  {
   "cell_type": "markdown",
   "metadata": {
    "slideshow": {
     "slide_type": "subslide"
    }
   },
   "source": [
    "### Properties of a Normal Distribution\n",
    "\n",
    "A normal distribution has these properties:\n",
    "\n",
    "1. The mean, median, and mode are equal.\n",
    "2. The normal curve is bell-shaped and is symmetric about the mean.\n",
    "3. The total area under the normal curve is equal to 1.\n",
    "4. The normal curve approaches, but never touches, the $x$-axis as it extends farther and farther away from the mean\n",
    "5. Between $\\mu - \\sigma$ and $\\mu + \\sigma$ (in the center of the curve), the graph curves downward.<br/> The graph curves upward to the left of $\\mu - \\sigma$ and to the right of $\\mu + \\sigma$.<br/> The points at which the curve changes from curving upward to curving downward are called **inflection points**."
   ]
  },
  {
   "cell_type": "markdown",
   "metadata": {
    "slideshow": {
     "slide_type": "subslide"
    }
   },
   "source": [
    "### Properties of a Normal Distribution\n",
    "\n",
    "![](./image/5_1_normal_distribution.png)"
   ]
  },
  {
   "cell_type": "markdown",
   "metadata": {
    "slideshow": {
     "slide_type": "subslide"
    }
   },
   "source": [
    "### Properties of a Normal Distribution\n",
    "- A discrete probability distribution can be graphed with a histogram. \n",
    "- A continuous probability distribution, you can use a probability density function (pdf). \n",
    "- A probability density function has two requirements:\n",
    "    1. the total area under the curve is equal to 1, and \n",
    "    2. the function can never be negative.\n",
    "- Formula for pdf: $y = \\frac{1}{\\sigma \\sqrt{2 \\pi}} e^{-(x-\\mu)^{2}/(2 \\sigma^{2})}$"
   ]
  },
  {
   "cell_type": "markdown",
   "metadata": {
    "slideshow": {
     "slide_type": "subslide"
    }
   },
   "source": [
    "#### Meand and Standard Deviation (recap)\n",
    "\n",
    "![](./image/5_1_mean_and_std.png)"
   ]
  },
  {
   "cell_type": "markdown",
   "metadata": {
    "slideshow": {
     "slide_type": "subslide"
    }
   },
   "source": [
    "### Properties of a Normal Distribution [example]\n",
    "\n",
    "Understanding Mean and Standard Deviation\n",
    "\n",
    "![](./image/5_1_example_understanding_mean_and_std.png)\n",
    "\n",
    "1. Which normal curve has a greater mean?\n",
    "2. Which normal curve has a greater standard deviation?\n"
   ]
  },
  {
   "cell_type": "markdown",
   "metadata": {
    "slideshow": {
     "slide_type": "subslide"
    }
   },
   "source": [
    "### Properties of a Normal Distribution [solution]\n",
    "\n",
    "1. The line of symmetry of curve A occurs at $x = 15$.<br/>The line of symmetry of curve B occurs at $x = 12$.<br/>So, curve A has a greater mean.\n",
    "2. Curve B is more spread out than curve A.<br/>So, curve B has a greater standard deviation."
   ]
  },
  {
   "cell_type": "markdown",
   "metadata": {
    "slideshow": {
     "slide_type": "subslide"
    }
   },
   "source": [
    "### Properties of a Normal Distribution [example]\n",
    "\n",
    "Interpreting Graphs of Normal Distributions\n",
    "\n",
    "- The scaled test scores for the New York State Grade 8 Mathematics Test are normally distributed. \n",
    "- The normal curve shown below represents this distribution. \n",
    "- What is the mean test score? Estimate the standard deviation of this normal distribution.\n",
    "\n",
    "![](./image/5_1_example_interpreting_graph_of_normal_distribution.png)"
   ]
  },
  {
   "cell_type": "markdown",
   "metadata": {
    "slideshow": {
     "slide_type": "subslide"
    }
   },
   "source": [
    "### Properties of a Normal Distribution [solution]\n",
    "\n",
    "![](./image/5_1_solution_interpreting_graph_of_normal_distribution.png)\n",
    "\n",
    "The scaled test scores for the New York State Grade 8 Mathematics Test are normally distributed with a mean of about 675 and a standard deviation of about 35."
   ]
  },
  {
   "cell_type": "markdown",
   "metadata": {
    "slideshow": {
     "slide_type": "subslide"
    }
   },
   "source": [
    "### The Standard Normal Distribution\n",
    "\n",
    "- The normal distribution with a mean of $0$ and a standard deviation of $1$ is called the standard normal distribution. \n",
    "- The horizontal scale of the graph of the standard normal distribution corresponds to $z$-scores.\n",
    "- $z = \\frac{value - mean}{standard deviation} = \\frac{x - \\mu}{\\sigma}$\n",
    "\n",
    "![](./image/5_1_standard_normal_distribution.png)\n",
    "\n",
    "It is important that you know the difference between $x$ and $z$.\n",
    "The random variable x is sometimes called a raw score and represents values in a nonstandard normal distribution, whereas $z$ represents values in the standard normal distribution."
   ]
  },
  {
   "cell_type": "markdown",
   "metadata": {
    "slideshow": {
     "slide_type": "subslide"
    }
   },
   "source": [
    "### Properties of the Standard Normal Distribution\n",
    "\n",
    "1. The cumulative area is close to $0$ for $z$-scores close to $z = -3.49$.\n",
    "2. The cumulative area increases as the $z$-scores increase.\n",
    "3. The cumulative area for $z = 0$ is $0.5000$.\n",
    "4. The cumulative area is close to $1$ for $z$-scores close to $z = 3.49$."
   ]
  },
  {
   "cell_type": "markdown",
   "metadata": {
    "slideshow": {
     "slide_type": "subslide"
    }
   },
   "source": [
    "### Using the Standard Normal Table [example]\n",
    "\n",
    "1. Find the cumulative area that corresponds to a $z$-score of $1.15$.\n",
    "2. Find the cumulative area that corresponds to a $z$-score of $-0.24$."
   ]
  },
  {
   "cell_type": "markdown",
   "metadata": {
    "slideshow": {
     "slide_type": "subslide"
    }
   },
   "source": [
    "### Using the Standard Normal Table [solution]\n",
    "\n",
    "- Cumulative area that corresponds to a $z$-score of $1.15$\n",
    "- [$z$-score calculator](https://www.calculator.net/z-score-calculator.html)\n",
    "\n",
    "![](./image/5_1_example_table_z_1_15.png)\n",
    "![](./image/5_1_example_graph_z_1_15.png)"
   ]
  },
  {
   "cell_type": "markdown",
   "metadata": {
    "slideshow": {
     "slide_type": "subslide"
    }
   },
   "source": [
    "### Using the Standard Normal Table [solution]\n",
    "\n",
    "- Cumulative area that corresponds to a $z$-score of $-0.24$\n",
    "- [$z$-score calculator](https://www.calculator.net/z-score-calculator.html)\n",
    "\n",
    "![](./image/5_1_example_table_z_0_24.png)\n",
    "![](./image/5_1_example_graph_z_0_24.png)"
   ]
  },
  {
   "cell_type": "markdown",
   "metadata": {
    "slideshow": {
     "slide_type": "subslide"
    }
   },
   "source": [
    "### Finding Areas Under the Standard Normal Curve [guidelines]\n",
    "\n",
    "To find the area to the left of $z$, find the area that corresponds to $z$ in the Standard Normal Table.\n",
    "\n",
    "![](./image/5_1_graph_left_of_z.png)"
   ]
  },
  {
   "cell_type": "markdown",
   "metadata": {
    "slideshow": {
     "slide_type": "subslide"
    }
   },
   "source": [
    "### Finding Areas Under the Standard Normal Curve [guidelines]\n",
    "\n",
    "To find the area to the right of $z$, use the Standard Normal Table to find the area that corresponds to $z$.<br/>\n",
    "Then subtract the area from $1$.\n",
    "    \n",
    "![](./image/5_1_graph_right_of_z.png)"
   ]
  },
  {
   "cell_type": "markdown",
   "metadata": {
    "slideshow": {
     "slide_type": "subslide"
    }
   },
   "source": [
    "### Finding Areas Under the Standard Normal Curve [guidelines]\n",
    "\n",
    "To find the area between two $z$-scores, find the area corresponding to each $z$-score in the Standard Normal Table. <br/>\n",
    "Then subtract the smaller area from the larger area.\n",
    "\n",
    "![](./image/5_1_graph_between_two_z.png)"
   ]
  },
  {
   "cell_type": "markdown",
   "metadata": {
    "slideshow": {
     "slide_type": "subslide"
    }
   },
   "source": [
    "### Finding Area Under the Standard Normal Curve [example]\n",
    "\n",
    "Find the area under the standard normal curve to the left of $z = -0.99$."
   ]
  },
  {
   "cell_type": "markdown",
   "metadata": {
    "slideshow": {
     "slide_type": "subslide"
    }
   },
   "source": [
    "### Finding Area Under the Standard Normal Curve [solution]\n",
    "\n",
    "The area under the standard normal curve to the left of $z = -0.99$ is shown.\n",
    "\n",
    "![](./image/5_1_area_under_standard_normal_curve.png)\n",
    "\n",
    "From the Standard Normal Table, this area is equal to $0.1611$."
   ]
  },
  {
   "cell_type": "markdown",
   "metadata": {
    "slideshow": {
     "slide_type": "subslide"
    }
   },
   "source": [
    "### Finding Area Under the Standard Normal Curve [example]\n",
    "\n",
    "Find the area under the standard normal curve to the left of $z = -0.99$."
   ]
  },
  {
   "cell_type": "markdown",
   "metadata": {
    "slideshow": {
     "slide_type": "subslide"
    }
   },
   "source": [
    "### Finding Area Under the Standard Normal Curve [solution]\n",
    "\n",
    "The area under the standard normal curve to the right of $z = 1.06$ is shown.\n",
    "\n",
    "![](./image/5_1_area_under_standard_normal_curve_right.png)\n",
    "\n",
    "From the Standard Normal Table, the area to the left of $z = 1.06$ is $0.8554$. <br/>\n",
    "$Area = 1 - 0.8554 = 0.1446$"
   ]
  },
  {
   "cell_type": "markdown",
   "metadata": {
    "slideshow": {
     "slide_type": "subslide"
    }
   },
   "source": [
    "### Finding Area Under the Standard Normal Curve [example]\n",
    "\n",
    "Find the area under the standard normal curve between $z = -1.5$ and $z = 1.25$."
   ]
  },
  {
   "cell_type": "markdown",
   "metadata": {
    "slideshow": {
     "slide_type": "subslide"
    }
   },
   "source": [
    "### Finding Area Under the Standard Normal Curve [solution]\n",
    "\n",
    "The area under the standard normal curve between $z = -1.5$ and $z = 1.25$ is shown.\n",
    "\n",
    "![](./image/5_1_area_under_standard_normal_curve_between.png)\n",
    "\n",
    "From the Standard Normal Table, the area to the left of $z = 1.25$ is $0.8944$ and the area to the left of $z = -1.5$ is $0.0668$. <br/>\n",
    "$Area = 0.8944 - 0.0668 = 0.8276$"
   ]
  },
  {
   "cell_type": "markdown",
   "metadata": {
    "slideshow": {
     "slide_type": "slide"
    }
   },
   "source": [
    "## 5.2. <br/>Normal Distributions: Finding Probabilities"
   ]
  },
  {
   "cell_type": "markdown",
   "metadata": {
    "slideshow": {
     "slide_type": "subslide"
    }
   },
   "source": [
    "### Probability and Normal Distributions\n",
    "\n",
    "- When a random variable $x$ is normally distributed, we can find the probability that $x$ will lie in an interval by calculating the area under the normal curve for the interval. \n",
    "- To find the area under any normal curve, first convert the upper and lower bounds of the interval to $z$-scores. \n",
    "- Then use the standard normal distribution to find the area."
   ]
  },
  {
   "cell_type": "markdown",
   "metadata": {
    "slideshow": {
     "slide_type": "subslide"
    }
   },
   "source": [
    "### Finding Probabilities for Normal Distributions [example]\n",
    "\n",
    "- A survey indicates that people keep their cell phone an average of $1.5$ years before buying a new one. \n",
    "- The standard deviation is $0.25$ year. \n",
    "- A cell phone user is selected at random. \n",
    "- Find the probability that the user will keep his or her current phone for less than $1$ year before buying a new one. \n",
    "- Assume that the lengths of time people keep their phone are normally distributed and are represented by the variable $x$."
   ]
  },
  {
   "cell_type": "markdown",
   "metadata": {
    "slideshow": {
     "slide_type": "subslide"
    }
   },
   "source": [
    "### Finding Probabilities for Normal Distributions [solution]\n",
    "\n",
    "![](./image/5_2_example_graph_age_of_cellphone.png)\n",
    "\n",
    "- The figure shows a normal curve with $\\mu = 1.5$, $\\sigma = 0.25$, and the shaded area for $x$ less than $1$.\n",
    "- The $z$-score that corresponds to $1$ year is $z = \\frac{x - \\mu}{\\sigma} = \\frac{1 - 1.5}{0.25} = -2$\n",
    "- The Standard Normal Table shows that $P(z < -2) = 0.0228$. \n",
    "- The probability that the user will keep his or her phone for less than 1 year before buying a new one is 0.0228.\n",
    "\n"
   ]
  },
  {
   "cell_type": "markdown",
   "metadata": {
    "slideshow": {
     "slide_type": "subslide"
    }
   },
   "source": [
    "### Finding Probabilities for Normal Distributions [solution]\n",
    "\n",
    "#### Interpretation  \n",
    "\n",
    "- $2.28\\%$ of cell phone users will keep their phone for less than $1$ year before buying a new one. \n",
    "- Because $2.28\\%$ is less than $5\\%$, this is an **unusual event**."
   ]
  },
  {
   "cell_type": "markdown",
   "metadata": {
    "slideshow": {
     "slide_type": "subslide"
    }
   },
   "source": [
    "### Finding Probabilities for Normal Distributions [example]\n",
    "\n",
    "- A survey indicates that for each trip to a supermarket, a shopper spends an average of $45$ minutes with a standard deviation of $12$ minutes in the store. \n",
    "- The lengths of time spent in the store are normally distributed and are represented by the variable $x$. \n",
    "- A shopper enters the store:\n",
    "    1. Find the probability that the shopper will be in the store for each interval of time listed below. \n",
    "    2. Interpret your answer when 200 shoppers enter the store. How many shoppers would you expect to be in the store for each interval of time listed below?\n",
    "- Interval of interest:\n",
    "    - Between 24 and 54 minutes    \n",
    "    - More than 39 minutes"
   ]
  },
  {
   "cell_type": "markdown",
   "metadata": {
    "slideshow": {
     "slide_type": "subslide"
    }
   },
   "source": [
    "### Finding Probabilities for Normal Distributions [solution]\n",
    "\n",
    "![](./image/5_2_example_supermarket_shopper_a.png)\n",
    "\n",
    "- The figure shows a normal curve with $\\mu = 45$ minutes and $\\sigma = 12$ minutes. \n",
    "- The area for $x$ between $24$ and $54$ minutes is shaded.\n",
    "- The $z$-scores that correspond to $24$ minutes and to $54$ minutes are:\n",
    "    - $z_{1} = \\frac{24 - 45}{12} = -1.75$\n",
    "    - $z_{2} = \\frac{54 - 45}{12} = 0.75$\n",
    "- The probability that a shopper will be in the store between $24$ and $54$ minutes is:\n",
    "\n",
    "$$ \n",
    "\\begin{aligned}\n",
    "P(24 < x < 54)  &= P(-1.75 < z < 0.75) \\\\\n",
    "                &= P(z < 0.75) - P(z < -1.75) \\\\\n",
    "                &= 0.7734 - 0.0401 = 0.7333\n",
    "\\end{aligned}\n",
    "$$"
   ]
  },
  {
   "cell_type": "markdown",
   "metadata": {
    "slideshow": {
     "slide_type": "subslide"
    }
   },
   "source": [
    "### Finding Probabilities for Normal Distributions [solution]\n",
    "\n",
    "#### Interpretation\n",
    "\n",
    "When $200$ shoppers enter the store, you would expect $200 \\times 0.7333 = 146.66$, or about $147$, shoppers to be in the store between $24$ and $54$ minutes."
   ]
  },
  {
   "cell_type": "markdown",
   "metadata": {
    "slideshow": {
     "slide_type": "subslide"
    }
   },
   "source": [
    "### Finding Probabilities for Normal Distributions [solution]\n",
    "\n",
    "![](./image/5_2_example_supermarket_shopper_b.png)\n",
    "\n",
    "- The figure at the left shows a normal curve with $\\mu = 45$ minutes and $\\sigma = 12$ minutes. \n",
    "- The area for $x$ greater than $39$ minutes is shaded. \n",
    "- The $z$-score that corresponds to $39$ minutes is: $z = \\frac{39 - 45}{12} = -0.5$\n",
    "- The probability that a shopper will be in the store more than $39$ minutes is:\n",
    "\n",
    "$$ \n",
    "\\begin{aligned}\n",
    "P(x > 39) &= P(z > -0.5) \\\\\n",
    "          &= 1 - P(z < -0.5) \\\\\n",
    "          &= 1 - 0.3085 = 0.6915\n",
    "\\end{aligned}\n",
    "$$"
   ]
  },
  {
   "cell_type": "markdown",
   "metadata": {
    "slideshow": {
     "slide_type": "subslide"
    }
   },
   "source": [
    "### Finding Probabilities for Normal Distributions [solution]\n",
    "\n",
    "#### Interpretation\n",
    "\n",
    "When $200$ shoppers enter the store, you would expect $200 \\times 0.6915 = 138.3$, or about $138$, shoppers to be in the store more than $39$ minutes."
   ]
  },
  {
   "cell_type": "markdown",
   "metadata": {
    "slideshow": {
     "slide_type": "slide"
    }
   },
   "source": [
    "## 5.3 <br/>Normal Distributions: Finding Values"
   ]
  },
  {
   "cell_type": "markdown",
   "metadata": {
    "slideshow": {
     "slide_type": "subslide"
    }
   },
   "source": [
    "### Finding $z$-Scores\n",
    "\n",
    "- We were given a normally distributed random variable $x$ and we found the probability that $x$ would lie in an interval by calculating the area under the normal curve for the interval.\n",
    "- But what if you are given a probability and want to find a value?"
   ]
  },
  {
   "cell_type": "markdown",
   "metadata": {
    "slideshow": {
     "slide_type": "subslide"
    }
   },
   "source": [
    "### Finding a $z$-Score Given an Area [example]\n",
    "\n",
    "1. Find the $z$-score that corresponds to a cumulative area of $0.3632$.\n",
    "2. Find the $z$-score that has $10.75\\%$ of the distribution’s area to its right."
   ]
  },
  {
   "cell_type": "markdown",
   "metadata": {
    "slideshow": {
     "slide_type": "subslide"
    }
   },
   "source": [
    "### Finding a $z$-Score Given an Area [solution]\n",
    "\n",
    "![](./image/5_3_example_table_given_an_area_a.png)\n",
    "\n",
    "- [$z$-score calculator](https://www.calculator.net/z-score-calculator.html)\n",
    "- Find the $z$-score that corresponds to an area of $0.3632$ by locating $0.3632$ in the Standard Normal Table. \n",
    "- The values at the beginning of the corresponding row and at the top of the corresponding column give the $z$-score. \n",
    "- For this area, the row value is $-0.3$ and the column value is $0.05$. \n",
    "- The $z$-score is $-0.35$, as shown in the figure.\n",
    "\n",
    "![](./image/5_3_example_graph_given_an_area_a.png)"
   ]
  },
  {
   "cell_type": "markdown",
   "metadata": {
    "slideshow": {
     "slide_type": "subslide"
    }
   },
   "source": [
    "### Finding a $z$-Score Given an Area [solution]\n",
    "\n",
    "![](./image/5_3_example_table_given_an_area_b.png)\n",
    "\n",
    "- [$z$-score calculator](https://www.calculator.net/z-score-calculator.html)\n",
    "- Because the area to the right is $10.75\\%$, the cumulative area is $1 - 0.1075 = 0.8925$. \n",
    "- Find the $z$-score that corresponds to an area of $0.8925$ by locating $0.8925$ in the Standard Normal Table. \n",
    "- For this area, the row value is $1.2$ and the column value is $0.04$. \n",
    "- The $z$-score is $1.24$, as shown in the figure.\n",
    "\n",
    "![](./image/5_3_example_graph_given_an_area_b.png)"
   ]
  },
  {
   "cell_type": "markdown",
   "metadata": {
    "slideshow": {
     "slide_type": "subslide"
    }
   },
   "source": [
    "### Finding a $z$-Score Given a Percentile [example]\n",
    "\n",
    "Find the $z$-score that corresponds to each percentile:\n",
    "\n",
    "1. $P_{5}$         \n",
    "2. $P_{50}$         \n",
    "3. $P_{90}$"
   ]
  },
  {
   "cell_type": "markdown",
   "metadata": {
    "slideshow": {
     "slide_type": "subslide"
    }
   },
   "source": [
    "### Finding a $z$-Score Given a Percentile [solution]\n",
    "\n",
    "- [$z$-score calculator](https://www.calculator.net/z-score-calculator.html)\n",
    "- To find the $z$-score that corresponds to $P_{5}$ , find the $z$-score that corresponds to an area of $0.05$ (see the figure) by locating $0.05$ in the Standard Normal Table. \n",
    "- The areas closest to $0.05$ in the table are $0.0495$ $(z = -1.65)$ and $0.0505$ $(z = -1.64)$. \n",
    "- Because $0.05$ is halfway between the two areas in the table, use the $z$-score that is halfway between $-1.64$ and $-1.65$. \n",
    "- The $z$-score that corresponds to an area of $0.05$ is $-1.645$.\n",
    "\n",
    "![](./image/5_3_example_graph_z_score_percentile_a.png)"
   ]
  },
  {
   "cell_type": "markdown",
   "metadata": {
    "slideshow": {
     "slide_type": "subslide"
    }
   },
   "source": [
    "### Finding a $z$-Score Given a Percentile [solution]\n",
    "\n",
    "- [$z$-score calculator](https://www.calculator.net/z-score-calculator.html)\n",
    "- To find the $z$-score that corresponds to $P_{50}$ , find the $z$-score that corresponds to an area of $0.5$ (see the figure) by locating $0.5$ in the Standard Normal Table. \n",
    "- The area closest to $0.5$ in the table is $0.5000$, so the $z$-score that corresponds to an area of $0.5$ is $0$.\n",
    "\n",
    "![](./image/5_3_example_graph_z_score_percentile_b.png)"
   ]
  },
  {
   "cell_type": "markdown",
   "metadata": {
    "slideshow": {
     "slide_type": "subslide"
    }
   },
   "source": [
    "### Finding a $z$-Score Given a Percentile [solution]\n",
    "\n",
    "- [$z$-score calculator](https://www.calculator.net/z-score-calculator.html)\n",
    "- To find the $z$-score that corresponds to $P_{90}$ , find the $z$-score that corresponds to an area of $0.9$ (see the figure) by locating $0.9$ in the Standard Normal Table. \n",
    "- The area closest to $0.9$ in the table is $0.8997$\n",
    "- The $z$-score that corresponds to an area of $0.9$ is about $1.28$.\n",
    "\n",
    "![](./image/5_3_example_graph_z_score_percentile_c.png)"
   ]
  },
  {
   "cell_type": "markdown",
   "metadata": {
    "slideshow": {
     "slide_type": "subslide"
    }
   },
   "source": [
    "### Transforming a $z$-Score to an $x$-Value"
   ]
  },
  {
   "cell_type": "code",
   "execution_count": null,
   "metadata": {},
   "outputs": [],
   "source": []
  }
 ],
 "metadata": {
  "celltoolbar": "Slideshow",
  "kernelspec": {
   "display_name": "Python 3",
   "language": "python",
   "name": "python3"
  },
  "language_info": {
   "codemirror_mode": {
    "name": "ipython",
    "version": 3
   },
   "file_extension": ".py",
   "mimetype": "text/x-python",
   "name": "python",
   "nbconvert_exporter": "python",
   "pygments_lexer": "ipython3",
   "version": "3.7.4"
  }
 },
 "nbformat": 4,
 "nbformat_minor": 2
}
