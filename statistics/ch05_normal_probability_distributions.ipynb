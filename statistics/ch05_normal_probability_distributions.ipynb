{
 "cells": [
  {
   "cell_type": "markdown",
   "metadata": {
    "slideshow": {
     "slide_type": "slide"
    }
   },
   "source": [
    "## Chapter 05\n",
    "# Normal Probability Distributions\n",
    "\n",
    "Adopted from [\"Elementary Statistics - Picturing the World\" 6th edition](https://www.amazon.com/Elementary-Statistics-Picturing-World-6th/dp/0321911210/)"
   ]
  },
  {
   "cell_type": "code",
   "execution_count": 1,
   "metadata": {
    "slideshow": {
     "slide_type": "skip"
    }
   },
   "outputs": [],
   "source": [
    "from notebook.services.config import ConfigManager\n",
    "cm = ConfigManager()\n",
    "cm.update('livereveal', {\n",
    "        'scroll': True,\n",
    "        'width': \"100%\",\n",
    "        'height': \"100%\",\n",
    "})"
   ]
  },
  {
   "cell_type": "markdown",
   "metadata": {
    "slideshow": {
     "slide_type": "slide"
    }
   },
   "source": [
    "## 5.1. <br/>Introduction to Normal Distributions and <br/>the Standard Normal Distribution"
   ]
  },
  {
   "cell_type": "markdown",
   "metadata": {
    "slideshow": {
     "slide_type": "subslide"
    }
   },
   "source": [
    "### Definition of a Normal Distribution\n",
    "\n",
    "- A **normal distribution** is a continuous probability distribution for a random variable $x$. \n",
    "- The graph of a normal distribution is called the **normal curve**."
   ]
  },
  {
   "cell_type": "markdown",
   "metadata": {
    "slideshow": {
     "slide_type": "subslide"
    }
   },
   "source": [
    "### Properties of a Normal Distribution\n",
    "\n",
    "A normal distribution has these properties:\n",
    "\n",
    "1. The mean, median, and mode are equal.\n",
    "2. The normal curve is bell-shaped and is symmetric about the mean.\n",
    "3. The total area under the normal curve is equal to 1.\n",
    "4. The normal curve approaches, but never touches, the $x$-axis as it extends farther and farther away from the mean\n",
    "5. Between $\\mu - \\sigma$ and $\\mu + \\sigma$ (in the center of the curve), the graph curves downward.<br/> The graph curves upward to the left of $\\mu - \\sigma$ and to the right of $\\mu + \\sigma$.<br/> The points at which the curve changes from curving upward to curving downward are called **inflection points**."
   ]
  },
  {
   "cell_type": "markdown",
   "metadata": {
    "slideshow": {
     "slide_type": "subslide"
    }
   },
   "source": [
    "### Properties of a Normal Distribution\n",
    "\n",
    "![](./image/5_1_normal_distribution.png)"
   ]
  },
  {
   "cell_type": "markdown",
   "metadata": {
    "slideshow": {
     "slide_type": "subslide"
    }
   },
   "source": [
    "### Properties of a Normal Distribution\n",
    "- A discrete probability distribution can be graphed with a histogram. \n",
    "- A continuous probability distribution, we can use a probability density function (pdf). \n",
    "- A probability density function has two requirements:\n",
    "    1. the total area under the curve is equal to 1, and \n",
    "    2. the function can never be negative.\n",
    "- Formula for pdf: $y = \\frac{1}{\\sigma \\sqrt{2 \\pi}} e^{-(x-\\mu)^{2}/(2 \\sigma^{2})}$"
   ]
  },
  {
   "cell_type": "markdown",
   "metadata": {
    "slideshow": {
     "slide_type": "subslide"
    }
   },
   "source": [
    "#### Meand and Standard Deviation (recap)\n",
    "\n",
    "![](./image/5_1_mean_and_std.png)"
   ]
  },
  {
   "cell_type": "markdown",
   "metadata": {
    "slideshow": {
     "slide_type": "subslide"
    }
   },
   "source": [
    "### Properties of a Normal Distribution [example 1]\n",
    "\n",
    "Understanding Mean and Standard Deviation\n",
    "\n",
    "![](./image/5_1_example_understanding_mean_and_std.png)\n",
    "\n",
    "1. Which normal curve has a greater mean?\n",
    "2. Which normal curve has a greater standard deviation?\n"
   ]
  },
  {
   "cell_type": "markdown",
   "metadata": {
    "slideshow": {
     "slide_type": "subslide"
    }
   },
   "source": [
    "### Properties of a Normal Distribution [solution]\n",
    "\n",
    "1. The line of symmetry of curve A occurs at $x = 15$.<br/>The line of symmetry of curve B occurs at $x = 12$.<br/>So, curve A has a greater mean.\n",
    "2. Curve B is more spread out than curve A.<br/>So, curve B has a greater standard deviation."
   ]
  },
  {
   "cell_type": "markdown",
   "metadata": {
    "slideshow": {
     "slide_type": "subslide"
    }
   },
   "source": [
    "### Properties of a Normal Distribution [example 2]\n",
    "\n",
    "Interpreting Graphs of Normal Distributions\n",
    "\n",
    "- The scaled test scores for the New York State Grade 8 Mathematics Test are normally distributed. \n",
    "- The normal curve shown below represents this distribution. \n",
    "- What is the mean test score? Estimate the standard deviation of this normal distribution.\n",
    "\n",
    "![](./image/5_1_example_interpreting_graph_of_normal_distribution.png)"
   ]
  },
  {
   "cell_type": "markdown",
   "metadata": {
    "slideshow": {
     "slide_type": "subslide"
    }
   },
   "source": [
    "### Properties of a Normal Distribution [solution]\n",
    "\n",
    "![](./image/5_1_solution_interpreting_graph_of_normal_distribution.png)\n",
    "\n",
    "The scaled test scores for the New York State Grade $8$ Mathematics Test are normally distributed with a mean of about $675$ and a standard deviation of about $35$."
   ]
  },
  {
   "cell_type": "markdown",
   "metadata": {
    "slideshow": {
     "slide_type": "subslide"
    }
   },
   "source": [
    "### The Standard Normal Distribution\n",
    "\n",
    "- The normal distribution with a mean of $0$ and a standard deviation of $1$ is called the standard normal distribution. \n",
    "- The horizontal scale of the graph of the standard normal distribution corresponds to $z$-scores.\n",
    "- $z = \\frac{value - mean}{standard\\_deviation} = \\frac{x - \\mu}{\\sigma}$\n",
    "\n",
    "![](./image/5_1_standard_normal_distribution.png)\n",
    "\n",
    "It is important that you know the difference between $x$ and $z$.\n",
    "The random variable $x$ is sometimes called a raw score and represents values in a nonstandard normal distribution, whereas $z$ represents values in the standard normal distribution."
   ]
  },
  {
   "cell_type": "markdown",
   "metadata": {
    "slideshow": {
     "slide_type": "subslide"
    }
   },
   "source": [
    "### Properties of the Standard Normal Distribution\n",
    "\n",
    "1. The cumulative area is close to $0$ for $z$-scores close to $z = -3.49$.\n",
    "2. The cumulative area increases as the $z$-scores increase.\n",
    "3. The cumulative area for $z = 0$ is $0.5$.\n",
    "4. The cumulative area is close to $1$ for $z$-scores close to $z = 3.49$."
   ]
  },
  {
   "cell_type": "markdown",
   "metadata": {
    "slideshow": {
     "slide_type": "subslide"
    }
   },
   "source": [
    "### Using the Standard Normal Table and SciPy [example 3]\n",
    "\n",
    "- Q1: Find the cumulative area that corresponds to a $z$-score of $1.15$\n",
    "- Q2: Find the cumulative area that corresponds to a $z$-score of $-0.24$"
   ]
  },
  {
   "cell_type": "markdown",
   "metadata": {
    "slideshow": {
     "slide_type": "subslide"
    }
   },
   "source": [
    "### Using the Standard Normal Table  and SciPy [solution]\n",
    "\n",
    "#### Q1: Find the cumulative area that corresponds to a $z$-score of $1.15$\n",
    "\n",
    "![](./image/5_1_example_table_z_1_15.png)\n",
    "![](./image/5_1_example_graph_z_1_15.png)\n",
    "\n",
    "- Using [$z$-score calculator](https://www.calculator.net/z-score-calculator.html)\n",
    "- Using SciPy"
   ]
  },
  {
   "cell_type": "code",
   "execution_count": 2,
   "metadata": {},
   "outputs": [
    {
     "name": "stdout",
     "output_type": "stream",
     "text": [
      "0.8749280643628496\n"
     ]
    }
   ],
   "source": [
    "from scipy import stats\n",
    "z_score = 1.15\n",
    "p = stats.norm.cdf(z_score)\n",
    "print(p)"
   ]
  },
  {
   "cell_type": "code",
   "execution_count": 3,
   "metadata": {},
   "outputs": [
    {
     "data": {
      "image/png": "[encoded data removed]",
      "text/plain": [
       "<Figure size 432x288 with 1 Axes>"
      ]
     },
     "metadata": {
      "needs_background": "light"
     },
     "output_type": "display_data"
    }
   ],
   "source": [
    "from scipy import stats\n",
    "import numpy as np\n",
    "import matplotlib.pyplot as plt\n",
    "\n",
    "def draw_z_score(x, cond, mu=0, sigma=1):\n",
    "    y = stats.norm.pdf(x, mu, sigma)\n",
    "    z = x[cond]\n",
    "    plt.plot(x, y)\n",
    "    plt.fill_between(z, 0, stats.norm.pdf(z, mu, sigma))\n",
    "    plt.show()\n",
    "\n",
    "x = np.arange(-3, 3, 0.001)\n",
    "draw_z_score(x, x<z_score)"
   ]
  },
  {
   "cell_type": "markdown",
   "metadata": {
    "slideshow": {
     "slide_type": "subslide"
    }
   },
   "source": [
    "#### Q2: Find the cumulative area that corresponds to a $z$-score of $-0.24$\n",
    "\n",
    "![](./image/5_1_example_table_z_0_24.png)\n",
    "![](./image/5_1_example_graph_z_0_24.png)\n",
    "\n",
    "- Using SciPy"
   ]
  },
  {
   "cell_type": "code",
   "execution_count": 4,
   "metadata": {},
   "outputs": [
    {
     "name": "stdout",
     "output_type": "stream",
     "text": [
      "0.40516512830220414\n"
     ]
    }
   ],
   "source": [
    "from scipy import stats\n",
    "z_score = -0.24\n",
    "p = stats.norm.cdf(z_score)\n",
    "print(p)"
   ]
  },
  {
   "cell_type": "code",
   "execution_count": 5,
   "metadata": {},
   "outputs": [
    {
     "data": {
      "image/png": "[encoded data removed]",
      "text/plain": [
       "<Figure size 432x288 with 1 Axes>"
      ]
     },
     "metadata": {
      "needs_background": "light"
     },
     "output_type": "display_data"
    }
   ],
   "source": [
    "from scipy import stats\n",
    "import numpy as np\n",
    "import matplotlib.pyplot as plt\n",
    "\n",
    "def draw_z_score(x, cond, mu=0, sigma=1):\n",
    "    y = stats.norm.pdf(x, mu, sigma)\n",
    "    z = x[cond]\n",
    "    plt.plot(x, y)\n",
    "    plt.fill_between(z, 0, stats.norm.pdf(z, mu, sigma))\n",
    "    plt.show()\n",
    "\n",
    "x = np.arange(-3, 3, 0.001)\n",
    "draw_z_score(x, x<z_score)"
   ]
  },
  {
   "cell_type": "markdown",
   "metadata": {
    "slideshow": {
     "slide_type": "subslide"
    }
   },
   "source": [
    "### Finding Areas Under the Standard Normal Curve [guidelines]\n",
    "\n",
    "To find the area to the left of $z$, find the area that corresponds to $z$ in the Standard Normal Table.\n",
    "\n",
    "![](./image/5_1_graph_left_of_z.png)"
   ]
  },
  {
   "cell_type": "markdown",
   "metadata": {
    "slideshow": {
     "slide_type": "subslide"
    }
   },
   "source": [
    "### Finding Areas Under the Standard Normal Curve [guidelines]\n",
    "\n",
    "To find the area to the right of $z$, use the Standard Normal Table to find the area that corresponds to $z$.<br/>\n",
    "Then subtract the area from $1$.\n",
    "    \n",
    "![](./image/5_1_graph_right_of_z.png)"
   ]
  },
  {
   "cell_type": "markdown",
   "metadata": {
    "slideshow": {
     "slide_type": "subslide"
    }
   },
   "source": [
    "### Finding Areas Under the Standard Normal Curve [guidelines]\n",
    "\n",
    "To find the area between two $z$-scores, find the area corresponding to each $z$-score in the Standard Normal Table. <br/>\n",
    "Then subtract the smaller area from the larger area.\n",
    "\n",
    "![](./image/5_1_graph_between_two_z.png)"
   ]
  },
  {
   "cell_type": "markdown",
   "metadata": {
    "slideshow": {
     "slide_type": "subslide"
    }
   },
   "source": [
    "### Finding Area Under the Standard Normal Curve [example 4]\n",
    "\n",
    "Find the area under the standard normal curve to the left of $z = -0.99$."
   ]
  },
  {
   "cell_type": "markdown",
   "metadata": {
    "slideshow": {
     "slide_type": "subslide"
    }
   },
   "source": [
    "### Finding Area Under the Standard Normal Curve [solution]\n",
    "\n",
    "The area under the standard normal curve to the left of $z = -0.99$ is shown.\n",
    "\n",
    "![](./image/5_1_area_under_standard_normal_curve.png)\n",
    "\n",
    "From the Standard Normal Table, this area is equal to $0.1611$."
   ]
  },
  {
   "cell_type": "code",
   "execution_count": 6,
   "metadata": {},
   "outputs": [
    {
     "name": "stdout",
     "output_type": "stream",
     "text": [
      "0.1610870595108309\n"
     ]
    }
   ],
   "source": [
    "from scipy import stats\n",
    "z_score = -0.99\n",
    "p = stats.norm.cdf(z_score)\n",
    "print(p)"
   ]
  },
  {
   "cell_type": "code",
   "execution_count": 7,
   "metadata": {},
   "outputs": [
    {
     "data": {
      "image/png": "[encoded data removed]",
      "text/plain": [
       "<Figure size 432x288 with 1 Axes>"
      ]
     },
     "metadata": {
      "needs_background": "light"
     },
     "output_type": "display_data"
    }
   ],
   "source": [
    "from scipy import stats\n",
    "import numpy as np\n",
    "import matplotlib.pyplot as plt\n",
    "\n",
    "def draw_z_score(x, cond, mu=0, sigma=1):\n",
    "    y = stats.norm.pdf(x, mu, sigma)\n",
    "    z = x[cond]\n",
    "    plt.plot(x, y)\n",
    "    plt.fill_between(z, 0, stats.norm.pdf(z, mu, sigma))\n",
    "    plt.show()\n",
    "\n",
    "x = np.arange(-3, 3, 0.001)\n",
    "draw_z_score(x, x<z_score)"
   ]
  },
  {
   "cell_type": "markdown",
   "metadata": {
    "slideshow": {
     "slide_type": "subslide"
    }
   },
   "source": [
    "### Finding Area Under the Standard Normal Curve [example 5]\n",
    "\n",
    "Find the area under the standard normal curve to the right of $z = 1.06$."
   ]
  },
  {
   "cell_type": "markdown",
   "metadata": {
    "slideshow": {
     "slide_type": "subslide"
    }
   },
   "source": [
    "### Finding Area Under the Standard Normal Curve [solution]\n",
    "\n",
    "The area under the standard normal curve to the right of $z = 1.06$ is shown.\n",
    "\n",
    "![](./image/5_1_area_under_standard_normal_curve_right.png)\n",
    "\n",
    "From the Standard Normal Table, the area to the left of $z = 1.06$ is $0.8554$. <br/>\n",
    "$Area = 1 - 0.8554 = 0.1446$"
   ]
  },
  {
   "cell_type": "code",
   "execution_count": 8,
   "metadata": {},
   "outputs": [
    {
     "name": "stdout",
     "output_type": "stream",
     "text": [
      "0.1445722996639096\n"
     ]
    }
   ],
   "source": [
    "from scipy import stats\n",
    "z_score = 1.06\n",
    "p = 1 - stats.norm.cdf(z_score)\n",
    "print(p)"
   ]
  },
  {
   "cell_type": "code",
   "execution_count": 9,
   "metadata": {},
   "outputs": [
    {
     "data": {
      "image/png": "[encoded data removed]",
      "text/plain": [
       "<Figure size 432x288 with 1 Axes>"
      ]
     },
     "metadata": {
      "needs_background": "light"
     },
     "output_type": "display_data"
    }
   ],
   "source": [
    "from scipy import stats\n",
    "import numpy as np\n",
    "import matplotlib.pyplot as plt\n",
    "\n",
    "def draw_z_score(x, cond, mu=0, sigma=1):\n",
    "    y = stats.norm.pdf(x, mu, sigma)\n",
    "    z = x[cond]\n",
    "    plt.plot(x, y)\n",
    "    plt.fill_between(z, 0, stats.norm.pdf(z, mu, sigma))\n",
    "    plt.show()\n",
    "\n",
    "x = np.arange(-3, 3, 0.001)\n",
    "draw_z_score(x, x>z_score)"
   ]
  },
  {
   "cell_type": "markdown",
   "metadata": {
    "slideshow": {
     "slide_type": "subslide"
    }
   },
   "source": [
    "### Finding Area Under the Standard Normal Curve [example 6]\n",
    "\n",
    "Find the area under the standard normal curve between $z = -1.5$ and $z = 1.25$."
   ]
  },
  {
   "cell_type": "markdown",
   "metadata": {
    "slideshow": {
     "slide_type": "subslide"
    }
   },
   "source": [
    "### Finding Area Under the Standard Normal Curve [solution]\n",
    "\n",
    "The area under the standard normal curve between $z = -1.5$ and $z = 1.25$ is shown.\n",
    "\n",
    "![](./image/5_1_area_under_standard_normal_curve_between.png)\n",
    "\n",
    "From the Standard Normal Table, the area to the left of $z = 1.25$ is $0.8944$ and the area to the left of $z = -1.5$ is $0.0668$. <br/>\n",
    "$Area = 0.8944 - 0.0668 = 0.8276$"
   ]
  },
  {
   "cell_type": "code",
   "execution_count": 10,
   "metadata": {},
   "outputs": [
    {
     "name": "stdout",
     "output_type": "stream",
     "text": [
      "0.8275430250642866\n"
     ]
    }
   ],
   "source": [
    "from scipy import stats\n",
    "z_1 = -1.5\n",
    "z_2 = 1.25\n",
    "p = stats.norm.cdf(z_2) - stats.norm.cdf(z_1)\n",
    "print(p)"
   ]
  },
  {
   "cell_type": "code",
   "execution_count": 11,
   "metadata": {},
   "outputs": [
    {
     "data": {
      "image/png": "[encoded data removed]",
      "text/plain": [
       "<Figure size 432x288 with 1 Axes>"
      ]
     },
     "metadata": {
      "needs_background": "light"
     },
     "output_type": "display_data"
    }
   ],
   "source": [
    "from scipy import stats\n",
    "import numpy as np\n",
    "import matplotlib.pyplot as plt\n",
    "\n",
    "def draw_z_score(x, cond, mu=0, sigma=1):\n",
    "    y = stats.norm.pdf(x, mu, sigma)\n",
    "    z = x[cond]\n",
    "    plt.plot(x, y)\n",
    "    plt.fill_between(z, 0, stats.norm.pdf(z, mu, sigma))\n",
    "    plt.show()\n",
    "\n",
    "x = np.arange(-3, 3, 0.001)\n",
    "draw_z_score(x, (z_1<x) & (x<z_2))"
   ]
  },
  {
   "cell_type": "markdown",
   "metadata": {
    "slideshow": {
     "slide_type": "slide"
    }
   },
   "source": [
    "## 5.2. <br/>Normal Distributions: Finding Probabilities"
   ]
  },
  {
   "cell_type": "markdown",
   "metadata": {
    "slideshow": {
     "slide_type": "subslide"
    }
   },
   "source": [
    "### Probability and Normal Distributions\n",
    "\n",
    "- When a random variable $x$ is normally distributed, we can find the probability that $x$ will lie in an interval by calculating the area under the normal curve for the interval. \n",
    "- To find the area under any normal curve, first convert the upper and lower bounds of the interval to $z$-scores. \n",
    "- Then use the standard normal distribution to find the area."
   ]
  },
  {
   "cell_type": "markdown",
   "metadata": {
    "slideshow": {
     "slide_type": "subslide"
    }
   },
   "source": [
    "### Finding Probabilities for Normal Distributions [example 1]\n",
    "\n",
    "- A survey indicates that people keep their cell phone an average of $1.5$ years before buying a new one. \n",
    "- The standard deviation is $0.25$ year. \n",
    "- A cell phone user is selected at random. \n",
    "- Find the probability that the user will keep his or her current phone for less than $1$ year before buying a new one. \n",
    "- Assume that the lengths of time people keep their phone are normally distributed and are represented by the variable $x$."
   ]
  },
  {
   "cell_type": "markdown",
   "metadata": {
    "slideshow": {
     "slide_type": "subslide"
    }
   },
   "source": [
    "### Finding Probabilities for Normal Distributions [solution]\n",
    "\n",
    "![](./image/5_2_example_graph_age_of_cellphone.png)\n",
    "\n",
    "- The figure shows a normal curve with $\\mu = 1.5$, $\\sigma = 0.25$, and the shaded area for $x$ less than $1$.\n",
    "- The $z$-score that corresponds to $1$ year is $z = \\frac{x - \\mu}{\\sigma} = \\frac{1 - 1.5}{0.25} = -2$\n",
    "- The Standard Normal Table shows that $P(z < -2) = 0.0228$. \n",
    "- The probability that the user will keep his or her phone for less than 1 year before buying a new one is 0.0228.\n",
    "- Using SciPy"
   ]
  },
  {
   "cell_type": "code",
   "execution_count": 12,
   "metadata": {
    "slideshow": {
     "slide_type": "-"
    }
   },
   "outputs": [
    {
     "name": "stdout",
     "output_type": "stream",
     "text": [
      "0.022750131948179195\n"
     ]
    }
   ],
   "source": [
    "from scipy import stats\n",
    "z_score = -2\n",
    "p = stats.norm.cdf(z_score)\n",
    "print(p)"
   ]
  },
  {
   "cell_type": "code",
   "execution_count": 13,
   "metadata": {},
   "outputs": [
    {
     "data": {
      "image/png": "[encoded data removed]",
      "text/plain": [
       "<Figure size 432x288 with 1 Axes>"
      ]
     },
     "metadata": {
      "needs_background": "light"
     },
     "output_type": "display_data"
    }
   ],
   "source": [
    "from scipy import stats\n",
    "import numpy as np\n",
    "import matplotlib.pyplot as plt\n",
    "\n",
    "def draw_z_score(x, cond, mu=0, sigma=1):\n",
    "    y = stats.norm.pdf(x, mu, sigma)\n",
    "    z = x[cond]\n",
    "    plt.plot(x, y)\n",
    "    plt.fill_between(z, 0, stats.norm.pdf(z, mu, sigma))\n",
    "    plt.show()\n",
    "\n",
    "x = np.arange(-3, 3, 0.001)\n",
    "draw_z_score(x, x<z_score)"
   ]
  },
  {
   "cell_type": "markdown",
   "metadata": {
    "slideshow": {
     "slide_type": "-"
    }
   },
   "source": [
    "#### Interpretation  \n",
    "\n",
    "- $2.28\\%$ of cell phone users will keep their phone for less than $1$ year before buying a new one. \n",
    "- Because $2.28\\%$ is less than $5\\%$, this is an **unusual event**."
   ]
  },
  {
   "cell_type": "markdown",
   "metadata": {
    "slideshow": {
     "slide_type": "subslide"
    }
   },
   "source": [
    "### Finding Probabilities for Normal Distributions [example 2]\n",
    "\n",
    "- A survey indicates that for each trip to a supermarket, a shopper spends an average of $45$ minutes with a standard deviation of $12$ minutes in the store. \n",
    "- The lengths of time spent in the store are normally distributed and are represented by the variable $x$. \n",
    "- A shopper enters the store:\n",
    "    1. Find the probability that the shopper will be in the store for each interval of time listed below. \n",
    "    2. Interpret your answer when 200 shoppers enter the store. How many shoppers would you expect to be in the store for each interval of time listed below?\n",
    "- Interval of interest:\n",
    "    - Q1: Between 24 and 54 minutes    \n",
    "    - Q2: More than 39 minutes"
   ]
  },
  {
   "cell_type": "markdown",
   "metadata": {
    "slideshow": {
     "slide_type": "subslide"
    }
   },
   "source": [
    "### Finding Probabilities for Normal Distributions [solution]\n",
    "#### Q1: Between 24 and 54 minutes\n",
    "\n",
    "![](./image/5_2_example_supermarket_shopper_a.png)\n",
    "\n",
    "- The figure shows a normal curve with $\\mu = 45$ minutes and $\\sigma = 12$ minutes. \n",
    "- The area for $x$ between $24$ and $54$ minutes is shaded.\n",
    "- The $z$-scores that correspond to $24$ minutes and to $54$ minutes are:\n",
    "    - $z_{1} = \\frac{24 - 45}{12} = -1.75$\n",
    "    - $z_{2} = \\frac{54 - 45}{12} = 0.75$\n",
    "- The probability that a shopper will be in the store between $24$ and $54$ minutes is:\n",
    "\n",
    "$$ \n",
    "\\begin{aligned}\n",
    "P(24 < x < 54)  &= P(-1.75 < z < 0.75) \\\\\n",
    "                &= P(z < 0.75) - P(z < -1.75) \\\\\n",
    "                &= 0.7734 - 0.0401 = 0.7333\n",
    "\\end{aligned}\n",
    "$$\n",
    "\n",
    "- Using SciPy"
   ]
  },
  {
   "cell_type": "code",
   "execution_count": 14,
   "metadata": {},
   "outputs": [
    {
     "name": "stdout",
     "output_type": "stream",
     "text": [
      "0.7333134907593146\n"
     ]
    }
   ],
   "source": [
    "from scipy import stats\n",
    "z_1 = -1.75\n",
    "z_2 = 0.75\n",
    "p = stats.norm.cdf(z_2) - stats.norm.cdf(z_1)\n",
    "print(p)"
   ]
  },
  {
   "cell_type": "code",
   "execution_count": 15,
   "metadata": {},
   "outputs": [
    {
     "data": {
      "image/png": "[encoded data removed]",
      "text/plain": [
       "<Figure size 432x288 with 1 Axes>"
      ]
     },
     "metadata": {
      "needs_background": "light"
     },
     "output_type": "display_data"
    }
   ],
   "source": [
    "from scipy import stats\n",
    "import numpy as np\n",
    "import matplotlib.pyplot as plt\n",
    "\n",
    "def draw_z_score(x, cond, mu=0, sigma=1):\n",
    "    y = stats.norm.pdf(x, mu, sigma)\n",
    "    z = x[cond]\n",
    "    plt.plot(x, y)\n",
    "    plt.fill_between(z, 0, stats.norm.pdf(z, mu, sigma))\n",
    "    plt.show()\n",
    "\n",
    "x = np.arange(-3, 3, 0.001)\n",
    "draw_z_score(x, (z_1<x) & (x<z_2))"
   ]
  },
  {
   "cell_type": "markdown",
   "metadata": {
    "slideshow": {
     "slide_type": "-"
    }
   },
   "source": [
    "#### Interpretation\n",
    "\n",
    "When $200$ shoppers enter the store, you would expect $200 \\times 0.7333 = 146.66$, or about $147$, shoppers to be in the store between $24$ and $54$ minutes."
   ]
  },
  {
   "cell_type": "markdown",
   "metadata": {
    "slideshow": {
     "slide_type": "subslide"
    }
   },
   "source": [
    "#### Q2: More than 39 minutes\n",
    "\n",
    "![](./image/5_2_example_supermarket_shopper_b.png)\n",
    "\n",
    "- The figure at the left shows a normal curve with $\\mu = 45$ minutes and $\\sigma = 12$ minutes. \n",
    "- The area for $x$ greater than $39$ minutes is shaded. \n",
    "- The $z$-score that corresponds to $39$ minutes is: $z = \\frac{39 - 45}{12} = -0.5$\n",
    "- The probability that a shopper will be in the store more than $39$ minutes is:\n",
    "\n",
    "$$ \n",
    "\\begin{aligned}\n",
    "P(x > 39) &= P(z > -0.5) \\\\\n",
    "          &= 1 - P(z < -0.5) \\\\\n",
    "          &= 1 - 0.3085 = 0.6915\n",
    "\\end{aligned}\n",
    "$$\n",
    "\n",
    "- Using SciPy"
   ]
  },
  {
   "cell_type": "code",
   "execution_count": 16,
   "metadata": {},
   "outputs": [
    {
     "name": "stdout",
     "output_type": "stream",
     "text": [
      "0.6914624612740131\n"
     ]
    }
   ],
   "source": [
    "from scipy import stats\n",
    "z_score = -0.5\n",
    "p = 1 - stats.norm.cdf(z_score)\n",
    "print(p)"
   ]
  },
  {
   "cell_type": "code",
   "execution_count": 17,
   "metadata": {},
   "outputs": [
    {
     "data": {
      "image/png": "[encoded data removed]",
      "text/plain": [
       "<Figure size 432x288 with 1 Axes>"
      ]
     },
     "metadata": {
      "needs_background": "light"
     },
     "output_type": "display_data"
    }
   ],
   "source": [
    "from scipy import stats\n",
    "import numpy as np\n",
    "import matplotlib.pyplot as plt\n",
    "\n",
    "def draw_z_score(x, cond, mu=0, sigma=1):\n",
    "    y = stats.norm.pdf(x, mu, sigma)\n",
    "    z = x[cond]\n",
    "    plt.plot(x, y)\n",
    "    plt.fill_between(z, 0, stats.norm.pdf(z, mu, sigma))\n",
    "    plt.show()\n",
    "\n",
    "x = np.arange(-3, 3, 0.001)\n",
    "draw_z_score(x, x>z_score)"
   ]
  },
  {
   "cell_type": "markdown",
   "metadata": {
    "slideshow": {
     "slide_type": "-"
    }
   },
   "source": [
    "#### Interpretation\n",
    "\n",
    "When $200$ shoppers enter the store, you would expect $200 \\times 0.6915 = 138.3$, or about $138$, shoppers to be in the store more than $39$ minutes."
   ]
  },
  {
   "cell_type": "markdown",
   "metadata": {
    "slideshow": {
     "slide_type": "slide"
    }
   },
   "source": [
    "## 5.3 <br/>Normal Distributions: Finding Values"
   ]
  },
  {
   "cell_type": "markdown",
   "metadata": {
    "slideshow": {
     "slide_type": "subslide"
    }
   },
   "source": [
    "### Finding $z$-Scores\n",
    "\n",
    "- We were given a normally distributed random variable $x$ and we found the probability that $x$ would lie in an interval by calculating the area under the normal curve for the interval.\n",
    "- But what if you are given a probability and want to find a value?"
   ]
  },
  {
   "cell_type": "markdown",
   "metadata": {
    "slideshow": {
     "slide_type": "subslide"
    }
   },
   "source": [
    "### Finding a $z$-Score Given an Area [example 1]\n",
    "\n",
    "- Q1: Find the $z$-score that corresponds to a cumulative area of $0.3632$.\n",
    "- Q2: Find the $z$-score that has $10.75\\%$ of the distribution’s area to its right."
   ]
  },
  {
   "cell_type": "markdown",
   "metadata": {
    "slideshow": {
     "slide_type": "subslide"
    }
   },
   "source": [
    "### Finding a $z$-Score Given an Area using the Standard Normal Table [solution]\n",
    "\n",
    "#### Q1: Find the $z$-score that corresponds to a cumulative area of $0.3632$.\n",
    "\n",
    "\n",
    "![](./image/5_3_example_table_given_an_area_a.png)\n",
    "\n",
    "- Find the $z$-score that corresponds to an area of $0.3632$ by locating $0.3632$ in the Standard Normal Table. \n",
    "- The values at the beginning of the corresponding row and at the top of the corresponding column give the $z$-score. \n",
    "- For this area, the row value is $-0.3$ and the column value is $0.05$. \n",
    "- The $z$-score is $-0.35$, as shown in the figure.\n",
    "\n",
    "![](./image/5_3_example_graph_given_an_area_a.png)\n",
    "\n",
    "- Using [$z$-score calculator](https://www.calculator.net/z-score-calculator.html)\n",
    "- Using SciPy"
   ]
  },
  {
   "cell_type": "code",
   "execution_count": 18,
   "metadata": {},
   "outputs": [
    {
     "name": "stdout",
     "output_type": "stream",
     "text": [
      "-0.34991831705262144\n"
     ]
    }
   ],
   "source": [
    "from scipy import stats\n",
    "p = 0.3632\n",
    "z_score = stats.norm.ppf(p)\n",
    "print(z_score)"
   ]
  },
  {
   "cell_type": "code",
   "execution_count": 19,
   "metadata": {},
   "outputs": [
    {
     "data": {
      "image/png": "[encoded data removed]",
      "text/plain": [
       "<Figure size 432x288 with 1 Axes>"
      ]
     },
     "metadata": {
      "needs_background": "light"
     },
     "output_type": "display_data"
    }
   ],
   "source": [
    "from scipy import stats\n",
    "import numpy as np\n",
    "import matplotlib.pyplot as plt\n",
    "\n",
    "def draw_z_score(x, cond, mu=0, sigma=1):\n",
    "    y = stats.norm.pdf(x, mu, sigma)\n",
    "    z = x[cond]\n",
    "    plt.plot(x, y)\n",
    "    plt.fill_between(z, 0, stats.norm.pdf(z, mu, sigma))\n",
    "    plt.show()\n",
    "\n",
    "x = np.arange(-3, 3, 0.001)\n",
    "draw_z_score(x, x<z_score)"
   ]
  },
  {
   "cell_type": "markdown",
   "metadata": {
    "slideshow": {
     "slide_type": "subslide"
    }
   },
   "source": [
    "#### Q2: Find the $z$-score that has $10.75\\%$ of the distribution’s area to its right.\n",
    "\n",
    "![](./image/5_3_example_table_given_an_area_b.png)\n",
    "\n",
    "- Because the area to the right is $10.75\\%$, the cumulative area is $1 - 0.1075 = 0.8925$. \n",
    "- Find the $z$-score that corresponds to an area of $0.8925$ by locating $0.8925$ in the Standard Normal Table. \n",
    "- For this area, the row value is $1.2$ and the column value is $0.04$. \n",
    "- The $z$-score is $1.24$, as shown in the figure.\n",
    "\n",
    "![](./image/5_3_example_graph_given_an_area_b.png)\n",
    "\n",
    "- [$z$-score calculator](https://www.calculator.net/z-score-calculator.html)\n",
    "- Using SciPy"
   ]
  },
  {
   "cell_type": "code",
   "execution_count": 20,
   "metadata": {},
   "outputs": [
    {
     "name": "stdout",
     "output_type": "stream",
     "text": [
      "1.2399334778907378\n"
     ]
    }
   ],
   "source": [
    "from scipy import stats\n",
    "p = 1 - (10.75/100)\n",
    "z_score = stats.norm.ppf(p)\n",
    "print(z_score)"
   ]
  },
  {
   "cell_type": "code",
   "execution_count": 21,
   "metadata": {},
   "outputs": [
    {
     "data": {
      "image/png": "[encoded data removed]",
      "text/plain": [
       "<Figure size 432x288 with 1 Axes>"
      ]
     },
     "metadata": {
      "needs_background": "light"
     },
     "output_type": "display_data"
    }
   ],
   "source": [
    "from scipy import stats\n",
    "import numpy as np\n",
    "import matplotlib.pyplot as plt\n",
    "\n",
    "def draw_z_score(x, cond, mu=0, sigma=1):\n",
    "    y = stats.norm.pdf(x, mu, sigma)\n",
    "    z = x[cond]\n",
    "    plt.plot(x, y)\n",
    "    plt.fill_between(z, 0, stats.norm.pdf(z, mu, sigma))\n",
    "    plt.show()\n",
    "\n",
    "x = np.arange(-3, 3, 0.001)\n",
    "draw_z_score(x, x>z_score)"
   ]
  },
  {
   "cell_type": "markdown",
   "metadata": {
    "slideshow": {
     "slide_type": "subslide"
    }
   },
   "source": [
    "### Finding a $z$-Score Given a Percentile [example 2]\n",
    "\n",
    "Find the $z$-score that corresponds to each percentile:\n",
    "\n",
    "- Q1: $P_{5}$         \n",
    "- Q2: $P_{50}$         \n",
    "- Q3: $P_{90}$"
   ]
  },
  {
   "cell_type": "markdown",
   "metadata": {
    "slideshow": {
     "slide_type": "subslide"
    }
   },
   "source": [
    "### Finding a $z$-Score Given a Percentile [solution]\n",
    "\n",
    "#### Q1: $P_{5}$         \n",
    "\n",
    "- [$z$-score calculator](https://www.calculator.net/z-score-calculator.html)\n",
    "- To find the $z$-score that corresponds to $P_{5}$ , find the $z$-score that corresponds to an area of $0.05$ (see the figure) by locating $0.05$ in the Standard Normal Table. \n",
    "- The areas closest to $0.05$ in the table are $0.0495$ $(z = -1.65)$ and $0.0505$ $(z = -1.64)$. \n",
    "- Because $0.05$ is halfway between the two areas in the table, use the $z$-score that is halfway between $-1.64$ and $-1.65$. \n",
    "- The $z$-score that corresponds to an area of $0.05$ is $-1.645$.\n",
    "\n",
    "![](./image/5_3_example_graph_z_score_percentile_a.png)\n",
    "\n",
    "- Using SciPy"
   ]
  },
  {
   "cell_type": "code",
   "execution_count": 22,
   "metadata": {},
   "outputs": [],
   "source": [
    "from scipy import stats\n",
    "p = 5/100\n",
    "z_score = stats.norm.ppf(p)"
   ]
  },
  {
   "cell_type": "code",
   "execution_count": 23,
   "metadata": {},
   "outputs": [
    {
     "data": {
      "image/png": "[encoded data removed]",
      "text/plain": [
       "<Figure size 432x288 with 1 Axes>"
      ]
     },
     "metadata": {
      "needs_background": "light"
     },
     "output_type": "display_data"
    }
   ],
   "source": [
    "from scipy import stats\n",
    "import numpy as np\n",
    "import matplotlib.pyplot as plt\n",
    "\n",
    "def draw_z_score(x, cond, mu=0, sigma=1):\n",
    "    y = stats.norm.pdf(x, mu, sigma)\n",
    "    z = x[cond]\n",
    "    plt.plot(x, y)\n",
    "    plt.fill_between(z, 0, stats.norm.pdf(z, mu, sigma))\n",
    "    plt.show()\n",
    "\n",
    "x = np.arange(-3, 3, 0.001)\n",
    "draw_z_score(x, x<z_score)"
   ]
  },
  {
   "cell_type": "markdown",
   "metadata": {
    "slideshow": {
     "slide_type": "subslide"
    }
   },
   "source": [
    "#### Q2: $P_{50}$         \n",
    "\n",
    "\n",
    "- [$z$-score calculator](https://www.calculator.net/z-score-calculator.html)\n",
    "- To find the $z$-score that corresponds to $P_{50}$ , find the $z$-score that corresponds to an area of $0.5$ (see the figure) by locating $0.5$ in the Standard Normal Table. \n",
    "- The area closest to $0.5$ in the table is $0.5000$, so the $z$-score that corresponds to an area of $0.5$ is $0$.\n",
    "\n",
    "![](./image/5_3_example_graph_z_score_percentile_b.png)\n",
    "\n",
    "- Using SciPy"
   ]
  },
  {
   "cell_type": "code",
   "execution_count": 24,
   "metadata": {},
   "outputs": [
    {
     "name": "stdout",
     "output_type": "stream",
     "text": [
      "0.0\n"
     ]
    }
   ],
   "source": [
    "from scipy import stats\n",
    "p = 50/100\n",
    "z_score = stats.norm.ppf(p)\n",
    "print(z_score)"
   ]
  },
  {
   "cell_type": "code",
   "execution_count": 25,
   "metadata": {},
   "outputs": [
    {
     "data": {
      "image/png": "[encoded data removed]",
      "text/plain": [
       "<Figure size 432x288 with 1 Axes>"
      ]
     },
     "metadata": {
      "needs_background": "light"
     },
     "output_type": "display_data"
    }
   ],
   "source": [
    "from scipy import stats\n",
    "import numpy as np\n",
    "import matplotlib.pyplot as plt\n",
    "\n",
    "def draw_z_score(x, cond, mu=0, sigma=1):\n",
    "    y = stats.norm.pdf(x, mu, sigma)\n",
    "    z = x[cond]\n",
    "    plt.plot(x, y)\n",
    "    plt.fill_between(z, 0, stats.norm.pdf(z, mu, sigma))\n",
    "    plt.show()\n",
    "\n",
    "x = np.arange(-3, 3, 0.001)\n",
    "draw_z_score(x, x<z_score)"
   ]
  },
  {
   "cell_type": "markdown",
   "metadata": {
    "slideshow": {
     "slide_type": "subslide"
    }
   },
   "source": [
    "#### Q3: $P_{90}$\n",
    "\n",
    "- [$z$-score calculator](https://www.calculator.net/z-score-calculator.html)\n",
    "- To find the $z$-score that corresponds to $P_{90}$ , find the $z$-score that corresponds to an area of $0.9$ (see the figure) by locating $0.9$ in the Standard Normal Table. \n",
    "- The area closest to $0.9$ in the table is $0.8997$\n",
    "- The $z$-score that corresponds to an area of $0.9$ is about $1.28$.\n",
    "\n",
    "![](./image/5_3_example_graph_z_score_percentile_c.png)\n",
    "\n",
    "- Using SciPy"
   ]
  },
  {
   "cell_type": "code",
   "execution_count": 26,
   "metadata": {},
   "outputs": [
    {
     "name": "stdout",
     "output_type": "stream",
     "text": [
      "1.2815515655446004\n"
     ]
    }
   ],
   "source": [
    "from scipy import stats\n",
    "p = 90/100\n",
    "z_score = stats.norm.ppf(p)\n",
    "print(z_score)"
   ]
  },
  {
   "cell_type": "code",
   "execution_count": 27,
   "metadata": {},
   "outputs": [
    {
     "data": {
      "image/png": "[encoded data removed]",
      "text/plain": [
       "<Figure size 432x288 with 1 Axes>"
      ]
     },
     "metadata": {
      "needs_background": "light"
     },
     "output_type": "display_data"
    }
   ],
   "source": [
    "from scipy import stats\n",
    "import numpy as np\n",
    "import matplotlib.pyplot as plt\n",
    "\n",
    "def draw_z_score(x, cond, mu=0, sigma=1):\n",
    "    y = stats.norm.pdf(x, mu, sigma)\n",
    "    z = x[cond]\n",
    "    plt.plot(x, y)\n",
    "    plt.fill_between(z, 0, stats.norm.pdf(z, mu, sigma))\n",
    "    plt.show()\n",
    "\n",
    "x = np.arange(-3, 3, 0.001)\n",
    "draw_z_score(x, x<z_score)"
   ]
  },
  {
   "cell_type": "markdown",
   "metadata": {
    "slideshow": {
     "slide_type": "subslide"
    }
   },
   "source": [
    "### Transforming a $z$-Score to an $x$-Value\n",
    "\n",
    "$$ \n",
    "\\begin{aligned}\n",
    "z &= \\frac{x - \\mu}{\\sigma} \\\\\n",
    "z \\sigma &= x - \\mu \\\\\n",
    "\\mu + z \\sigma &= x \\\\\n",
    "x &= \\mu + z \\sigma\n",
    "\\end{aligned}\n",
    "$$"
   ]
  },
  {
   "cell_type": "markdown",
   "metadata": {
    "slideshow": {
     "slide_type": "subslide"
    }
   },
   "source": [
    "### Finding an $x$-Value Corresponding to a $z$-Score [example 3]\n",
    "\n",
    "- A veterinarian records the weights of cats treated at a clinic. \n",
    "- The weights are normally distributed, with a mean of $9$ pounds and a standard deviation of $2$ pounds. \n",
    "- Find the weights $x$ corresponding to $z$-scores of $1.96$, $-0.44$, and $0$.\n",
    "- Interpret your results."
   ]
  },
  {
   "cell_type": "markdown",
   "metadata": {
    "slideshow": {
     "slide_type": "subslide"
    }
   },
   "source": [
    "### Finding an $x$-Value Corresponding to a $z$-Score [solution]\n",
    "\n",
    "- The $x$-value that corresponds to each standard $z$-score is calculated using the formula $x = \\mu + z \\sigma$. \n",
    "- Note that $\\mu = 9$ and $\\sigma = 2$.\n",
    "\n",
    "$$ \n",
    "\\begin{aligned}\n",
    "z = 1.96 &: x = 9 + 1.96 \\times 2 = 12.92 \\\\\n",
    "z = -0.44 &: x = 9 + (-0.44) \\times 2 = 8.12 \\\\\n",
    "z = 0 &: x = 9 + 0 \\times 2 = 9 \\\\\n",
    "\\end{aligned}\n",
    "$$\n",
    "\n",
    "#### Interpretation  \n",
    "\n",
    "You can see that $12.92$ pounds is above the mean, $8.12$ pounds is below the mean, and $9$ pounds is equal to the mean."
   ]
  },
  {
   "cell_type": "markdown",
   "metadata": {
    "slideshow": {
     "slide_type": "subslide"
    }
   },
   "source": [
    "### Finding a Specific Data Value for a Given Probability\n",
    "\n",
    "We can also use the normal distribution to find a specific data value ($x$-value) for a given probability"
   ]
  },
  {
   "cell_type": "markdown",
   "metadata": {
    "slideshow": {
     "slide_type": "subslide"
    }
   },
   "source": [
    "### Finding a Specific Data Value [example 4]\n",
    "\n",
    "- Scores for the California Peace Officer Standards and Training test are normally distributed, with a mean of $50$ and a standard deviation of $10$. \n",
    "- An agency will only hire applicants with scores in the top $10\\%$. \n",
    "- What is the lowest score an applicant can earn and still be eligible to be hired by the agency?"
   ]
  },
  {
   "cell_type": "markdown",
   "metadata": {
    "slideshow": {
     "slide_type": "subslide"
    }
   },
   "source": [
    "### Finding a Specific Data Value [solution]\n",
    "\n",
    "- Exam scores in the top $10\\%$ correspond to the shaded region shown.\n",
    "\n",
    "![](./image/5_3_california_peace_officer_score_graph.png)\n",
    "\n",
    "- A test score in the top $10\\%$ is any score above the $90^{th}$ percentile. \n",
    "- To find the score that represents the $90^{th}$ percentile, you must first find the $z$-score that corresponds to a cumulative area of $0.9$. \n",
    "- In the Standard Normal Table, the area closest to $0.9$ is $0.8997$.\n",
    "- The $z$-score that corresponds to an area of $0.9$ is $z = 1.28$.\n",
    "- [$z$-score calculator](https://www.calculator.net/z-score-calculator.html)\n",
    "- To find the $x$-value, note that $\\mu = 50$ and $\\sigma = 10$, and use the formula $x = \\mu + z \\sigma = 50 + 1.28 \\times 10 = 62.8$\n",
    "- Using SciPy"
   ]
  },
  {
   "cell_type": "code",
   "execution_count": 28,
   "metadata": {
    "slideshow": {
     "slide_type": "-"
    }
   },
   "outputs": [
    {
     "name": "stdout",
     "output_type": "stream",
     "text": [
      "z-score: 1.2815515655446004 \t x: 62.815515655446006\n"
     ]
    }
   ],
   "source": [
    "from scipy import stats\n",
    "mu = 50\n",
    "std = 10\n",
    "p = 90/100\n",
    "z_score = stats.norm.ppf(p)\n",
    "x = mu + z_score * std\n",
    "print(f'z-score: {z_score} \\t x: {x}')"
   ]
  },
  {
   "cell_type": "code",
   "execution_count": 29,
   "metadata": {},
   "outputs": [
    {
     "data": {
      "image/png": "[encoded data removed]",
      "text/plain": [
       "<Figure size 432x288 with 1 Axes>"
      ]
     },
     "metadata": {
      "needs_background": "light"
     },
     "output_type": "display_data"
    }
   ],
   "source": [
    "from scipy import stats\n",
    "import numpy as np\n",
    "import matplotlib.pyplot as plt\n",
    "\n",
    "def draw_z_score(x, cond, mu=0, sigma=1):\n",
    "    y = stats.norm.pdf(x, mu, sigma)\n",
    "    z = x[cond]\n",
    "    plt.plot(x, y)\n",
    "    plt.fill_between(z, 0, stats.norm.pdf(z, mu, sigma))\n",
    "    plt.show()\n",
    "\n",
    "x = np.arange(-3, 3, 0.001)\n",
    "draw_z_score(x, x>z_score)"
   ]
  },
  {
   "cell_type": "markdown",
   "metadata": {
    "slideshow": {
     "slide_type": "-"
    }
   },
   "source": [
    "#### Interpretation  \n",
    "\n",
    "The lowest score an applicant can earn and still be eligible to be hired by the agency is about $63$."
   ]
  },
  {
   "cell_type": "markdown",
   "metadata": {
    "slideshow": {
     "slide_type": "subslide"
    }
   },
   "source": [
    "### Finding a Specific Data Value [example 5]\n",
    "\n",
    "- In a randomly selected sample of women ages $20 – 34$, the mean total cholesterol level is $181$ milligrams per deciliter with a standard deviation of $37.6$ milligrams per deciliter. \n",
    "- Assume the total cholesterol levels are normally distributed.\n",
    "- Find the highest total cholesterol level a woman in this $20 – 34$ age group can have and still be in the bottom $1\\%$."
   ]
  },
  {
   "cell_type": "markdown",
   "metadata": {
    "slideshow": {
     "slide_type": "subslide"
    }
   },
   "source": [
    "### Finding a Specific Data Value [solution]\n",
    "\n",
    "- Total cholesterol levels in the lowest $1\\%$ correspond to the shaded region shown.\n",
    "\n",
    "![](./image/5_3_cholesterol_levels_in_women_graph.png)\n",
    "\n",
    "- A total cholesterol level in the lowest $1\\%$ is any level below the $1^{st}$ percentile.\n",
    "- To find the level that represents the $1^{st}$ percentile, we must first find the $z$-score that corresponds to a cumulative area of $0.01$. \n",
    "- In the Standard Normal Table, the area closest to $0.01$ is $0.0099$. \n",
    "- The $z$-score that corresponds to an area of $0.01$ is $z = -2.33$. \n",
    "- To find the $x$-value, note that $\\mu = 181$ and $\\sigma = 37.6$, and use the formula $x = \\mu + z \\times \\sigma = 181 + (-2.33) \\times 37.6 \\approx 93.39$.\n",
    "- Using SciPy"
   ]
  },
  {
   "cell_type": "code",
   "execution_count": 30,
   "metadata": {},
   "outputs": [
    {
     "name": "stdout",
     "output_type": "stream",
     "text": [
      "z-score: -2.3263478740408408 \t x: 93.52931993606438\n"
     ]
    }
   ],
   "source": [
    "from scipy import stats\n",
    "mu = 181\n",
    "std = 37.6\n",
    "p = 1/100\n",
    "z_score = stats.norm.ppf(p)\n",
    "x = mu + z_score * std\n",
    "print(f'z-score: {z_score} \\t x: {x}')"
   ]
  },
  {
   "cell_type": "code",
   "execution_count": 39,
   "metadata": {},
   "outputs": [
    {
     "data": {
      "image/png": "[encoded data removed]",
      "text/plain": [
       "<Figure size 432x288 with 1 Axes>"
      ]
     },
     "metadata": {
      "needs_background": "light"
     },
     "output_type": "display_data"
    }
   ],
   "source": [
    "from scipy import stats\n",
    "import numpy as np\n",
    "import matplotlib.pyplot as plt\n",
    "\n",
    "def draw_z_score(x, cond, mu=0, sigma=1):\n",
    "    y = stats.norm.pdf(x, mu, sigma)\n",
    "    z = x[cond]\n",
    "    plt.plot(x, y)\n",
    "    plt.fill_between(z, 0, stats.norm.pdf(z, mu, sigma))\n",
    "    plt.show()\n",
    "\n",
    "x = np.arange(-3, 3, 0.001)\n",
    "draw_z_score(x, x<z_score)"
   ]
  },
  {
   "cell_type": "markdown",
   "metadata": {
    "slideshow": {
     "slide_type": "-"
    }
   },
   "source": [
    "#### Interpretation  \n",
    "\n",
    "The value that separates the lowest $1\\%$ of total cholesterol levels for women in the $20–34$ age group from the highest $99\\%$ is about $93$ milligrams per deciliter."
   ]
  },
  {
   "cell_type": "markdown",
   "metadata": {
    "slideshow": {
     "slide_type": "slide"
    }
   },
   "source": [
    "## 5.4 <br/>Sampling Distributions and the Central Limit Theorem"
   ]
  },
  {
   "cell_type": "markdown",
   "metadata": {
    "slideshow": {
     "slide_type": "subslide"
    }
   },
   "source": [
    "### Sampling Distributions\n",
    "\n",
    "- In this section, you will study the relationship between a population mean and the means of samples taken from the population.\n",
    "- A **sampling distribution** is the probability distribution of a sample statistic that is formed when samples of size $n$ are repeatedly taken from a population.\n",
    "- If the **sample statistic is the sample mean**, then the distribution is the sampling distribution of sample means. \n",
    "- Every sample statistic has a sampling distribution."
   ]
  },
  {
   "cell_type": "markdown",
   "metadata": {
    "slideshow": {
     "slide_type": "subslide"
    }
   },
   "source": [
    "### Sampling Distributions\n",
    "\n",
    "\n",
    "![](./image/5_4_sample_population_venn_diagram.png)\n",
    "\n",
    "- The rectangle represents a large population, and each circle represents a sample of size $n$. \n",
    "- Because the sample entries can differ, the sample means can also differ. \n",
    "- The mean of Sample $1$ is $\\bar{x}_{1}$; the mean of Sample $2$ is $\\bar{x}_{2}$; and so on. \n",
    "- The sampling distribution of the sample means for samples of size $n$ for this population consists of $\\bar{x}_{1}, \\bar{x}_{2}, \\bar{x}_{3},$ and so on. \n",
    "- If the samples are drawn with replacement, then an infinite number of samples can be drawn from the population."
   ]
  },
  {
   "cell_type": "markdown",
   "metadata": {
    "slideshow": {
     "slide_type": "subslide"
    }
   },
   "source": [
    "### Properties of Sampling Distributions of Sample Means\n",
    "\n",
    "1. The mean of the sample means $\\mu_{\\bar{x}}$ is equal to the population mean $\\mu$.<br/>\n",
    "$\\mu_{\\bar{x}} = \\mu$\n",
    "2. The standard deviation of the sample means $\\sigma_{\\bar{x}}$ is equal to the population standard deviation $\\sigma$ divided by the square root of the sample size $n$. <br/>\n",
    "$\\sigma_{\\bar{x}} = \\frac{\\sigma}{\\sqrt{n}}$  <br/><br/>\n",
    "\n",
    "The standard deviation of the sampling distribution of the sample means is called the **standard error of the mean**."
   ]
  },
  {
   "cell_type": "markdown",
   "metadata": {
    "slideshow": {
     "slide_type": "subslide"
    }
   },
   "source": [
    "### A Sampling Distribution of Sample Means [example 1]\n",
    "\n",
    "- You write the population values $\\{51, 3, 5, 76\\}$ on slips of paper and put them in a box. \n",
    "- Then you randomly choose two slips of paper, with replacement. \n",
    "- List all possible samples of size $n = 2$ and calculate the mean of each. \n",
    "- These means form the sampling distribution of the sample means. \n",
    "- Find the mean, variance, and standard deviation of the sample means. \n",
    "- Compare your results with the mean $\\mu = 4$, variance $\\sigma^{2} = 5$, and standard deviation $\\sigma \\approx 2.23$ of the population."
   ]
  },
  {
   "cell_type": "markdown",
   "metadata": {
    "slideshow": {
     "slide_type": "subslide"
    }
   },
   "source": [
    "### A Sampling Distribution of Sample Means [solution]\n",
    "\n",
    "- List all $16$ samples of size $2$ from the population and the mean of each sample.\n",
    "\n",
    "![](./image/5_4_sample_means_example_table.png)\n",
    "\n",
    "![](./image/5_4_probability_distribution_of_sample_means_table.png)\n",
    "\n",
    "- After constructing a probability distribution of the sample means, we can graph the sampling distribution using a probability histogram.\n",
    "- Notice that the shape of the histogram is bell-shaped and symmetric, similar to a normal curve.\n",
    "\n",
    "![](./image/5_4_probability_histogram_of_sampling_distribution.png)\n",
    "\n",
    "The mean, variance, and standard deviation of the $16$ sample means are:\n",
    "\n",
    "- $\\mu_{\\bar{x}} = 4$\n",
    "- $(\\sigma_{\\bar{x}})^{2} = \\frac{5}{2} = 2.5$\n",
    "- $\\sigma_{\\bar{x}} = \\sqrt{2.5} \\approx 1.581$\n",
    "\n",
    "These results satisfy the properties of sampling distributions because:\n",
    "\n",
    "- $\\mu_{\\bar{x}} = \\mu = 4$\n",
    "- $\\sigma_{\\bar{x}} = \\frac{\\sigma}{\\sqrt{n}} = \\frac{\\sqrt{5}}{\\sqrt{2}} \\approx 1.581$\n"
   ]
  },
  {
   "cell_type": "markdown",
   "metadata": {
    "slideshow": {
     "slide_type": "subslide"
    }
   },
   "source": [
    "### The Central Limit Theorem\n",
    "\n",
    "- The Central Limit Theorem forms the foundation for the inferential branch of statistics. \n",
    "- This theorem describes the relationship between the sampling distribution of sample means and the population that the samples are taken from. \n",
    "- The Central Limit Theorem is an important tool that provides the information you will need to use sample statistics to make inferences about a population mean."
   ]
  },
  {
   "cell_type": "markdown",
   "metadata": {
    "slideshow": {
     "slide_type": "subslide"
    }
   },
   "source": [
    "### The Central Limit Theorem\n",
    "\n",
    "1. If samples of size $n$, where $n \\ge 30$, are drawn from any population with a mean m and a standard deviation $\\sigma$, then the sampling distribution of sample means approximates a normal distribution. The greater the sample size, the better the approximation.\n",
    "2. If the population itself is normally distributed, then the sampling distribution of sample means is normally distributed for any sample size $n$. <br/><br/>\n",
    "\n",
    "In either case, the sampling distribution of sample means has a mean equal to the population mean.<br/>\n",
    "$\\mu_{\\bar{x}} = \\mu$ <br/>\n",
    "\n",
    "and a standard deviation equal to the population standard deviation divided by the square root of $n$. <br/>\n",
    "$\\sigma_{\\bar{x}} = \\frac{\\sigma}{\\sqrt{n}}$"
   ]
  },
  {
   "cell_type": "markdown",
   "metadata": {
    "slideshow": {
     "slide_type": "subslide"
    }
   },
   "source": [
    "### The Central Limit Theorem\n",
    "\n",
    "- The distribution of sample means has the same mean as the population. \n",
    "- But its standard deviation is less than the standard deviation of the population. \n",
    "- This tells you that the distribution of sample means has the same center as the population, but it is not as spread out.\n",
    "- The distribution of sample means becomes less and less spread out (tighter concentration about the mean) as the sample size $n$ increases.\n",
    "\n",
    "![](./image/5_4_distribution_of_sample_means.png)"
   ]
  },
  {
   "cell_type": "markdown",
   "metadata": {
    "slideshow": {
     "slide_type": "subslide"
    }
   },
   "source": [
    "### Interpreting the Central Limit Theorem [example 2]\n",
    "\n",
    "- Cell phone bills for residents of a city have a mean of $\\$47$ and a standard deviation of $\\$9$, as shown in the figure. \n",
    "- Random samples of $100$ cell phone bills are drawn from this population, and the mean of each sample is determined.\n",
    "- Find the mean and standard deviation of the sampling distribution of sample means. \n",
    "- Then sketch a graph of the sampling distribution.\n",
    "\n",
    "![](./image/5_4_distribution_of_all_cell_phone_bills.png)"
   ]
  },
  {
   "cell_type": "markdown",
   "metadata": {
    "slideshow": {
     "slide_type": "subslide"
    }
   },
   "source": [
    "### Interpreting the Central Limit Theorem [solution]\n",
    "\n",
    "- The mean of the sampling distribution is equal to the population mean, <br/>\n",
    "**Mean of the sample means**: $\\mu_{\\bar{x}} = \\mu = 47$\n",
    "\n",
    "- and the standard deviation of the sample means is equal to the population standard deviation divided by $\\sqrt{n}$. <br/>\n",
    "**Standard deviation of the sample means**: $\\sigma_{\\bar{x}} = \\frac{\\sigma}{\\sqrt{n}} = \\frac{9}{\\sqrt{100}} = 0.9$\n",
    "\n",
    "#### Interpretation\n",
    "\n",
    "Because the sample size is greater than $30$, the sampling distribution can be approximated by a normal distribution with a mean of $\\$47$ and a standard deviation of $\\$0.9$, as shown in the figure.\n",
    "\n",
    "![](./image/5_4_distribution_of_sample_means_example.png)"
   ]
  },
  {
   "cell_type": "markdown",
   "metadata": {
    "slideshow": {
     "slide_type": "subslide"
    }
   },
   "source": [
    "### Interpreting the Central Limit Theorem [example 3]\n",
    "\n",
    "- Assume the training heart rates of all $20$-year-old athletes are normally distributed, with a mean of $135$ beats per minute and a standard deviation of $18$ beats per minute, as shown in the figure. \n",
    "- Random samples of size $4$ are drawn from this population, and the mean of each sample is determined. \n",
    "- Find the mean and standard deviation of the sampling distribution of sample means.\n",
    "- Then sketch a graph of the sampling distribution.\n",
    "\n",
    "![](./image/5_4_distribution_of_population_training_heart_rates.png)"
   ]
  },
  {
   "cell_type": "markdown",
   "metadata": {
    "slideshow": {
     "slide_type": "subslide"
    }
   },
   "source": [
    "### Interpreting the Central Limit Theorem [solution]\n",
    "\n",
    "- **Mean of the sample means**: $\\mu_{\\bar{x}} = \\mu = 135$ beats per minute\n",
    "- **Standard deviation of the sample means**: $\\sigma_{\\bar{x}} = \\frac{\\sigma}{\\sqrt{n}} = \\frac{18}{\\sqrt{4}} = 9$ beats per minute\n",
    "\n",
    "#### Interpretation  \n",
    "\n",
    "From the Central Limit Theorem, because the population is normally distributed, the sampling distribution of the sample means is also normally distributed, as shown in the figure.\n",
    "\n",
    "![](./image/5_4_distribution_of_sample_means_example_n_4.png)"
   ]
  },
  {
   "cell_type": "markdown",
   "metadata": {
    "slideshow": {
     "slide_type": "subslide"
    }
   },
   "source": [
    "### Probability and the Central Limit Theorem\n",
    "\n",
    "- We can find the probability that a sample mean $\\bar{x}$ will lie in a given interval of the $\\bar{x}$ sampling distribution.\n",
    "- To transform $\\bar{x}$ to a $z$-score, you can use the formula: <br/>\n",
    "$z = \\frac{ \\bar{x} - \\mu_{\\bar{x}} }{ \\sigma_{\\bar{x}} } = \\frac{ \\bar{x} - \\mu }{ \\sigma / \\sqrt{n} }$"
   ]
  },
  {
   "cell_type": "markdown",
   "metadata": {
    "slideshow": {
     "slide_type": "subslide"
    }
   },
   "source": [
    "### Finding Probabilities for Sampling Distributions [examplle 4]\n",
    "\n",
    "- The figure below shows the lengths of time people pend driving each day. \n",
    "- You randomly select $50$ drivers ages $15$ to $19$. \n",
    "- What is the probability that the mean time they spend driving each day is between $24.7$ and $25.5$ minutes?\n",
    "- Assume that $\\sigma = 1.5$ minutes.\n",
    "\n",
    "![](./image/5_4_time_behind_the_wheel.png)"
   ]
  },
  {
   "cell_type": "markdown",
   "metadata": {
    "slideshow": {
     "slide_type": "subslide"
    }
   },
   "source": [
    "### Finding Probabilities for Sampling Distributions [solution]\n",
    "\n",
    "- The sample size is greater than $30$, so you can use the Central Limit Theorem to conclude that the distribution of sample means is approximately normal, with a mean and a standard deviation of: \n",
    "\n",
    "  - $\\mu_{\\bar{x}} = \\mu = 25$ minutes \n",
    "  - $\\sigma_{\\bar{x}} = \\frac{\\sigma}{\\sqrt{n}} = \\frac{1.5}{\\sqrt{50}} \\approx 0.21213$ minutes\n",
    "\n",
    "- The graph of this distribution is shown below with a shaded area between $24.7$ and $25.5$ minutes. \n",
    "  \n",
    "![](./image/5_4_distribution_time_behind_the_wheel.png)\n",
    "\n",
    "- The $z$-scores that correspond to sample means of $24.7$ and $25.5$ minutes are found as shown:\n",
    "  - $z_{1} = \\frac{24.7 - 25}{1.5 / \\sqrt{50}} \\approx -1.41$ \n",
    "  - $z_{2} = \\frac{25.5 - 25}{1.5 / \\sqrt{50}} \\approx 2.36$ \n",
    "\n",
    "![](./image/5_4_z_score_time_behind_the_wheel.png)\n",
    "\n",
    "- the probability that the mean time the $50$ people spend driving each day is between $24.7$ and $25.5$ minutes is:\n",
    "\n",
    "$$\n",
    "\\begin{aligned}\n",
    "P(24.7 < \\bar{x} < 25.5)  &= P( -1.41 < z < 2.36) \\\\\n",
    "                          &= P(z < 2.36) - P(z < -1.41) \\\\\n",
    "                          &= 0.9909 - 0.0793 \\\\\n",
    "                          &= 0.9116\n",
    "\\end{aligned}\n",
    "$$"
   ]
  },
  {
   "cell_type": "code",
   "execution_count": 31,
   "metadata": {},
   "outputs": [
    {
     "data": {
      "text/plain": [
       "0.911592691016035"
      ]
     },
     "execution_count": 31,
     "metadata": {},
     "output_type": "execute_result"
    }
   ],
   "source": [
    "from scipy import stats\n",
    "stats.norm.cdf(2.36) - stats.norm.cdf(-1.41)"
   ]
  },
  {
   "cell_type": "markdown",
   "metadata": {},
   "source": [
    "##### Interpretation  \n",
    "\n",
    "Of the samples of $50$ drivers ages $15$ to $19$, about $91\\%$ wil have a mean driving time that is between $24.7$ and $25.5$ minutes, as shown in the graph at the left. This implies that, assuming the value of $\\mu = 25$ is correct, about $9\\%$ of such sample means will lie outside the given interval."
   ]
  },
  {
   "cell_type": "markdown",
   "metadata": {
    "slideshow": {
     "slide_type": "subslide"
    }
   },
   "source": [
    "### Finding Probabilities for Sampling Distributions [example 5]\n",
    "\n",
    "- The mean room and board expense per year at four-year colleges is $\\$9126$. \n",
    "- You randomly select $9$ four-year colleges. \n",
    "- What is the probability that the mean room and board is less than $\\$9400$? \n",
    "- Assume that the room and board expenses are normally distributed with a standard deviation of $\\$1500$.\n",
    "\n",
    "![](./image/5_4_room_and_board_expense.png)"
   ]
  },
  {
   "cell_type": "markdown",
   "metadata": {
    "slideshow": {
     "slide_type": "subslide"
    }
   },
   "source": [
    "### Finding Probabilities for Sampling Distributions [solution]\n",
    "\n",
    "- Because the population is normally distributed, you can use the Central Limit Theorem to conclude that the distribution of sample means is normally distributed, with a mean and a standard deviation of:\n",
    " - $\\mu_{\\bar{x}} = \\mu = \\$9126$  \n",
    " - $\\sigma_{\\bar{x}} = \\frac{\\sigma}{\\sqrt{n}} = \\frac{\\$1500}{\\sqrt{9}} = \\$500$\n",
    "\n",
    "- The $z$-score that corresponds to $\\$9400$ is:\n",
    "  - $z = \\frac{9400 - 9126}{1500 / \\sqrt{9}} \\approx 0.55$\n",
    "\n",
    "- The probability that the mean room and board expense is less than $\\$9400$ is:\n",
    " - $P(x < 9400) = P(z < 0.55) = 0.7088$"
   ]
  },
  {
   "cell_type": "code",
   "execution_count": 32,
   "metadata": {},
   "outputs": [
    {
     "data": {
      "text/plain": [
       "0.7088403132116536"
      ]
     },
     "execution_count": 32,
     "metadata": {},
     "output_type": "execute_result"
    }
   ],
   "source": [
    "from scipy import stats\n",
    "stats.norm.cdf(0.55)"
   ]
  },
  {
   "cell_type": "markdown",
   "metadata": {},
   "source": [
    "##### Interpretation  \n",
    "\n",
    "So, about $71\\%$ of such samples with $n = 9$ will have a mean less than $\\$9400$ and about $29\\%$ of these sample means will be greater than $\\$9400$."
   ]
  },
  {
   "cell_type": "markdown",
   "metadata": {
    "slideshow": {
     "slide_type": "subslide"
    }
   },
   "source": [
    "### Finding Probabilities for $x$ and $\\bar{x}$ [example 6]\n",
    "\n",
    "The average credit card debt carried by undergraduates is normally distributed,\n",
    "with a mean of $\\$3173$ and a standard deviation of $\\$1120$.\n",
    "\n",
    "- Q1: What is the probability that a randomly selected undergraduate, who is a credit card holder, has a credit card balance less than $\\$2700$?\n",
    "- Q2: You randomly select $25$ undergraduates who are credit card holders. What is the probability that their mean credit card balance is less than $\\$2700$?\n",
    "- Q3: Compare the probabilities from (1) and (2)."
   ]
  },
  {
   "cell_type": "markdown",
   "metadata": {
    "slideshow": {
     "slide_type": "subslide"
    }
   },
   "source": [
    "### Finding Probabilities for $x$ and $\\bar{x}$ [solution]\n",
    "\n",
    "#### Q1: What is the probability that a randomly selected undergraduate, who is a credit card holder, has a credit card balance less than $\\$2700$?\n",
    "\n",
    "\n",
    "- In this case, we are asked to find the probability associated with a certain value of the random variable $x$.\n",
    "- The $z$-score that corresponds to $x = \\$2700$ is: <br/>\n",
    " - $z = \\frac{x - \\mu}{\\sigma} = \\frac{2700 - 3137}{1120} \\approx -0.42$ <br/>\n",
    "\n",
    "- The probability that the card holder has a balance less than $\\$2700$ is:\n",
    " - $P(x < 2700) = P(z < -0.42) = 0.3372.$\n"
   ]
  },
  {
   "cell_type": "code",
   "execution_count": 33,
   "metadata": {},
   "outputs": [
    {
     "data": {
      "text/plain": [
       "0.3372427268482495"
      ]
     },
     "execution_count": 33,
     "metadata": {},
     "output_type": "execute_result"
    }
   ],
   "source": [
    "from scipy import stats\n",
    "stats.norm.cdf(-0.42)"
   ]
  },
  {
   "cell_type": "markdown",
   "metadata": {},
   "source": [
    "#### Q2: You randomly select $25$ undergraduates who are credit card holders. What is the probability that their mean credit card balance is less than $\\$2700$?\n",
    "\n",
    "- Here, you are asked to find the probability associated with a sample mean $x$.\n",
    "- The $z$-score that corresponds to $x = \\$2700$ is:\n",
    " - $z = \\frac{\\bar{x} - \\mu_{\\bar{x}}}{\\sigma_{\\bar{x}}} \n",
    "      = \\frac{\\bar{x}-\\mu_{\\bar{x}}}{\\sigma/\\sqrt{n}}\n",
    "      = \\frac{2700-3173}{1120/\\sqrt{25}}\n",
    "      \\approx -2.11$\n",
    "- The probability that the mean credit card balance of the $25$ card holders is less than $\\$2700$ is:\n",
    " - $P(x < 2700) = P(z < -2.11) = 0.0174$"
   ]
  },
  {
   "cell_type": "code",
   "execution_count": 34,
   "metadata": {},
   "outputs": [
    {
     "data": {
      "text/plain": [
       "0.017429177937657088"
      ]
     },
     "execution_count": 34,
     "metadata": {},
     "output_type": "execute_result"
    }
   ],
   "source": [
    "from scipy import stats\n",
    "stats.norm.cdf(-2.11)"
   ]
  },
  {
   "cell_type": "markdown",
   "metadata": {},
   "source": [
    "#### Q3: Compare the probabilities from (1) and (2).\n",
    "\n",
    "- Although there is about a $34\\%$ chance that an undergraduate will have a balance less than $\\$2700$, there is only about a $2\\%$ chance that the mean of a sample of $25$ undergraduates will have a balance less than $\\$2700$. \n",
    "- Because there is only a $2\\%$ chance that the mean of a sample of $25$ undergraduates will have a balance less than $\\$2700$, this is an unusual event."
   ]
  },
  {
   "cell_type": "markdown",
   "metadata": {
    "slideshow": {
     "slide_type": "slide"
    }
   },
   "source": [
    "## 5.5 <br/>Normal Approximations to Binomial Distributions "
   ]
  },
  {
   "cell_type": "markdown",
   "metadata": {
    "slideshow": {
     "slide_type": "subslide"
    }
   },
   "source": [
    "### Approximating a Binomial Distribution\n",
    "\n",
    "- If $np \\ge 5$ and $nq \\ge 5$, then the binomial random variable $x$ is approximately normally distributed, with:\n",
    " - mean: $\\mu = np$\n",
    " - standard deviation $\\sigma = \\sqrt{npq}$\n",
    "- where $n$ is the number of independent trials, $p$ is the probability of success in a single trial, and $q$ is the probability of failure in a single trial."
   ]
  },
  {
   "cell_type": "markdown",
   "metadata": {
    "slideshow": {
     "slide_type": "subslide"
    }
   },
   "source": [
    "### Approximating a Binomial Distribution\n",
    "\n",
    "- To see why a normal approximation is valid, look at the binomial distributions for $p = 0.25$, $q = 1 - 0.25 = 0.75$, and $n = 4$, $n = 10$, $n = 25$, and $n = 50$ shown below. \n",
    "- Notice that as $n$ increases, the shape of the binomial distribution becomes more similar to a normal distribution.\n",
    "\n",
    "![](./image/5_5_normal_approxiation_to_binomial_distribution.png)"
   ]
  },
  {
   "cell_type": "markdown",
   "metadata": {
    "slideshow": {
     "slide_type": "subslide"
    }
   },
   "source": [
    "### Approximating a Binomial Distribution [example 1]\n",
    "\n",
    "- Two binomial experiments are listed. \n",
    "- Determine whether you can use a normal\n",
    "distribution to approximate the distribution of x, the number of people who reply\n",
    "yes. If you can, find the mean and standard deviation. If you cannot, explain why.\n",
    "\n",
    "#### Q1 \n",
    "- In a survey of $8$- to $18$-year-old heavy media users in the United States, $47\\%$ said they get fair or poor grades (C’s or below). \n",
    "- You randomly select forty-five $8$- to $18$-year-old heavy media users in the United States and ask them whether they get fair or poor grades.\n",
    "\n",
    "#### Q2\n",
    "- In a survey of $8$- to $18$-year-old light media users in the United States, $23\\%$ said they get fair or poor grades (C’s or below). \n",
    "- You randomly select twenty $8$- to $18$-year-old light media users in the United States and ask them whether they get fair or poor grades.\n"
   ]
  },
  {
   "cell_type": "markdown",
   "metadata": {
    "slideshow": {
     "slide_type": "subslide"
    }
   },
   "source": [
    "### Approximating a Binomial Distribution [solution]\n",
    "\n",
    "#### Q1\n",
    "\n",
    "- In this binomial experiment, $n = 45$, $p = 0.47$, and $q = 0.53$. Therefore:\n",
    " - $np = 45 \\times 0.47 = 21.15$\n",
    " - $nq = 45 \\times 0.53 = 23.85$\n",
    " \n",
    "- Because $np$ and $nq$ are greater than $5$, we can use a normal distribution with mean and standard deviation to approximate the distribution of $x$:\n",
    " - $\\mu = np = 21.15$\n",
    " - $\\sigma = \\sqrt{npq} = \\sqrt{45 \\times 0.47 \\times 0.53} \\approx 3.35$\n",
    " \n",
    "#### Q2\n",
    "\n",
    "- In this binomial experiment, $n = 20$, $p = 0.23$, and $q = 0.77$. Therefore:\n",
    " - $np = 20 \\times 0.23 = 4.6$\n",
    " - $nq = 20 \\times 0.77 = 15.4$\n",
    "- Because $np < 5$, we cannot use a normal distribution to approximate the distribution of $x$."
   ]
  },
  {
   "cell_type": "markdown",
   "metadata": {
    "slideshow": {
     "slide_type": "subslide"
    }
   },
   "source": [
    "### Continuity Correction\n",
    "\n",
    "- A binomial distribution is discrete and can be represented by a probability histogram. \n",
    "- To calculate exact binomial probabilities, you can use the binomial formula for each value of $x$ and add the results. \n",
    "- Geometrically, this corresponds to adding the areas of bars in the probability histogram.\n",
    "- Remember that each bar has a width of one unit and x is the midpoint of the interval.\n",
    "- When you use a continuous normal distribution to approximate a binomial probability, you need to move $0.5$ unit to the left and right of the midpoint to include all possible $x$-values in the interval. \n",
    "- When you do this, you are making a **continuity correction**.\n",
    "\n",
    "![](./image/5_5_continuity_correction.png)"
   ]
  },
  {
   "cell_type": "markdown",
   "metadata": {
    "slideshow": {
     "slide_type": "subslide"
    }
   },
   "source": [
    "### Using a Continuity Correction [example 2]\n",
    "\n",
    "Use a continuity correction to convert each binomial probability to a normal distribution probability:\n",
    "\n",
    "- Q1: The probability of getting between $270$ and $310$ successes, inclusive.\n",
    "- Q2: The probability of getting at least $158$ successes\n",
    "- Q3: The probability of getting fewer than $63$ successes"
   ]
  },
  {
   "cell_type": "markdown",
   "metadata": {
    "slideshow": {
     "slide_type": "subslide"
    }
   },
   "source": [
    "### Using a Continuity Correction [solution]\n",
    "\n",
    "#### Q1\n",
    "- The discrete midpoint values are $270, 271, . . ., 310$. \n",
    "- The corresponding interval for the continuous normal distribution is $269.5 < x < 310.5$ and the normal distribution probability is $P(269.5 < x < 310.5)$.\n",
    "\n",
    "#### Q2\n",
    "- The discrete midpoint values are $158, 159, 160, . . .$ \n",
    "- The corresponding interval for the continuous normal distribution is $x > 157.5$ and the normal distribution probability is $P(x > 157.5)$.\n",
    "\n",
    "#### Q3 \n",
    "- The discrete midpoint values are $. . ., 60, 61, 62$. \n",
    "- The corresponding interval for the continuous normal distribution is $x < 62.5$ and the normal distribution probability is $P(x < 62.5)$."
   ]
  },
  {
   "cell_type": "markdown",
   "metadata": {
    "slideshow": {
     "slide_type": "subslide"
    }
   },
   "source": [
    "### Approximating Binomial Probabilities\n",
    "\n",
    "Guidelines for using a Normal Distribution to Approximate Binomial Probabilities:\n",
    "\n",
    "1. Verify that a binomial distribution. \n",
    " - Specify $n$, $p$, and $q$.\n",
    "\n",
    "2. Determine whether you can use a normal distribution to approximate $x$, the binomial variable.\n",
    " - Is $np > 5$?\n",
    " - Is $nq > 5$?\n",
    " \n",
    "3. Find the mean $\\mu$ and standard deviation $\\sigma$ for the distribution.\n",
    " - $\\mu = np$\n",
    " - $\\sigma = \\sqrt{npq}$\n",
    "\n",
    "4. Apply the appropriate continuity correction. Shade the corresponding area under the normal curve.\n",
    " - Add $0.5$ to (or subtract $0.5$ from) the binomial probability.\n",
    "\n",
    "5. Find the corresponding $z$-score(s).\n",
    " - $z = \\frac{x - \\mu}{\\sigma}$\n",
    "\n",
    "6. Find the probability. \n",
    " - Using the Standard Normal Table, $z$-score calculator, or SciPy."
   ]
  },
  {
   "cell_type": "markdown",
   "metadata": {
    "slideshow": {
     "slide_type": "subslide"
    }
   },
   "source": [
    "### Approximating a Binomial Probability [example 3]\n",
    "\n",
    "- In a survey of $8$- to $18$-year-old heavy media users in the United States, $47\\%$ said they get fair or poor grades (C’s or below). \n",
    "- You randomly select forty-five $8$- to $18$-year-old heavy media users in the United States and ask them whether they get fair or poor grades. \n",
    "- What is the probability that fewer than $20$ of them respond yes?"
   ]
  },
  {
   "cell_type": "markdown",
   "metadata": {
    "slideshow": {
     "slide_type": "subslide"
    }
   },
   "source": [
    "### Approximating a Binomial Probability [soliution]\n",
    "\n",
    "- In this binomial experiment, $n = 45$, $p = 0.47$, and $q = 0.53$. Therefore:\n",
    " - $np = 45 \\times 0.47 = 21.15$\n",
    " - $nq = 45 \\times 0.53 = 23.85$\n",
    " \n",
    "- Because $np$ and $nq$ are greater than $5$, we can use a normal distribution with mean and standard deviation to approximate the distribution of $x$:\n",
    " - $\\mu = np = 21.15$\n",
    " - $\\sigma = \\sqrt{npq} = \\sqrt{45 \\times 0.47 \\times 0.53} \\approx 3.35$\n",
    "\n",
    "- Remember to apply the continuity correction for the value $x$. In the binomial distribution, the possible midpoint values for “fewer than 20” are $. . ., 17, 18, 19$.\n",
    "- To use a normal distribution, add $0.5$ to the right-hand boundary $19$ to get $x = 19.5$. \n",
    "- The figure below shows a normal curve with $\\mu = 21.15$, $\\sigma \\approx 3.35$, and the shaded area to the left of $19.5$.\n",
    "\n",
    "![](./image/5_5_heavy_media_users_distribution.png)\n",
    "\n",
    "- The $z$-score that corresponds to $x = 19.5$ is:\n",
    " - $z = \\frac{x - \\mu}{\\sigma} =\\frac{19.5 - 21.15}{3.35} \\approx -0.49$\n",
    "- Using the Standard Normal Table,\n",
    " - P(z < -0.49) = 0.3121$"
   ]
  },
  {
   "cell_type": "code",
   "execution_count": 35,
   "metadata": {},
   "outputs": [
    {
     "data": {
      "text/plain": [
       "0.31206694941739055"
      ]
     },
     "execution_count": 35,
     "metadata": {},
     "output_type": "execute_result"
    }
   ],
   "source": [
    "from scipy import stats\n",
    "stats.norm.cdf(-0.49) "
   ]
  },
  {
   "cell_type": "markdown",
   "metadata": {},
   "source": [
    "#### Interpretation  \n",
    "The probability that fewer than twenty $8$- to $18$-year-olds respond yes is approximately $0.3121$, or about $31.21\\%$."
   ]
  },
  {
   "cell_type": "markdown",
   "metadata": {
    "slideshow": {
     "slide_type": "subslide"
    }
   },
   "source": [
    "### Approximating a Binomial Probability [example 4]\n",
    "\n",
    "- Fifty-eight percent of adults say that they never wear a helmet when riding a bicycle. \n",
    "- You randomly select $200$ adults in the United States and ask them whether they wear a helmet when riding a bicycle. \n",
    "- What is the probability that at least $120$ adults will say they never wear a helmet when riding a bicycle?"
   ]
  },
  {
   "cell_type": "markdown",
   "metadata": {
    "slideshow": {
     "slide_type": "subslide"
    }
   },
   "source": [
    "### Approximating a Binomial Probability [solution]\n",
    "\n",
    "- Because $np = 200 \\times 0.58 = 116$ and $np = 200 \\times 0.42 = 84$, the binomial variable $x$ is approximately normally distributed, with:\n",
    " - $\\mu = np = 116$\n",
    " - $\\sigma = \\sqrt{npq} = \\sqrt{200 \\times 0.58 \\times 0.42} \\approx 6.98.$\n",
    "- Using the continuity correction, we can rewrite the discrete probability $P(x \\ge 120)$ as the continuous probability $P(x > 119.5)$.\n",
    "\n",
    "![](./image/5_5_binomial_probability_wear_a_helmet.png)\n",
    "\n",
    "- The $z$-score that corresponds to $119.5$ is\n",
    " - $z = \\frac{x - \\mu}{\\sigma} = \\frac{x - \\mu}{\\sqrt{npq}} = \\frac{119.5 - 116}{\\sqrt{200 \\times 0.58 \\times 0.42}} \\approx 0.5$\n",
    "\n",
    "- the probability that at least $120$ adults will say \"never\" is approximately $P(x > 119.5) = P(z > 0.5) = 1 - P(z < 0.5) = 1 - 0.6915 = 0.3085$."
   ]
  },
  {
   "cell_type": "code",
   "execution_count": 36,
   "metadata": {},
   "outputs": [
    {
     "data": {
      "text/plain": [
       "0.3085375387259869"
      ]
     },
     "execution_count": 36,
     "metadata": {},
     "output_type": "execute_result"
    }
   ],
   "source": [
    "from scipy import stats\n",
    "1 - stats.norm.cdf(0.5)"
   ]
  },
  {
   "cell_type": "markdown",
   "metadata": {
    "slideshow": {
     "slide_type": "subslide"
    }
   },
   "source": [
    "### Approximating a Binomial Probability [example 5]\n",
    "\n",
    "- A study of National Football League (NFL) retirees, ages $50$ and older, found that $62.4\\%$ have arthritis. \n",
    "- You randomly select $75$ NFL retirees who are at least $50$ years old and ask them whether they have arthritis. \n",
    "- What is the probability that exactly $48$ will say yes?"
   ]
  },
  {
   "cell_type": "markdown",
   "metadata": {
    "slideshow": {
     "slide_type": "subslide"
    }
   },
   "source": [
    "### Approximating a Binomial Probability [solution]\n",
    "\n",
    "- Because $np = 75 \\times 0.624 = 46.8$ and $nq = 75 \\times 0.376 = 28.2$, the binomial variable $x$ is approximately normally distributed, with:\n",
    " - $\\mu = np = 46.8$\n",
    " - $\\sigma = \\sqrt{npq} = \\sqrt{75 \\times 0.624 \\times 0.376} \\approx 4.19$\n",
    "\n",
    "- Using the continuity correction, we can rewrite the discrete probability $P(x = 48)$ as the continuous probability $P(47.5 < x < 48.5)$.\n",
    "\n",
    "![](./image/5_5_binomial_probability_nfl.png)\n",
    "\n",
    "- The $z$-scores that correspond to $47.5$ and $48.5$ are: \n",
    " - $z_{1} = \\frac{47.5 - 46.8}{\\sqrt{75 \\times 0.624 \\times 0.376}} \\approx 0.17$\n",
    " - $z_{2} = \\frac{48.5 - 46.8}{\\sqrt{75 \\times 0.624 \\times 0.376}} \\approx 0.41$\n",
    "\n",
    "- The probability that exactly 48 NFL retirees will say they have arthritis is:\n",
    "\n",
    "$$\n",
    "\\begin{aligned}\n",
    "P(47.5 < x < 48.5)  &= P(0.17 < z < 0.41) \\\\\n",
    "                    &= P(z < 0.41) - P(z < 0.17) \\\\\n",
    "                    &= 0.6591 - 0.5675 \\\\\n",
    "                    &= 0.0916\n",
    "\\end{aligned}\n",
    "$$"
   ]
  },
  {
   "cell_type": "code",
   "execution_count": 37,
   "metadata": {},
   "outputs": [
    {
     "data": {
      "text/plain": [
       "0.09160209455263901"
      ]
     },
     "execution_count": 37,
     "metadata": {},
     "output_type": "execute_result"
    }
   ],
   "source": [
    "from scipy import stats\n",
    "stats.norm.cdf(0.41) - stats.norm.cdf(0.17)"
   ]
  },
  {
   "cell_type": "markdown",
   "metadata": {},
   "source": [
    "#### Interpretation  \n",
    "The probability that exactly $48$ NFL retirees will say they have arthritis is approximately $0.0916$, or about $9.2\\%$."
   ]
  }
 ],
 "metadata": {
  "celltoolbar": "Slideshow",
  "kernelspec": {
   "display_name": "Python 3",
   "language": "python",
   "name": "python3"
  },
  "language_info": {
   "codemirror_mode": {
    "name": "ipython",
    "version": 3
   },
   "file_extension": ".py",
   "mimetype": "text/x-python",
   "name": "python",
   "nbconvert_exporter": "python",
   "pygments_lexer": "ipython3",
   "version": "3.7.6"
  }
 },
 "nbformat": 4,
 "nbformat_minor": 2
}
