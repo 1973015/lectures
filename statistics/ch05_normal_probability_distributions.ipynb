{
 "cells": [
  {
   "cell_type": "markdown",
   "metadata": {
    "slideshow": {
     "slide_type": "slide"
    }
   },
   "source": [
    "## Chapter 05\n",
    "# Normal Probability Distributions\n",
    "\n",
    "Adopted from [\"Elementary Statistics - Picturing the World\" 6th edition](https://www.amazon.com/Elementary-Statistics-Picturing-World-6th/dp/0321911210/)"
   ]
  },
  {
   "cell_type": "markdown",
   "metadata": {
    "slideshow": {
     "slide_type": "slide"
    }
   },
   "source": [
    "## 5.1. <br/>Introduction to Normal Distributions and <br/>the Standard Normal Distribution"
   ]
  },
  {
   "cell_type": "markdown",
   "metadata": {
    "slideshow": {
     "slide_type": "subslide"
    }
   },
   "source": [
    "### Definition of a Normal Distribution\n",
    "\n",
    "- A **normal distribution** is a continuous probability distribution for a random variable $x$. \n",
    "- The graph of a normal distribution is called the **normal curve**."
   ]
  },
  {
   "cell_type": "markdown",
   "metadata": {
    "slideshow": {
     "slide_type": "subslide"
    }
   },
   "source": [
    "### Properties of a Normal Distribution\n",
    "\n",
    "A normal distribution has these properties:\n",
    "\n",
    "1. The mean, median, and mode are equal.\n",
    "2. The normal curve is bell-shaped and is symmetric about the mean.\n",
    "3. The total area under the normal curve is equal to 1.\n",
    "4. The normal curve approaches, but never touches, the $x$-axis as it extends farther and farther away from the mean\n",
    "5. Between $\\mu - \\sigma$ and $\\mu + \\sigma$ (in the center of the curve), the graph curves downward.<br/> The graph curves upward to the left of $\\mu - \\sigma$ and to the right of $\\mu + \\sigma$.<br/> The points at which the curve changes from curving upward to curving downward are called **inflection points**."
   ]
  },
  {
   "cell_type": "markdown",
   "metadata": {
    "slideshow": {
     "slide_type": "subslide"
    }
   },
   "source": [
    "### Properties of a Normal Distribution\n",
    "\n",
    "![](./image/5_1_normal_distribution.png)"
   ]
  },
  {
   "cell_type": "markdown",
   "metadata": {
    "slideshow": {
     "slide_type": "subslide"
    }
   },
   "source": [
    "### Properties of a Normal Distribution\n",
    "- A discrete probability distribution can be graphed with a histogram. \n",
    "- A continuous probability distribution, you can use a probability density function (pdf). \n",
    "- A probability density function has two requirements:\n",
    "    1. the total area under the curve is equal to 1, and \n",
    "    2. the function can never be negative.\n",
    "- Formula for pdf: $y = \\frac{1}{\\sigma \\sqrt{2 \\pi}} e^{-(x-\\mu)^{2}/(2 \\sigma^{2})}$"
   ]
  },
  {
   "cell_type": "markdown",
   "metadata": {
    "slideshow": {
     "slide_type": "subslide"
    }
   },
   "source": [
    "#### Meand and Standard Deviation (recap)\n",
    "\n",
    "![](./image/5_1_mean_and_std.png)"
   ]
  },
  {
   "cell_type": "markdown",
   "metadata": {
    "slideshow": {
     "slide_type": "subslide"
    }
   },
   "source": [
    "### Properties of a Normal Distribution [example]\n",
    "\n",
    "Understanding Mean and Standard Deviation\n",
    "\n",
    "![](./image/5_1_example_understanding_mean_and_std.png)\n",
    "\n",
    "1. Which normal curve has a greater mean?\n",
    "2. Which normal curve has a greater standard deviation?\n"
   ]
  },
  {
   "cell_type": "markdown",
   "metadata": {
    "slideshow": {
     "slide_type": "subslide"
    }
   },
   "source": [
    "### Properties of a Normal Distribution [solution]\n",
    "\n",
    "1. The line of symmetry of curve A occurs at $x = 15$.<br/>The line of symmetry of curve B occurs at $x = 12$.<br/>So, curve A has a greater mean.\n",
    "2. Curve B is more spread out than curve A.<br/>So, curve B has a greater standard deviation."
   ]
  },
  {
   "cell_type": "code",
   "execution_count": null,
   "metadata": {},
   "outputs": [],
   "source": []
  }
 ],
 "metadata": {
  "celltoolbar": "Slideshow",
  "kernelspec": {
   "display_name": "Python 3",
   "language": "python",
   "name": "python3"
  },
  "language_info": {
   "codemirror_mode": {
    "name": "ipython",
    "version": 3
   },
   "file_extension": ".py",
   "mimetype": "text/x-python",
   "name": "python",
   "nbconvert_exporter": "python",
   "pygments_lexer": "ipython3",
   "version": "3.7.4"
  }
 },
 "nbformat": 4,
 "nbformat_minor": 2
}
